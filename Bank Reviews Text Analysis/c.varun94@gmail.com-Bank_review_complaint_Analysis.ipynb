{
 "cells": [
  {
   "cell_type": "markdown",
   "metadata": {},
   "source": [
    "# Importing all Necessary Packages"
   ]
  },
  {
   "cell_type": "code",
   "execution_count": 2,
   "metadata": {
    "_cell_guid": "79c7e3d0-c299-4dcb-8224-4455121ee9b0",
    "_uuid": "d629ff2d2480ee46fbb7e2d37f6b5fab8052498a"
   },
   "outputs": [],
   "source": [
    "# basic packages for data analysis & visualisations\n",
    "import pandas as pd\n",
    "import numpy as np\n",
    "import re\n",
    "import matplotlib.pyplot as plt\n",
    "import seaborn as sns\n",
    "%matplotlib inline\n",
    "from sklearn.cluster import KMeans\n",
    "\n",
    "# packages for ML & text-mining\n",
    "import nltk\n",
    "from sklearn import metrics\n",
    "from textblob import TextBlob\n",
    "from nltk.corpus import stopwords\n",
    "from nltk.stem import WordNetLemmatizer as lmt\n",
    "from nltk.tokenize import word_tokenize\n",
    "from sklearn.naive_bayes import GaussianNB\n",
    "from wordcloud import WordCloud, STOPWORDS\n",
    "from sklearn.model_selection import train_test_split\n",
    "from sklearn.decomposition import LatentDirichletAllocation as LDA\n",
    "from sklearn.feature_extraction.text import TfidfVectorizer, CountVectorizer, TfidfTransformer"
   ]
  },
  {
   "cell_type": "code",
   "execution_count": 3,
   "metadata": {},
   "outputs": [],
   "source": [
    "# read the data\n",
    "brev = pd.read_excel('../input/banks-reviews/PrBankReviews.xlsx')"
   ]
  },
  {
   "cell_type": "code",
   "execution_count": 4,
   "metadata": {},
   "outputs": [
    {
     "data": {
      "text/html": [
       "<div>\n",
       "<style scoped>\n",
       "    .dataframe tbody tr th:only-of-type {\n",
       "        vertical-align: middle;\n",
       "    }\n",
       "\n",
       "    .dataframe tbody tr th {\n",
       "        vertical-align: top;\n",
       "    }\n",
       "\n",
       "    .dataframe thead th {\n",
       "        text-align: right;\n",
       "    }\n",
       "</style>\n",
       "<table border=\"1\" class=\"dataframe\">\n",
       "  <thead>\n",
       "    <tr style=\"text-align: right;\">\n",
       "      <th></th>\n",
       "      <th>Date</th>\n",
       "      <th>Stars</th>\n",
       "      <th>Reviews</th>\n",
       "      <th>BankName</th>\n",
       "    </tr>\n",
       "  </thead>\n",
       "  <tbody>\n",
       "    <tr>\n",
       "      <th>0</th>\n",
       "      <td>2017-04-10</td>\n",
       "      <td>5</td>\n",
       "      <td>Great job, Wyndham Capital! Each person was pr...</td>\n",
       "      <td>Wyndham Capital Mortgage</td>\n",
       "    </tr>\n",
       "    <tr>\n",
       "      <th>1</th>\n",
       "      <td>2017-02-10</td>\n",
       "      <td>5</td>\n",
       "      <td>Matthew Richardson is professional and helpful...</td>\n",
       "      <td>Wyndham Capital Mortgage</td>\n",
       "    </tr>\n",
       "    <tr>\n",
       "      <th>2</th>\n",
       "      <td>2017-08-21</td>\n",
       "      <td>5</td>\n",
       "      <td>We had a past experience with Wyndham Mortgage...</td>\n",
       "      <td>Wyndham Capital Mortgage</td>\n",
       "    </tr>\n",
       "    <tr>\n",
       "      <th>3</th>\n",
       "      <td>2017-12-17</td>\n",
       "      <td>5</td>\n",
       "      <td>We have been dealing with Brad Thomka from the...</td>\n",
       "      <td>Wyndham Capital Mortgage</td>\n",
       "    </tr>\n",
       "    <tr>\n",
       "      <th>4</th>\n",
       "      <td>2016-05-27</td>\n",
       "      <td>5</td>\n",
       "      <td>I can't express how grateful I am for the supp...</td>\n",
       "      <td>Wyndham Capital Mortgage</td>\n",
       "    </tr>\n",
       "  </tbody>\n",
       "</table>\n",
       "</div>"
      ],
      "text/plain": [
       "        Date  Stars                                            Reviews  \\\n",
       "0 2017-04-10      5  Great job, Wyndham Capital! Each person was pr...   \n",
       "1 2017-02-10      5  Matthew Richardson is professional and helpful...   \n",
       "2 2017-08-21      5  We had a past experience with Wyndham Mortgage...   \n",
       "3 2017-12-17      5  We have been dealing with Brad Thomka from the...   \n",
       "4 2016-05-27      5  I can't express how grateful I am for the supp...   \n",
       "\n",
       "                   BankName  \n",
       "0  Wyndham Capital Mortgage  \n",
       "1  Wyndham Capital Mortgage  \n",
       "2  Wyndham Capital Mortgage  \n",
       "3  Wyndham Capital Mortgage  \n",
       "4  Wyndham Capital Mortgage  "
      ]
     },
     "execution_count": 4,
     "metadata": {},
     "output_type": "execute_result"
    }
   ],
   "source": [
    "brev.head()"
   ]
  },
  {
   "cell_type": "code",
   "execution_count": 5,
   "metadata": {},
   "outputs": [
    {
     "name": "stdout",
     "output_type": "stream",
     "text": [
      "<class 'pandas.core.frame.DataFrame'>\n",
      "RangeIndex: 505 entries, 0 to 504\n",
      "Data columns (total 4 columns):\n",
      "Date        505 non-null datetime64[ns]\n",
      "Stars       505 non-null int64\n",
      "Reviews     505 non-null object\n",
      "BankName    505 non-null object\n",
      "dtypes: datetime64[ns](1), int64(1), object(2)\n",
      "memory usage: 15.9+ KB\n"
     ]
    }
   ],
   "source": [
    "brev.info()"
   ]
  },
  {
   "cell_type": "markdown",
   "metadata": {},
   "source": [
    "# Exploratory Data Analysis"
   ]
  },
  {
   "cell_type": "code",
   "execution_count": 6,
   "metadata": {},
   "outputs": [
    {
     "data": {
      "text/plain": [
       "'I had the pleasure of working with Wyndham Capital in September 2018 as my family and I were making a home purchase in Columbus, OH. From the original conversation with the loan officer to underwriting and all the way through closing, the entire team from Wyndham was very responsive and professional. I was VERY impressed with how smooth their process was and how timely the communication was given how stressful of a process home buying (and selling) can be'"
      ]
     },
     "execution_count": 6,
     "metadata": {},
     "output_type": "execute_result"
    }
   ],
   "source": [
    "# random review text\n",
    "brev.Reviews[5]"
   ]
  },
  {
   "cell_type": "code",
   "execution_count": 7,
   "metadata": {},
   "outputs": [],
   "source": [
    "# extracting month & year from date var\n",
    "brev['year'] = brev.Date.apply(lambda d : d.year)\n",
    "brev['month'] = brev.Date.apply(lambda d : d.month)"
   ]
  },
  {
   "cell_type": "code",
   "execution_count": 8,
   "metadata": {},
   "outputs": [
    {
     "data": {
      "text/plain": [
       "(-1.25, 1.25, -1.25, 1.25)"
      ]
     },
     "execution_count": 8,
     "metadata": {},
     "output_type": "execute_result"
    },
    {
     "data": {
      "image/png": "[encoded data removed]",
      "text/plain": [
       "<Figure size 1008x504 with 1 Axes>"
      ]
     },
     "metadata": {},
     "output_type": "display_data"
    }
   ],
   "source": [
    "# pie plot showing banks of which reviews have been written\n",
    "sns.set(style='whitegrid')\n",
    "brev.BankName.value_counts().plot(kind='pie', title='Bank Count', autopct='%.2f%%', figsize=(14,7), shadow=True, explode=[0.1,0,0,0,0,0,0])\n",
    "plt.axis('off')"
   ]
  },
  {
   "cell_type": "markdown",
   "metadata": {},
   "source": [
    "**From the pie plot it is clear that **\n",
    "\n",
    "* 38% of the reviews are of North American Savings Bank\n",
    "    * this also indicates most reviewers are customers of North American bank\n",
    "\n",
    "\n",
    "* the second highest is that of Guaranteed Rate inc. followed by Triumph Lending and Reliance Capital\n",
    "\n",
    "* Whyndham Capital has least reviews"
   ]
  },
  {
   "cell_type": "code",
   "execution_count": 9,
   "metadata": {},
   "outputs": [
    {
     "data": {
      "image/png": "[encoded data removed]",
      "text/plain": [
       "<Figure size 432x288 with 1 Axes>"
      ]
     },
     "metadata": {},
     "output_type": "display_data"
    }
   ],
   "source": [
    "#sns.countplot(brev.Stars)\n",
    "ax = brev.Stars.value_counts().plot.bar(color='Purple',title='Star Rating Frequency')"
   ]
  },
  {
   "cell_type": "markdown",
   "metadata": {},
   "source": [
    "The plot indicates that most of the reviewers rated 5 starts to their banks, while only few gave 1 star rating"
   ]
  },
  {
   "cell_type": "code",
   "execution_count": 10,
   "metadata": {},
   "outputs": [
    {
     "data": {
      "text/plain": [
       "Text(0.5, 0, '')"
      ]
     },
     "execution_count": 10,
     "metadata": {},
     "output_type": "execute_result"
    },
    {
     "data": {
      "image/png": "[encoded data removed]",
      "text/plain": [
       "<Figure size 648x360 with 1 Axes>"
      ]
     },
     "metadata": {},
     "output_type": "display_data"
    }
   ],
   "source": [
    "# plot showing bank-wise star ratings\n",
    "brev.groupby('BankName').Stars.value_counts().unstack().plot(kind='bar', title = 'Star Ratings Bank-wise', color=['Orange','Green'], figsize=(9,5))\n",
    "plt.xlabel('')"
   ]
  },
  {
   "cell_type": "markdown",
   "metadata": {},
   "source": [
    "**From the above plot we can infer that**\n",
    "* Loan Snap & Triumph Lending have no negative reviews / 1 stars\n",
    "* No bank has negative reviews / 1 star more than 5 stars\n",
    "* In terms of absolute numbers - North American Bank has most 1 star rating, however its 5 star rating frequency towers other bank's"
   ]
  },
  {
   "cell_type": "code",
   "execution_count": 11,
   "metadata": {},
   "outputs": [
    {
     "data": {
      "text/plain": [
       "Text(0.5, 1.0, 'Monthly Review Counts (Year wise)')"
      ]
     },
     "execution_count": 11,
     "metadata": {},
     "output_type": "execute_result"
    },
    {
     "data": {
      "image/png": "[encoded data removed]",
      "text/plain": [
       "<Figure size 864x360 with 1 Axes>"
      ]
     },
     "metadata": {},
     "output_type": "display_data"
    }
   ],
   "source": [
    "# plot showing review distribution over time period\n",
    "df1 = brev.groupby(['month','year']).Reviews.count().unstack()\n",
    "df1.plot(kind='bar', figsize=(12,5))\n",
    "plt.title('Monthly Review Counts (Year wise)')"
   ]
  },
  {
   "cell_type": "markdown",
   "metadata": {},
   "source": [
    "**From the plot we conclude that**\n",
    "* Most reviews were given in the month of May and December\n",
    "* for the year 2018, reviews are available only for January\n",
    "* In general, most reviews were given throughout the year 2017"
   ]
  },
  {
   "cell_type": "code",
   "execution_count": 12,
   "metadata": {},
   "outputs": [],
   "source": [
    "#STOPWORDS from NLTK\n",
    "stopeng = set(stopwords.words('english'))  # stopeng contains all english stopwords from NLTK lib."
   ]
  },
  {
   "cell_type": "code",
   "execution_count": 13,
   "metadata": {},
   "outputs": [],
   "source": [
    "dfrev = brev.copy()\n",
    "#dfrev['Reviews'] = dfrev.Reviews.astype(str)\n",
    "\n",
    "# word count\n",
    "dfrev['Word Count'] = dfrev.Reviews.apply(lambda t : len(str(t).split()))\n",
    "\n",
    "#title case words\n",
    "dfrev['Title words'] = dfrev.Reviews.apply(lambda t :len([w for w in str(t).split() if w.istitle()]))\n",
    "\n",
    "#upper case words count\n",
    "dfrev['UpperCase words'] = dfrev.Reviews.apply(lambda t :len([w for w in str(t).split() if w.isupper()]))\n",
    "\n",
    "#upper case words count\n",
    "dfrev['LowerCase words'] = dfrev.Reviews.apply(lambda t :len([w for w in str(t).split() if w.islower()]))\n",
    "\n",
    "# numeric count\n",
    "dfrev['Digit Count'] = dfrev.Reviews.apply(lambda t :len([w for w in t.split() if w.isdigit()]))\n",
    "\n",
    "#converting all to lower case\n",
    "dfrev['Reviews'] = dfrev.Reviews.apply(lambda t : t.lower())\n",
    "\n",
    "# unique word count\n",
    "dfrev['Unique Word'] = dfrev.Reviews.apply(lambda t : len(set(t.split())))\n",
    "\n",
    "#stopwords count\n",
    "dfrev['Stopwrd Count'] = dfrev.Reviews.apply(lambda t : len([w for w in str(t).split() if w in stopeng]))"
   ]
  },
  {
   "cell_type": "code",
   "execution_count": 14,
   "metadata": {},
   "outputs": [],
   "source": [
    "#mapping different parts of speech available under textblob\n",
    "pos = {'noun'      :['NN','NNS','NNP','NNPS'],\n",
    "       'verb'      :['VB','VBD','VBG','VBN','VBP','VBZ'],\n",
    "       'pronoun'   :['PRP','PRP$','WP','WP$'],\n",
    "       'adverb'    :['RB','RBR','RBS','WRB'],\n",
    "       'adjective' :['JJ','JJR','JJS']}\n",
    "\n",
    "def postag(t, part):   #UDF for counting tags\n",
    "    c=0\n",
    "    tt = TextBlob(t)\n",
    "    for i in tt.tags:\n",
    "        j=list(i)[1]\n",
    "        if j in pos[part]:\n",
    "            c=c+1\n",
    "    return c\n",
    "\n",
    "dfrev['nn_count']   = dfrev['Reviews'].apply(lambda x: postag(x, 'noun'))\n",
    "dfrev['vb_count']   = dfrev['Reviews'].apply(lambda x: postag(x, 'verb'))\n",
    "dfrev['adj_count']  = dfrev['Reviews'].apply(lambda x: postag(x, 'pronoun'))\n",
    "dfrev['adv_count']  = dfrev['Reviews'].apply(lambda x: postag(x, 'adverb'))\n",
    "dfrev['prn_count']  = dfrev['Reviews'].apply(lambda x: postag(x, 'adjective'))"
   ]
  },
  {
   "cell_type": "code",
   "execution_count": 15,
   "metadata": {},
   "outputs": [
    {
     "data": {
      "text/html": [
       "<div>\n",
       "<style scoped>\n",
       "    .dataframe tbody tr th:only-of-type {\n",
       "        vertical-align: middle;\n",
       "    }\n",
       "\n",
       "    .dataframe tbody tr th {\n",
       "        vertical-align: top;\n",
       "    }\n",
       "\n",
       "    .dataframe thead th {\n",
       "        text-align: right;\n",
       "    }\n",
       "</style>\n",
       "<table border=\"1\" class=\"dataframe\">\n",
       "  <thead>\n",
       "    <tr style=\"text-align: right;\">\n",
       "      <th></th>\n",
       "      <th>Date</th>\n",
       "      <th>Stars</th>\n",
       "      <th>Reviews</th>\n",
       "      <th>BankName</th>\n",
       "      <th>year</th>\n",
       "      <th>month</th>\n",
       "      <th>Word Count</th>\n",
       "      <th>Title words</th>\n",
       "      <th>UpperCase words</th>\n",
       "      <th>LowerCase words</th>\n",
       "      <th>Digit Count</th>\n",
       "      <th>Unique Word</th>\n",
       "      <th>Stopwrd Count</th>\n",
       "      <th>nn_count</th>\n",
       "      <th>vb_count</th>\n",
       "      <th>adj_count</th>\n",
       "      <th>adv_count</th>\n",
       "      <th>prn_count</th>\n",
       "    </tr>\n",
       "  </thead>\n",
       "  <tbody>\n",
       "    <tr>\n",
       "      <th>0</th>\n",
       "      <td>2017-04-10</td>\n",
       "      <td>5</td>\n",
       "      <td>great job, wyndham capital! each person was pr...</td>\n",
       "      <td>Wyndham Capital Mortgage</td>\n",
       "      <td>2017</td>\n",
       "      <td>4</td>\n",
       "      <td>19</td>\n",
       "      <td>5</td>\n",
       "      <td>0</td>\n",
       "      <td>14</td>\n",
       "      <td>0</td>\n",
       "      <td>19</td>\n",
       "      <td>5</td>\n",
       "      <td>6</td>\n",
       "      <td>3</td>\n",
       "      <td>3</td>\n",
       "      <td>1</td>\n",
       "      <td>3</td>\n",
       "    </tr>\n",
       "    <tr>\n",
       "      <th>1</th>\n",
       "      <td>2017-02-10</td>\n",
       "      <td>5</td>\n",
       "      <td>matthew richardson is professional and helpful...</td>\n",
       "      <td>Wyndham Capital Mortgage</td>\n",
       "      <td>2017</td>\n",
       "      <td>2</td>\n",
       "      <td>25</td>\n",
       "      <td>5</td>\n",
       "      <td>0</td>\n",
       "      <td>20</td>\n",
       "      <td>0</td>\n",
       "      <td>23</td>\n",
       "      <td>10</td>\n",
       "      <td>7</td>\n",
       "      <td>3</td>\n",
       "      <td>4</td>\n",
       "      <td>2</td>\n",
       "      <td>4</td>\n",
       "    </tr>\n",
       "    <tr>\n",
       "      <th>2</th>\n",
       "      <td>2017-08-21</td>\n",
       "      <td>5</td>\n",
       "      <td>we had a past experience with wyndham mortgage...</td>\n",
       "      <td>Wyndham Capital Mortgage</td>\n",
       "      <td>2017</td>\n",
       "      <td>8</td>\n",
       "      <td>79</td>\n",
       "      <td>14</td>\n",
       "      <td>0</td>\n",
       "      <td>64</td>\n",
       "      <td>0</td>\n",
       "      <td>62</td>\n",
       "      <td>31</td>\n",
       "      <td>19</td>\n",
       "      <td>11</td>\n",
       "      <td>8</td>\n",
       "      <td>8</td>\n",
       "      <td>8</td>\n",
       "    </tr>\n",
       "    <tr>\n",
       "      <th>3</th>\n",
       "      <td>2017-12-17</td>\n",
       "      <td>5</td>\n",
       "      <td>we have been dealing with brad thomka from the...</td>\n",
       "      <td>Wyndham Capital Mortgage</td>\n",
       "      <td>2017</td>\n",
       "      <td>12</td>\n",
       "      <td>108</td>\n",
       "      <td>18</td>\n",
       "      <td>0</td>\n",
       "      <td>88</td>\n",
       "      <td>0</td>\n",
       "      <td>76</td>\n",
       "      <td>49</td>\n",
       "      <td>25</td>\n",
       "      <td>18</td>\n",
       "      <td>11</td>\n",
       "      <td>7</td>\n",
       "      <td>12</td>\n",
       "    </tr>\n",
       "    <tr>\n",
       "      <th>4</th>\n",
       "      <td>2016-05-27</td>\n",
       "      <td>5</td>\n",
       "      <td>i can't express how grateful i am for the supp...</td>\n",
       "      <td>Wyndham Capital Mortgage</td>\n",
       "      <td>2016</td>\n",
       "      <td>5</td>\n",
       "      <td>59</td>\n",
       "      <td>9</td>\n",
       "      <td>3</td>\n",
       "      <td>50</td>\n",
       "      <td>0</td>\n",
       "      <td>47</td>\n",
       "      <td>30</td>\n",
       "      <td>18</td>\n",
       "      <td>8</td>\n",
       "      <td>5</td>\n",
       "      <td>4</td>\n",
       "      <td>6</td>\n",
       "    </tr>\n",
       "    <tr>\n",
       "      <th>...</th>\n",
       "      <td>...</td>\n",
       "      <td>...</td>\n",
       "      <td>...</td>\n",
       "      <td>...</td>\n",
       "      <td>...</td>\n",
       "      <td>...</td>\n",
       "      <td>...</td>\n",
       "      <td>...</td>\n",
       "      <td>...</td>\n",
       "      <td>...</td>\n",
       "      <td>...</td>\n",
       "      <td>...</td>\n",
       "      <td>...</td>\n",
       "      <td>...</td>\n",
       "      <td>...</td>\n",
       "      <td>...</td>\n",
       "      <td>...</td>\n",
       "      <td>...</td>\n",
       "    </tr>\n",
       "    <tr>\n",
       "      <th>500</th>\n",
       "      <td>2016-02-06</td>\n",
       "      <td>1</td>\n",
       "      <td>\\r\\ni never write reviews but had to this time...</td>\n",
       "      <td>North American Savings Bank</td>\n",
       "      <td>2016</td>\n",
       "      <td>2</td>\n",
       "      <td>455</td>\n",
       "      <td>49</td>\n",
       "      <td>26</td>\n",
       "      <td>402</td>\n",
       "      <td>0</td>\n",
       "      <td>220</td>\n",
       "      <td>242</td>\n",
       "      <td>120</td>\n",
       "      <td>102</td>\n",
       "      <td>33</td>\n",
       "      <td>18</td>\n",
       "      <td>34</td>\n",
       "    </tr>\n",
       "    <tr>\n",
       "      <th>501</th>\n",
       "      <td>2016-07-25</td>\n",
       "      <td>1</td>\n",
       "      <td>\\r\\nit all started when bob g ran a credit che...</td>\n",
       "      <td>North American Savings Bank</td>\n",
       "      <td>2016</td>\n",
       "      <td>7</td>\n",
       "      <td>164</td>\n",
       "      <td>22</td>\n",
       "      <td>13</td>\n",
       "      <td>135</td>\n",
       "      <td>2</td>\n",
       "      <td>106</td>\n",
       "      <td>80</td>\n",
       "      <td>36</td>\n",
       "      <td>40</td>\n",
       "      <td>14</td>\n",
       "      <td>12</td>\n",
       "      <td>8</td>\n",
       "    </tr>\n",
       "    <tr>\n",
       "      <th>502</th>\n",
       "      <td>2017-09-27</td>\n",
       "      <td>1</td>\n",
       "      <td>\\r\\nwhat a horrible experience. we have excell...</td>\n",
       "      <td>North American Savings Bank</td>\n",
       "      <td>2017</td>\n",
       "      <td>9</td>\n",
       "      <td>135</td>\n",
       "      <td>6</td>\n",
       "      <td>2</td>\n",
       "      <td>125</td>\n",
       "      <td>1</td>\n",
       "      <td>107</td>\n",
       "      <td>63</td>\n",
       "      <td>27</td>\n",
       "      <td>22</td>\n",
       "      <td>11</td>\n",
       "      <td>17</td>\n",
       "      <td>16</td>\n",
       "    </tr>\n",
       "    <tr>\n",
       "      <th>503</th>\n",
       "      <td>2017-12-24</td>\n",
       "      <td>1</td>\n",
       "      <td>\\r\\nrep was extremely professional, friendly, ...</td>\n",
       "      <td>North American Savings Bank</td>\n",
       "      <td>2017</td>\n",
       "      <td>12</td>\n",
       "      <td>211</td>\n",
       "      <td>25</td>\n",
       "      <td>17</td>\n",
       "      <td>179</td>\n",
       "      <td>0</td>\n",
       "      <td>141</td>\n",
       "      <td>103</td>\n",
       "      <td>47</td>\n",
       "      <td>43</td>\n",
       "      <td>20</td>\n",
       "      <td>19</td>\n",
       "      <td>20</td>\n",
       "    </tr>\n",
       "    <tr>\n",
       "      <th>504</th>\n",
       "      <td>2017-03-19</td>\n",
       "      <td>1</td>\n",
       "      <td>\\r\\ni was working with a loan consultant from ...</td>\n",
       "      <td>North American Savings Bank</td>\n",
       "      <td>2017</td>\n",
       "      <td>3</td>\n",
       "      <td>205</td>\n",
       "      <td>16</td>\n",
       "      <td>13</td>\n",
       "      <td>176</td>\n",
       "      <td>1</td>\n",
       "      <td>110</td>\n",
       "      <td>115</td>\n",
       "      <td>45</td>\n",
       "      <td>38</td>\n",
       "      <td>23</td>\n",
       "      <td>8</td>\n",
       "      <td>15</td>\n",
       "    </tr>\n",
       "  </tbody>\n",
       "</table>\n",
       "<p>505 rows × 18 columns</p>\n",
       "</div>"
      ],
      "text/plain": [
       "          Date  Stars                                            Reviews  \\\n",
       "0   2017-04-10      5  great job, wyndham capital! each person was pr...   \n",
       "1   2017-02-10      5  matthew richardson is professional and helpful...   \n",
       "2   2017-08-21      5  we had a past experience with wyndham mortgage...   \n",
       "3   2017-12-17      5  we have been dealing with brad thomka from the...   \n",
       "4   2016-05-27      5  i can't express how grateful i am for the supp...   \n",
       "..         ...    ...                                                ...   \n",
       "500 2016-02-06      1  \\r\\ni never write reviews but had to this time...   \n",
       "501 2016-07-25      1  \\r\\nit all started when bob g ran a credit che...   \n",
       "502 2017-09-27      1  \\r\\nwhat a horrible experience. we have excell...   \n",
       "503 2017-12-24      1  \\r\\nrep was extremely professional, friendly, ...   \n",
       "504 2017-03-19      1  \\r\\ni was working with a loan consultant from ...   \n",
       "\n",
       "                        BankName  year  month  Word Count  Title words  \\\n",
       "0       Wyndham Capital Mortgage  2017      4          19            5   \n",
       "1       Wyndham Capital Mortgage  2017      2          25            5   \n",
       "2       Wyndham Capital Mortgage  2017      8          79           14   \n",
       "3       Wyndham Capital Mortgage  2017     12         108           18   \n",
       "4       Wyndham Capital Mortgage  2016      5          59            9   \n",
       "..                           ...   ...    ...         ...          ...   \n",
       "500  North American Savings Bank  2016      2         455           49   \n",
       "501  North American Savings Bank  2016      7         164           22   \n",
       "502  North American Savings Bank  2017      9         135            6   \n",
       "503  North American Savings Bank  2017     12         211           25   \n",
       "504  North American Savings Bank  2017      3         205           16   \n",
       "\n",
       "     UpperCase words  LowerCase words  Digit Count  Unique Word  \\\n",
       "0                  0               14            0           19   \n",
       "1                  0               20            0           23   \n",
       "2                  0               64            0           62   \n",
       "3                  0               88            0           76   \n",
       "4                  3               50            0           47   \n",
       "..               ...              ...          ...          ...   \n",
       "500               26              402            0          220   \n",
       "501               13              135            2          106   \n",
       "502                2              125            1          107   \n",
       "503               17              179            0          141   \n",
       "504               13              176            1          110   \n",
       "\n",
       "     Stopwrd Count  nn_count  vb_count  adj_count  adv_count  prn_count  \n",
       "0                5         6         3          3          1          3  \n",
       "1               10         7         3          4          2          4  \n",
       "2               31        19        11          8          8          8  \n",
       "3               49        25        18         11          7         12  \n",
       "4               30        18         8          5          4          6  \n",
       "..             ...       ...       ...        ...        ...        ...  \n",
       "500            242       120       102         33         18         34  \n",
       "501             80        36        40         14         12          8  \n",
       "502             63        27        22         11         17         16  \n",
       "503            103        47        43         20         19         20  \n",
       "504            115        45        38         23          8         15  \n",
       "\n",
       "[505 rows x 18 columns]"
      ]
     },
     "execution_count": 15,
     "metadata": {},
     "output_type": "execute_result"
    }
   ],
   "source": [
    "dfrev"
   ]
  },
  {
   "cell_type": "markdown",
   "metadata": {},
   "source": [
    "# Reviews Sentiment Analysis"
   ]
  },
  {
   "cell_type": "code",
   "execution_count": 16,
   "metadata": {},
   "outputs": [
    {
     "data": {
      "text/html": [
       "<div>\n",
       "<style scoped>\n",
       "    .dataframe tbody tr th:only-of-type {\n",
       "        vertical-align: middle;\n",
       "    }\n",
       "\n",
       "    .dataframe tbody tr th {\n",
       "        vertical-align: top;\n",
       "    }\n",
       "\n",
       "    .dataframe thead th {\n",
       "        text-align: right;\n",
       "    }\n",
       "</style>\n",
       "<table border=\"1\" class=\"dataframe\">\n",
       "  <thead>\n",
       "    <tr style=\"text-align: right;\">\n",
       "      <th></th>\n",
       "      <th>Stars</th>\n",
       "      <th>Reviews</th>\n",
       "    </tr>\n",
       "  </thead>\n",
       "  <tbody>\n",
       "    <tr>\n",
       "      <th>0</th>\n",
       "      <td>5</td>\n",
       "      <td>great job, wyndham capital! each person was pr...</td>\n",
       "    </tr>\n",
       "    <tr>\n",
       "      <th>1</th>\n",
       "      <td>5</td>\n",
       "      <td>matthew richardson is professional and helpful...</td>\n",
       "    </tr>\n",
       "    <tr>\n",
       "      <th>2</th>\n",
       "      <td>5</td>\n",
       "      <td>we had a past experience with wyndham mortgage...</td>\n",
       "    </tr>\n",
       "    <tr>\n",
       "      <th>3</th>\n",
       "      <td>5</td>\n",
       "      <td>we have been dealing with brad thomka from the...</td>\n",
       "    </tr>\n",
       "    <tr>\n",
       "      <th>4</th>\n",
       "      <td>5</td>\n",
       "      <td>i can't express how grateful i am for the supp...</td>\n",
       "    </tr>\n",
       "    <tr>\n",
       "      <th>...</th>\n",
       "      <td>...</td>\n",
       "      <td>...</td>\n",
       "    </tr>\n",
       "    <tr>\n",
       "      <th>500</th>\n",
       "      <td>1</td>\n",
       "      <td>\\r\\ni never write reviews but had to this time...</td>\n",
       "    </tr>\n",
       "    <tr>\n",
       "      <th>501</th>\n",
       "      <td>1</td>\n",
       "      <td>\\r\\nit all started when bob g ran a credit che...</td>\n",
       "    </tr>\n",
       "    <tr>\n",
       "      <th>502</th>\n",
       "      <td>1</td>\n",
       "      <td>\\r\\nwhat a horrible experience. we have excell...</td>\n",
       "    </tr>\n",
       "    <tr>\n",
       "      <th>503</th>\n",
       "      <td>1</td>\n",
       "      <td>\\r\\nrep was extremely professional, friendly, ...</td>\n",
       "    </tr>\n",
       "    <tr>\n",
       "      <th>504</th>\n",
       "      <td>1</td>\n",
       "      <td>\\r\\ni was working with a loan consultant from ...</td>\n",
       "    </tr>\n",
       "  </tbody>\n",
       "</table>\n",
       "<p>505 rows × 2 columns</p>\n",
       "</div>"
      ],
      "text/plain": [
       "     Stars                                            Reviews\n",
       "0        5  great job, wyndham capital! each person was pr...\n",
       "1        5  matthew richardson is professional and helpful...\n",
       "2        5  we had a past experience with wyndham mortgage...\n",
       "3        5  we have been dealing with brad thomka from the...\n",
       "4        5  i can't express how grateful i am for the supp...\n",
       "..     ...                                                ...\n",
       "500      1  \\r\\ni never write reviews but had to this time...\n",
       "501      1  \\r\\nit all started when bob g ran a credit che...\n",
       "502      1  \\r\\nwhat a horrible experience. we have excell...\n",
       "503      1  \\r\\nrep was extremely professional, friendly, ...\n",
       "504      1  \\r\\ni was working with a loan consultant from ...\n",
       "\n",
       "[505 rows x 2 columns]"
      ]
     },
     "execution_count": 16,
     "metadata": {},
     "output_type": "execute_result"
    }
   ],
   "source": [
    "sent = dfrev[['Stars','Reviews']].copy()\n",
    "sent"
   ]
  },
  {
   "cell_type": "markdown",
   "metadata": {},
   "source": [
    "### Classifying reviews into POS, NEG & Neut\n",
    "\n",
    "This is done based on the TextBlob polarity score\n",
    "\n",
    "* TextBlob polarity = 0.05 for neutral review\n",
    "* TextBlob polarity < 0.05 for negative review\n",
    "* TextBlob polarity > 0.05 for positive review"
   ]
  },
  {
   "cell_type": "code",
   "execution_count": 17,
   "metadata": {},
   "outputs": [
    {
     "data": {
      "text/html": [
       "<div>\n",
       "<style scoped>\n",
       "    .dataframe tbody tr th:only-of-type {\n",
       "        vertical-align: middle;\n",
       "    }\n",
       "\n",
       "    .dataframe tbody tr th {\n",
       "        vertical-align: top;\n",
       "    }\n",
       "\n",
       "    .dataframe thead th {\n",
       "        text-align: right;\n",
       "    }\n",
       "</style>\n",
       "<table border=\"1\" class=\"dataframe\">\n",
       "  <thead>\n",
       "    <tr style=\"text-align: right;\">\n",
       "      <th></th>\n",
       "      <th>Stars</th>\n",
       "      <th>Reviews</th>\n",
       "      <th>polarity</th>\n",
       "    </tr>\n",
       "  </thead>\n",
       "  <tbody>\n",
       "    <tr>\n",
       "      <th>0</th>\n",
       "      <td>5</td>\n",
       "      <td>great job, wyndham capital! each person was pr...</td>\n",
       "      <td>0.533333</td>\n",
       "    </tr>\n",
       "    <tr>\n",
       "      <th>1</th>\n",
       "      <td>5</td>\n",
       "      <td>matthew richardson is professional and helpful...</td>\n",
       "      <td>0.453333</td>\n",
       "    </tr>\n",
       "    <tr>\n",
       "      <th>2</th>\n",
       "      <td>5</td>\n",
       "      <td>we had a past experience with wyndham mortgage...</td>\n",
       "      <td>-0.033231</td>\n",
       "    </tr>\n",
       "    <tr>\n",
       "      <th>3</th>\n",
       "      <td>5</td>\n",
       "      <td>we have been dealing with brad thomka from the...</td>\n",
       "      <td>0.093740</td>\n",
       "    </tr>\n",
       "    <tr>\n",
       "      <th>4</th>\n",
       "      <td>5</td>\n",
       "      <td>i can't express how grateful i am for the supp...</td>\n",
       "      <td>0.125000</td>\n",
       "    </tr>\n",
       "    <tr>\n",
       "      <th>...</th>\n",
       "      <td>...</td>\n",
       "      <td>...</td>\n",
       "      <td>...</td>\n",
       "    </tr>\n",
       "    <tr>\n",
       "      <th>500</th>\n",
       "      <td>1</td>\n",
       "      <td>\\r\\ni never write reviews but had to this time...</td>\n",
       "      <td>0.122289</td>\n",
       "    </tr>\n",
       "    <tr>\n",
       "      <th>501</th>\n",
       "      <td>1</td>\n",
       "      <td>\\r\\nit all started when bob g ran a credit che...</td>\n",
       "      <td>0.139815</td>\n",
       "    </tr>\n",
       "    <tr>\n",
       "      <th>502</th>\n",
       "      <td>1</td>\n",
       "      <td>\\r\\nwhat a horrible experience. we have excell...</td>\n",
       "      <td>0.071667</td>\n",
       "    </tr>\n",
       "    <tr>\n",
       "      <th>503</th>\n",
       "      <td>1</td>\n",
       "      <td>\\r\\nrep was extremely professional, friendly, ...</td>\n",
       "      <td>0.176042</td>\n",
       "    </tr>\n",
       "    <tr>\n",
       "      <th>504</th>\n",
       "      <td>1</td>\n",
       "      <td>\\r\\ni was working with a loan consultant from ...</td>\n",
       "      <td>0.124696</td>\n",
       "    </tr>\n",
       "  </tbody>\n",
       "</table>\n",
       "<p>505 rows × 3 columns</p>\n",
       "</div>"
      ],
      "text/plain": [
       "     Stars                                            Reviews  polarity\n",
       "0        5  great job, wyndham capital! each person was pr...  0.533333\n",
       "1        5  matthew richardson is professional and helpful...  0.453333\n",
       "2        5  we had a past experience with wyndham mortgage... -0.033231\n",
       "3        5  we have been dealing with brad thomka from the...  0.093740\n",
       "4        5  i can't express how grateful i am for the supp...  0.125000\n",
       "..     ...                                                ...       ...\n",
       "500      1  \\r\\ni never write reviews but had to this time...  0.122289\n",
       "501      1  \\r\\nit all started when bob g ran a credit che...  0.139815\n",
       "502      1  \\r\\nwhat a horrible experience. we have excell...  0.071667\n",
       "503      1  \\r\\nrep was extremely professional, friendly, ...  0.176042\n",
       "504      1  \\r\\ni was working with a loan consultant from ...  0.124696\n",
       "\n",
       "[505 rows x 3 columns]"
      ]
     },
     "execution_count": 17,
     "metadata": {},
     "output_type": "execute_result"
    }
   ],
   "source": [
    "sent['polarity'] = sent.Reviews.apply(lambda t : TextBlob(t).sentiment.polarity)\n",
    "sent"
   ]
  },
  {
   "cell_type": "code",
   "execution_count": 18,
   "metadata": {},
   "outputs": [],
   "source": [
    "cond = [sent.polarity<0.05, sent.polarity==0.05, sent.polarity>0.05]\n",
    "choice = ['Neg', 'Neut', 'Pos']\n",
    "sent['Review Type'] = np.select(cond,choice)\n",
    "#sent.drop(columns=['polarity'],inplace=True)"
   ]
  },
  {
   "cell_type": "code",
   "execution_count": 19,
   "metadata": {},
   "outputs": [
    {
     "data": {
      "text/html": [
       "<div>\n",
       "<style scoped>\n",
       "    .dataframe tbody tr th:only-of-type {\n",
       "        vertical-align: middle;\n",
       "    }\n",
       "\n",
       "    .dataframe tbody tr th {\n",
       "        vertical-align: top;\n",
       "    }\n",
       "\n",
       "    .dataframe thead th {\n",
       "        text-align: right;\n",
       "    }\n",
       "</style>\n",
       "<table border=\"1\" class=\"dataframe\">\n",
       "  <thead>\n",
       "    <tr style=\"text-align: right;\">\n",
       "      <th></th>\n",
       "      <th>Stars</th>\n",
       "      <th>Reviews</th>\n",
       "      <th>polarity</th>\n",
       "      <th>Review Type</th>\n",
       "    </tr>\n",
       "  </thead>\n",
       "  <tbody>\n",
       "    <tr>\n",
       "      <th>0</th>\n",
       "      <td>5</td>\n",
       "      <td>great job, wyndham capital! each person was pr...</td>\n",
       "      <td>0.533333</td>\n",
       "      <td>Pos</td>\n",
       "    </tr>\n",
       "    <tr>\n",
       "      <th>1</th>\n",
       "      <td>5</td>\n",
       "      <td>matthew richardson is professional and helpful...</td>\n",
       "      <td>0.453333</td>\n",
       "      <td>Pos</td>\n",
       "    </tr>\n",
       "    <tr>\n",
       "      <th>2</th>\n",
       "      <td>5</td>\n",
       "      <td>we had a past experience with wyndham mortgage...</td>\n",
       "      <td>-0.033231</td>\n",
       "      <td>Neg</td>\n",
       "    </tr>\n",
       "    <tr>\n",
       "      <th>3</th>\n",
       "      <td>5</td>\n",
       "      <td>we have been dealing with brad thomka from the...</td>\n",
       "      <td>0.093740</td>\n",
       "      <td>Pos</td>\n",
       "    </tr>\n",
       "    <tr>\n",
       "      <th>4</th>\n",
       "      <td>5</td>\n",
       "      <td>i can't express how grateful i am for the supp...</td>\n",
       "      <td>0.125000</td>\n",
       "      <td>Pos</td>\n",
       "    </tr>\n",
       "    <tr>\n",
       "      <th>...</th>\n",
       "      <td>...</td>\n",
       "      <td>...</td>\n",
       "      <td>...</td>\n",
       "      <td>...</td>\n",
       "    </tr>\n",
       "    <tr>\n",
       "      <th>500</th>\n",
       "      <td>1</td>\n",
       "      <td>\\r\\ni never write reviews but had to this time...</td>\n",
       "      <td>0.122289</td>\n",
       "      <td>Pos</td>\n",
       "    </tr>\n",
       "    <tr>\n",
       "      <th>501</th>\n",
       "      <td>1</td>\n",
       "      <td>\\r\\nit all started when bob g ran a credit che...</td>\n",
       "      <td>0.139815</td>\n",
       "      <td>Pos</td>\n",
       "    </tr>\n",
       "    <tr>\n",
       "      <th>502</th>\n",
       "      <td>1</td>\n",
       "      <td>\\r\\nwhat a horrible experience. we have excell...</td>\n",
       "      <td>0.071667</td>\n",
       "      <td>Pos</td>\n",
       "    </tr>\n",
       "    <tr>\n",
       "      <th>503</th>\n",
       "      <td>1</td>\n",
       "      <td>\\r\\nrep was extremely professional, friendly, ...</td>\n",
       "      <td>0.176042</td>\n",
       "      <td>Pos</td>\n",
       "    </tr>\n",
       "    <tr>\n",
       "      <th>504</th>\n",
       "      <td>1</td>\n",
       "      <td>\\r\\ni was working with a loan consultant from ...</td>\n",
       "      <td>0.124696</td>\n",
       "      <td>Pos</td>\n",
       "    </tr>\n",
       "  </tbody>\n",
       "</table>\n",
       "<p>505 rows × 4 columns</p>\n",
       "</div>"
      ],
      "text/plain": [
       "     Stars                                            Reviews  polarity  \\\n",
       "0        5  great job, wyndham capital! each person was pr...  0.533333   \n",
       "1        5  matthew richardson is professional and helpful...  0.453333   \n",
       "2        5  we had a past experience with wyndham mortgage... -0.033231   \n",
       "3        5  we have been dealing with brad thomka from the...  0.093740   \n",
       "4        5  i can't express how grateful i am for the supp...  0.125000   \n",
       "..     ...                                                ...       ...   \n",
       "500      1  \\r\\ni never write reviews but had to this time...  0.122289   \n",
       "501      1  \\r\\nit all started when bob g ran a credit che...  0.139815   \n",
       "502      1  \\r\\nwhat a horrible experience. we have excell...  0.071667   \n",
       "503      1  \\r\\nrep was extremely professional, friendly, ...  0.176042   \n",
       "504      1  \\r\\ni was working with a loan consultant from ...  0.124696   \n",
       "\n",
       "    Review Type  \n",
       "0           Pos  \n",
       "1           Pos  \n",
       "2           Neg  \n",
       "3           Pos  \n",
       "4           Pos  \n",
       "..          ...  \n",
       "500         Pos  \n",
       "501         Pos  \n",
       "502         Pos  \n",
       "503         Pos  \n",
       "504         Pos  \n",
       "\n",
       "[505 rows x 4 columns]"
      ]
     },
     "execution_count": 19,
     "metadata": {},
     "output_type": "execute_result"
    }
   ],
   "source": [
    "sent"
   ]
  },
  {
   "cell_type": "code",
   "execution_count": 20,
   "metadata": {},
   "outputs": [
    {
     "data": {
      "text/html": [
       "<div>\n",
       "<style scoped>\n",
       "    .dataframe tbody tr th:only-of-type {\n",
       "        vertical-align: middle;\n",
       "    }\n",
       "\n",
       "    .dataframe tbody tr th {\n",
       "        vertical-align: top;\n",
       "    }\n",
       "\n",
       "    .dataframe thead th {\n",
       "        text-align: right;\n",
       "    }\n",
       "</style>\n",
       "<table border=\"1\" class=\"dataframe\">\n",
       "  <thead>\n",
       "    <tr style=\"text-align: right;\">\n",
       "      <th></th>\n",
       "      <th>Stars</th>\n",
       "      <th>Reviews</th>\n",
       "      <th>polarity</th>\n",
       "      <th>Review Type</th>\n",
       "    </tr>\n",
       "  </thead>\n",
       "  <tbody>\n",
       "    <tr>\n",
       "      <th>5</th>\n",
       "      <td>5</td>\n",
       "      <td>i had the pleasure of working with wyndham cap...</td>\n",
       "      <td>0.345833</td>\n",
       "      <td>Pos</td>\n",
       "    </tr>\n",
       "    <tr>\n",
       "      <th>6</th>\n",
       "      <td>5</td>\n",
       "      <td>my experience with mattison was beyond greatly...</td>\n",
       "      <td>0.313281</td>\n",
       "      <td>Pos</td>\n",
       "    </tr>\n",
       "  </tbody>\n",
       "</table>\n",
       "</div>"
      ],
      "text/plain": [
       "   Stars                                            Reviews  polarity  \\\n",
       "5      5  i had the pleasure of working with wyndham cap...  0.345833   \n",
       "6      5  my experience with mattison was beyond greatly...  0.313281   \n",
       "\n",
       "  Review Type  \n",
       "5         Pos  \n",
       "6         Pos  "
      ]
     },
     "execution_count": 20,
     "metadata": {},
     "output_type": "execute_result"
    }
   ],
   "source": [
    "sent[sent['Review Type']=='Pos'][4:6] # some positive reviews"
   ]
  },
  {
   "cell_type": "code",
   "execution_count": 21,
   "metadata": {},
   "outputs": [
    {
     "data": {
      "text/html": [
       "<div>\n",
       "<style scoped>\n",
       "    .dataframe tbody tr th:only-of-type {\n",
       "        vertical-align: middle;\n",
       "    }\n",
       "\n",
       "    .dataframe tbody tr th {\n",
       "        vertical-align: top;\n",
       "    }\n",
       "\n",
       "    .dataframe thead th {\n",
       "        text-align: right;\n",
       "    }\n",
       "</style>\n",
       "<table border=\"1\" class=\"dataframe\">\n",
       "  <thead>\n",
       "    <tr style=\"text-align: right;\">\n",
       "      <th></th>\n",
       "      <th>Stars</th>\n",
       "      <th>Reviews</th>\n",
       "      <th>polarity</th>\n",
       "      <th>Review Type</th>\n",
       "    </tr>\n",
       "  </thead>\n",
       "  <tbody>\n",
       "    <tr>\n",
       "      <th>44</th>\n",
       "      <td>1</td>\n",
       "      <td>this lender contacted my previous phone number...</td>\n",
       "      <td>-0.205556</td>\n",
       "      <td>Neg</td>\n",
       "    </tr>\n",
       "    <tr>\n",
       "      <th>45</th>\n",
       "      <td>1</td>\n",
       "      <td>i never write reviews but had to this time to ...</td>\n",
       "      <td>-0.045000</td>\n",
       "      <td>Neg</td>\n",
       "    </tr>\n",
       "  </tbody>\n",
       "</table>\n",
       "</div>"
      ],
      "text/plain": [
       "    Stars                                            Reviews  polarity  \\\n",
       "44      1  this lender contacted my previous phone number... -0.205556   \n",
       "45      1  i never write reviews but had to this time to ... -0.045000   \n",
       "\n",
       "   Review Type  \n",
       "44         Neg  \n",
       "45         Neg  "
      ]
     },
     "execution_count": 21,
     "metadata": {},
     "output_type": "execute_result"
    }
   ],
   "source": [
    "sent[sent['Review Type']=='Neg'][4:6] # some negative reviews"
   ]
  },
  {
   "cell_type": "code",
   "execution_count": 22,
   "metadata": {},
   "outputs": [
    {
     "data": {
      "text/plain": [
       "<matplotlib.axes._subplots.AxesSubplot at 0x7f90ebd73668>"
      ]
     },
     "execution_count": 22,
     "metadata": {},
     "output_type": "execute_result"
    },
    {
     "data": {
      "image/png": "[encoded data removed]",
      "text/plain": [
       "<Figure size 432x288 with 1 Axes>"
      ]
     },
     "metadata": {},
     "output_type": "display_data"
    }
   ],
   "source": [
    "sns.countplot(sent['Review Type'])"
   ]
  },
  {
   "cell_type": "markdown",
   "metadata": {},
   "source": [
    "* Majority of the reviews are positive, while very few are negative."
   ]
  },
  {
   "cell_type": "markdown",
   "metadata": {},
   "source": [
    "# Finding Key Positive & Negative words"
   ]
  },
  {
   "cell_type": "markdown",
   "metadata": {},
   "source": [
    "**Approach** : I have used 2 files - list of all positive sentiment words and list of all negative sentiment words compiled by Minqing Hu and Bing Lu for their research dealing with sentiment analysis of social media texts. \n",
    "\n",
    "The sentiment words can be found [here](https://github.com/jeffreybreen/twitter-sentiment-analysis-tutorial-201107/tree/master/data/opinion-lexicon-English)\n",
    "\n",
    "I have cleaned the reviews and, and search if those words are present in the said positive or negative sentiment list and assigning them accordingly."
   ]
  },
  {
   "cell_type": "code",
   "execution_count": 23,
   "metadata": {},
   "outputs": [],
   "source": [
    "# reading positive sentiment words file\n",
    "with open('../input/posneg/pos.txt') as f:\n",
    "    p_txt=f.read()\n",
    "    \n",
    "p_list = p_txt.replace('\\n',' ').replace('  ',' ').lower().split()"
   ]
  },
  {
   "cell_type": "code",
   "execution_count": 24,
   "metadata": {},
   "outputs": [
    {
     "data": {
      "text/plain": [
       "['abound',\n",
       " 'abounds',\n",
       " 'abundance',\n",
       " 'abundant',\n",
       " 'accessable',\n",
       " 'accessible',\n",
       " 'acclaim',\n",
       " 'acclaimed',\n",
       " 'acclamation']"
      ]
     },
     "execution_count": 24,
     "metadata": {},
     "output_type": "execute_result"
    }
   ],
   "source": [
    "p_list[1:10] # some positive sentiment words"
   ]
  },
  {
   "cell_type": "code",
   "execution_count": 25,
   "metadata": {},
   "outputs": [
    {
     "name": "stdout",
     "output_type": "stream",
     "text": [
      "True\n",
      "False\n"
     ]
    }
   ],
   "source": [
    "print('amazing' in p_list)\n",
    "print('danger' in p_list)"
   ]
  },
  {
   "cell_type": "code",
   "execution_count": 26,
   "metadata": {},
   "outputs": [],
   "source": [
    "# reading negative sentiment words file\n",
    "with open('../input/posneg/neg.txt', encoding=\"ISO-8859-1\") as f:\n",
    "    n_txt=f.read()\n",
    "    \n",
    "n_list = n_txt.replace('\\n',' ').replace('  ',' ').lower().split()"
   ]
  },
  {
   "cell_type": "code",
   "execution_count": 27,
   "metadata": {},
   "outputs": [
    {
     "data": {
      "text/plain": [
       "['2-faces',\n",
       " 'abnormal',\n",
       " 'abolish',\n",
       " 'abominable',\n",
       " 'abominably',\n",
       " 'abominate',\n",
       " 'abomination',\n",
       " 'abort',\n",
       " 'aborted']"
      ]
     },
     "execution_count": 27,
     "metadata": {},
     "output_type": "execute_result"
    }
   ],
   "source": [
    "n_list[1:10] # some negative sentiment words"
   ]
  },
  {
   "cell_type": "code",
   "execution_count": 28,
   "metadata": {},
   "outputs": [
    {
     "name": "stdout",
     "output_type": "stream",
     "text": [
      "False\n",
      "True\n"
     ]
    }
   ],
   "source": [
    "print('amazing' in n_list)\n",
    "print('danger' in n_list)"
   ]
  },
  {
   "cell_type": "code",
   "execution_count": 29,
   "metadata": {},
   "outputs": [],
   "source": [
    "# basic text cleaning\n",
    "def review_cleaner(t):\n",
    "    t = t.lower()\n",
    "    t = t.strip()\n",
    "    t = re.sub(r'\\n',' ',t)\n",
    "    t = re.sub(r'  ',' ',t)\n",
    "    t = re.sub(r\"[-()\\\"#/@;:{}`+=~|.!?,'0-9]\", \"\", t)\n",
    "    return t\n",
    "\n",
    "sent['edit_rev'] = sent.Reviews.apply(lambda t :review_cleaner(t))"
   ]
  },
  {
   "cell_type": "code",
   "execution_count": 30,
   "metadata": {},
   "outputs": [
    {
     "data": {
      "text/html": [
       "<div>\n",
       "<style scoped>\n",
       "    .dataframe tbody tr th:only-of-type {\n",
       "        vertical-align: middle;\n",
       "    }\n",
       "\n",
       "    .dataframe tbody tr th {\n",
       "        vertical-align: top;\n",
       "    }\n",
       "\n",
       "    .dataframe thead th {\n",
       "        text-align: right;\n",
       "    }\n",
       "</style>\n",
       "<table border=\"1\" class=\"dataframe\">\n",
       "  <thead>\n",
       "    <tr style=\"text-align: right;\">\n",
       "      <th></th>\n",
       "      <th>Stars</th>\n",
       "      <th>Reviews</th>\n",
       "      <th>polarity</th>\n",
       "      <th>Review Type</th>\n",
       "      <th>edit_rev</th>\n",
       "    </tr>\n",
       "  </thead>\n",
       "  <tbody>\n",
       "    <tr>\n",
       "      <th>0</th>\n",
       "      <td>5</td>\n",
       "      <td>great job, wyndham capital! each person was pr...</td>\n",
       "      <td>0.533333</td>\n",
       "      <td>Pos</td>\n",
       "      <td>great job wyndham capital each person was prof...</td>\n",
       "    </tr>\n",
       "    <tr>\n",
       "      <th>1</th>\n",
       "      <td>5</td>\n",
       "      <td>matthew richardson is professional and helpful...</td>\n",
       "      <td>0.453333</td>\n",
       "      <td>Pos</td>\n",
       "      <td>matthew richardson is professional and helpful...</td>\n",
       "    </tr>\n",
       "    <tr>\n",
       "      <th>2</th>\n",
       "      <td>5</td>\n",
       "      <td>we had a past experience with wyndham mortgage...</td>\n",
       "      <td>-0.033231</td>\n",
       "      <td>Neg</td>\n",
       "      <td>we had a past experience with wyndham mortgage...</td>\n",
       "    </tr>\n",
       "    <tr>\n",
       "      <th>3</th>\n",
       "      <td>5</td>\n",
       "      <td>we have been dealing with brad thomka from the...</td>\n",
       "      <td>0.093740</td>\n",
       "      <td>Pos</td>\n",
       "      <td>we have been dealing with brad thomka from the...</td>\n",
       "    </tr>\n",
       "    <tr>\n",
       "      <th>4</th>\n",
       "      <td>5</td>\n",
       "      <td>i can't express how grateful i am for the supp...</td>\n",
       "      <td>0.125000</td>\n",
       "      <td>Pos</td>\n",
       "      <td>i cant express how grateful i am for the suppo...</td>\n",
       "    </tr>\n",
       "    <tr>\n",
       "      <th>...</th>\n",
       "      <td>...</td>\n",
       "      <td>...</td>\n",
       "      <td>...</td>\n",
       "      <td>...</td>\n",
       "      <td>...</td>\n",
       "    </tr>\n",
       "    <tr>\n",
       "      <th>500</th>\n",
       "      <td>1</td>\n",
       "      <td>\\r\\ni never write reviews but had to this time...</td>\n",
       "      <td>0.122289</td>\n",
       "      <td>Pos</td>\n",
       "      <td>i never write reviews but had to this time to ...</td>\n",
       "    </tr>\n",
       "    <tr>\n",
       "      <th>501</th>\n",
       "      <td>1</td>\n",
       "      <td>\\r\\nit all started when bob g ran a credit che...</td>\n",
       "      <td>0.139815</td>\n",
       "      <td>Pos</td>\n",
       "      <td>it all started when bob g ran a credit check w...</td>\n",
       "    </tr>\n",
       "    <tr>\n",
       "      <th>502</th>\n",
       "      <td>1</td>\n",
       "      <td>\\r\\nwhat a horrible experience. we have excell...</td>\n",
       "      <td>0.071667</td>\n",
       "      <td>Pos</td>\n",
       "      <td>what a horrible experience we have excellent c...</td>\n",
       "    </tr>\n",
       "    <tr>\n",
       "      <th>503</th>\n",
       "      <td>1</td>\n",
       "      <td>\\r\\nrep was extremely professional, friendly, ...</td>\n",
       "      <td>0.176042</td>\n",
       "      <td>Pos</td>\n",
       "      <td>rep was extremely professional friendly and he...</td>\n",
       "    </tr>\n",
       "    <tr>\n",
       "      <th>504</th>\n",
       "      <td>1</td>\n",
       "      <td>\\r\\ni was working with a loan consultant from ...</td>\n",
       "      <td>0.124696</td>\n",
       "      <td>Pos</td>\n",
       "      <td>i was working with a loan consultant from nasb...</td>\n",
       "    </tr>\n",
       "  </tbody>\n",
       "</table>\n",
       "<p>505 rows × 5 columns</p>\n",
       "</div>"
      ],
      "text/plain": [
       "     Stars                                            Reviews  polarity  \\\n",
       "0        5  great job, wyndham capital! each person was pr...  0.533333   \n",
       "1        5  matthew richardson is professional and helpful...  0.453333   \n",
       "2        5  we had a past experience with wyndham mortgage... -0.033231   \n",
       "3        5  we have been dealing with brad thomka from the...  0.093740   \n",
       "4        5  i can't express how grateful i am for the supp...  0.125000   \n",
       "..     ...                                                ...       ...   \n",
       "500      1  \\r\\ni never write reviews but had to this time...  0.122289   \n",
       "501      1  \\r\\nit all started when bob g ran a credit che...  0.139815   \n",
       "502      1  \\r\\nwhat a horrible experience. we have excell...  0.071667   \n",
       "503      1  \\r\\nrep was extremely professional, friendly, ...  0.176042   \n",
       "504      1  \\r\\ni was working with a loan consultant from ...  0.124696   \n",
       "\n",
       "    Review Type                                           edit_rev  \n",
       "0           Pos  great job wyndham capital each person was prof...  \n",
       "1           Pos  matthew richardson is professional and helpful...  \n",
       "2           Neg  we had a past experience with wyndham mortgage...  \n",
       "3           Pos  we have been dealing with brad thomka from the...  \n",
       "4           Pos  i cant express how grateful i am for the suppo...  \n",
       "..          ...                                                ...  \n",
       "500         Pos  i never write reviews but had to this time to ...  \n",
       "501         Pos  it all started when bob g ran a credit check w...  \n",
       "502         Pos  what a horrible experience we have excellent c...  \n",
       "503         Pos  rep was extremely professional friendly and he...  \n",
       "504         Pos  i was working with a loan consultant from nasb...  \n",
       "\n",
       "[505 rows x 5 columns]"
      ]
     },
     "execution_count": 30,
     "metadata": {},
     "output_type": "execute_result"
    }
   ],
   "source": [
    "sent"
   ]
  },
  {
   "cell_type": "code",
   "execution_count": 31,
   "metadata": {},
   "outputs": [],
   "source": [
    "# UDF for finding positive and negative sentiment words from the reviews text\n",
    "\n",
    "def pos_finder(t):\n",
    "    pos_words=[]\n",
    "    pos_words.extend([i for i in t.split() if i in p_list])\n",
    "    return pos_words\n",
    "    \n",
    "def neg_finder(t):\n",
    "    neg_words=[]\n",
    "    neg_words.extend([i for i in t.split() if i in n_list])\n",
    "    return neg_words"
   ]
  },
  {
   "cell_type": "code",
   "execution_count": 32,
   "metadata": {},
   "outputs": [],
   "source": [
    "pos_words_list = sent.edit_rev.apply(lambda v : pos_finder(v))\n",
    "neg_words_list = sent.edit_rev.apply(lambda v : neg_finder(v))"
   ]
  },
  {
   "cell_type": "code",
   "execution_count": 33,
   "metadata": {},
   "outputs": [
    {
     "data": {
      "text/plain": [
       "[['helpful', 'helped', 'correct', 'thank', 'excellent'],\n",
       " ['right', 'recommend'],\n",
       " ['happy', 'right', 'indebted', 'recommend'],\n",
       " ['grateful', 'support', 'recommend'],\n",
       " ['pleasure', 'responsive', 'impressed', 'smooth', 'timely'],\n",
       " ['top', 'top', 'wonderful'],\n",
       " ['right', 'easy', 'pleased'],\n",
       " ['loved', 'knowledgeable'],\n",
       " ['great', 'willingness']]"
      ]
     },
     "execution_count": 33,
     "metadata": {},
     "output_type": "execute_result"
    }
   ],
   "source": [
    "pos_words_list.to_list()[1:10]  # this is a list within a list/nested list showing positive words"
   ]
  },
  {
   "cell_type": "code",
   "execution_count": 34,
   "metadata": {},
   "outputs": [
    {
     "data": {
      "text/plain": [
       "[['wrong'],\n",
       " ['stressful', 'wrong'],\n",
       " [],\n",
       " ['stressful'],\n",
       " ['misunderstanding'],\n",
       " [],\n",
       " ['lost', 'negative'],\n",
       " ['concerns'],\n",
       " [],\n",
       " ['stiff', 'lifeless', 'scary']]"
      ]
     },
     "execution_count": 34,
     "metadata": {},
     "output_type": "execute_result"
    }
   ],
   "source": [
    "neg_words_list.to_list()[2:12]    # this too is a list within a list/nested list"
   ]
  },
  {
   "cell_type": "code",
   "execution_count": 35,
   "metadata": {},
   "outputs": [],
   "source": [
    "from functools import reduce\n",
    "pos_words_list2 = reduce(lambda x,y: x+y, pos_words_list)  # reducing nested list to simple lists\n",
    "neg_words_list2 = reduce(lambda x,y: x+y, neg_words_list)"
   ]
  },
  {
   "cell_type": "code",
   "execution_count": 36,
   "metadata": {},
   "outputs": [
    {
     "data": {
      "image/png": "[encoded data removed]",
      "text/plain": [
       "<Figure size 1080x576 with 1 Axes>"
      ]
     },
     "metadata": {},
     "output_type": "display_data"
    }
   ],
   "source": [
    "# creating wordcloud of most frequent positive sentiment words\n",
    "unique_string=(\" \").join(pos_words_list2)\n",
    "wordcloud = WordCloud(width = 1000, height = 500, background_color='black').generate(unique_string)\n",
    "plt.figure(figsize=(15,8))\n",
    "plt.imshow(wordcloud)\n",
    "plt.axis(\"off\")\n",
    "plt.show()"
   ]
  },
  {
   "cell_type": "markdown",
   "metadata": {},
   "source": [
    "from a glance of the above wordcloud, we can say that :\n",
    "* \"recommend\", \"great\", \"best\", \"easy\", \"excellent\", \"knowledgable\", \"helpful\" etc. are some of the most used positive sentiment words."
   ]
  },
  {
   "cell_type": "code",
   "execution_count": 37,
   "metadata": {},
   "outputs": [
    {
     "data": {
      "image/png": "[encoded data removed]",
      "text/plain": [
       "<Figure size 1080x576 with 1 Axes>"
      ]
     },
     "metadata": {},
     "output_type": "display_data"
    }
   ],
   "source": [
    "# creating wordcloud of most frequent negative sentiment words\n",
    "unique_string=(\" \").join(neg_words_list2)\n",
    "wordcloud = WordCloud(width = 1000, height = 500).generate(unique_string)\n",
    "plt.figure(figsize=(15,8))\n",
    "plt.imshow(wordcloud)\n",
    "plt.axis(\"off\")\n",
    "plt.show()"
   ]
  },
  {
   "cell_type": "markdown",
   "metadata": {},
   "source": [
    "From the above wordcloud it is clear that :\n",
    "* \"problem\", \"hard\", \"stressful\", \"mistake\", \"issue\", \"complicated\" are few of the most used negative sentiment words"
   ]
  },
  {
   "cell_type": "code",
   "execution_count": 38,
   "metadata": {},
   "outputs": [
    {
     "data": {
      "text/plain": [
       "171"
      ]
     },
     "execution_count": 38,
     "metadata": {},
     "output_type": "execute_result"
    }
   ],
   "source": [
    "len(set(neg_words_list2))  # set of negative sentiment words from the reviews"
   ]
  },
  {
   "cell_type": "code",
   "execution_count": 39,
   "metadata": {},
   "outputs": [
    {
     "data": {
      "text/plain": [
       "257"
      ]
     },
     "execution_count": 39,
     "metadata": {},
     "output_type": "execute_result"
    }
   ],
   "source": [
    "len(set(pos_words_list2))   # set of positive sentiment words from the reviews"
   ]
  },
  {
   "cell_type": "markdown",
   "metadata": {},
   "source": [
    "## Predicting Star Rating Using Reviews"
   ]
  },
  {
   "cell_type": "code",
   "execution_count": 40,
   "metadata": {},
   "outputs": [
    {
     "data": {
      "text/html": [
       "<div>\n",
       "<style scoped>\n",
       "    .dataframe tbody tr th:only-of-type {\n",
       "        vertical-align: middle;\n",
       "    }\n",
       "\n",
       "    .dataframe tbody tr th {\n",
       "        vertical-align: top;\n",
       "    }\n",
       "\n",
       "    .dataframe thead th {\n",
       "        text-align: right;\n",
       "    }\n",
       "</style>\n",
       "<table border=\"1\" class=\"dataframe\">\n",
       "  <thead>\n",
       "    <tr style=\"text-align: right;\">\n",
       "      <th></th>\n",
       "      <th>Stars</th>\n",
       "      <th>Reviews</th>\n",
       "      <th>polarity</th>\n",
       "      <th>Review Type</th>\n",
       "      <th>edit_rev</th>\n",
       "    </tr>\n",
       "  </thead>\n",
       "  <tbody>\n",
       "    <tr>\n",
       "      <th>0</th>\n",
       "      <td>5</td>\n",
       "      <td>great job, wyndham capital! each person was pr...</td>\n",
       "      <td>0.533333</td>\n",
       "      <td>Pos</td>\n",
       "      <td>great job wyndham capital each person was prof...</td>\n",
       "    </tr>\n",
       "    <tr>\n",
       "      <th>1</th>\n",
       "      <td>5</td>\n",
       "      <td>matthew richardson is professional and helpful...</td>\n",
       "      <td>0.453333</td>\n",
       "      <td>Pos</td>\n",
       "      <td>matthew richardson is professional and helpful...</td>\n",
       "    </tr>\n",
       "    <tr>\n",
       "      <th>2</th>\n",
       "      <td>5</td>\n",
       "      <td>we had a past experience with wyndham mortgage...</td>\n",
       "      <td>-0.033231</td>\n",
       "      <td>Neg</td>\n",
       "      <td>we had a past experience with wyndham mortgage...</td>\n",
       "    </tr>\n",
       "    <tr>\n",
       "      <th>3</th>\n",
       "      <td>5</td>\n",
       "      <td>we have been dealing with brad thomka from the...</td>\n",
       "      <td>0.093740</td>\n",
       "      <td>Pos</td>\n",
       "      <td>we have been dealing with brad thomka from the...</td>\n",
       "    </tr>\n",
       "    <tr>\n",
       "      <th>4</th>\n",
       "      <td>5</td>\n",
       "      <td>i can't express how grateful i am for the supp...</td>\n",
       "      <td>0.125000</td>\n",
       "      <td>Pos</td>\n",
       "      <td>i cant express how grateful i am for the suppo...</td>\n",
       "    </tr>\n",
       "    <tr>\n",
       "      <th>...</th>\n",
       "      <td>...</td>\n",
       "      <td>...</td>\n",
       "      <td>...</td>\n",
       "      <td>...</td>\n",
       "      <td>...</td>\n",
       "    </tr>\n",
       "    <tr>\n",
       "      <th>500</th>\n",
       "      <td>1</td>\n",
       "      <td>\\r\\ni never write reviews but had to this time...</td>\n",
       "      <td>0.122289</td>\n",
       "      <td>Pos</td>\n",
       "      <td>i never write reviews but had to this time to ...</td>\n",
       "    </tr>\n",
       "    <tr>\n",
       "      <th>501</th>\n",
       "      <td>1</td>\n",
       "      <td>\\r\\nit all started when bob g ran a credit che...</td>\n",
       "      <td>0.139815</td>\n",
       "      <td>Pos</td>\n",
       "      <td>it all started when bob g ran a credit check w...</td>\n",
       "    </tr>\n",
       "    <tr>\n",
       "      <th>502</th>\n",
       "      <td>1</td>\n",
       "      <td>\\r\\nwhat a horrible experience. we have excell...</td>\n",
       "      <td>0.071667</td>\n",
       "      <td>Pos</td>\n",
       "      <td>what a horrible experience we have excellent c...</td>\n",
       "    </tr>\n",
       "    <tr>\n",
       "      <th>503</th>\n",
       "      <td>1</td>\n",
       "      <td>\\r\\nrep was extremely professional, friendly, ...</td>\n",
       "      <td>0.176042</td>\n",
       "      <td>Pos</td>\n",
       "      <td>rep was extremely professional friendly and he...</td>\n",
       "    </tr>\n",
       "    <tr>\n",
       "      <th>504</th>\n",
       "      <td>1</td>\n",
       "      <td>\\r\\ni was working with a loan consultant from ...</td>\n",
       "      <td>0.124696</td>\n",
       "      <td>Pos</td>\n",
       "      <td>i was working with a loan consultant from nasb...</td>\n",
       "    </tr>\n",
       "  </tbody>\n",
       "</table>\n",
       "<p>505 rows × 5 columns</p>\n",
       "</div>"
      ],
      "text/plain": [
       "     Stars                                            Reviews  polarity  \\\n",
       "0        5  great job, wyndham capital! each person was pr...  0.533333   \n",
       "1        5  matthew richardson is professional and helpful...  0.453333   \n",
       "2        5  we had a past experience with wyndham mortgage... -0.033231   \n",
       "3        5  we have been dealing with brad thomka from the...  0.093740   \n",
       "4        5  i can't express how grateful i am for the supp...  0.125000   \n",
       "..     ...                                                ...       ...   \n",
       "500      1  \\r\\ni never write reviews but had to this time...  0.122289   \n",
       "501      1  \\r\\nit all started when bob g ran a credit che...  0.139815   \n",
       "502      1  \\r\\nwhat a horrible experience. we have excell...  0.071667   \n",
       "503      1  \\r\\nrep was extremely professional, friendly, ...  0.176042   \n",
       "504      1  \\r\\ni was working with a loan consultant from ...  0.124696   \n",
       "\n",
       "    Review Type                                           edit_rev  \n",
       "0           Pos  great job wyndham capital each person was prof...  \n",
       "1           Pos  matthew richardson is professional and helpful...  \n",
       "2           Neg  we had a past experience with wyndham mortgage...  \n",
       "3           Pos  we have been dealing with brad thomka from the...  \n",
       "4           Pos  i cant express how grateful i am for the suppo...  \n",
       "..          ...                                                ...  \n",
       "500         Pos  i never write reviews but had to this time to ...  \n",
       "501         Pos  it all started when bob g ran a credit check w...  \n",
       "502         Pos  what a horrible experience we have excellent c...  \n",
       "503         Pos  rep was extremely professional friendly and he...  \n",
       "504         Pos  i was working with a loan consultant from nasb...  \n",
       "\n",
       "[505 rows x 5 columns]"
      ]
     },
     "execution_count": 40,
     "metadata": {},
     "output_type": "execute_result"
    }
   ],
   "source": [
    "sent"
   ]
  },
  {
   "cell_type": "code",
   "execution_count": 41,
   "metadata": {},
   "outputs": [],
   "source": [
    "# PRE-PROCESSING\n",
    "\n",
    "# stopword removal\n",
    "sent.edit_rev = sent.edit_rev.apply(lambda t : ' '.join(c for c in t.split() if c not in stopeng)) # join with spaces those words not in stopwords list\n",
    "\n",
    "#replace numbers\n",
    "sent.edit_rev = sent.edit_rev.apply(lambda t :re.sub(r'[0-9]+', '',t))  # remove one or more numbers occuring together"
   ]
  },
  {
   "cell_type": "code",
   "execution_count": 42,
   "metadata": {},
   "outputs": [],
   "source": [
    "# doing train-test split\n",
    "X = sent.edit_rev\n",
    "y = sent.Stars\n",
    "\n",
    "train_x, test_x, train_y, test_y = train_test_split(X,y, test_size=0.3, random_state=12345)"
   ]
  },
  {
   "cell_type": "code",
   "execution_count": 43,
   "metadata": {},
   "outputs": [
    {
     "name": "stdout",
     "output_type": "stream",
     "text": [
      "(353,)\n",
      "(353,)\n",
      "(152,)\n",
      "(152,)\n"
     ]
    }
   ],
   "source": [
    "print(train_x.shape)\n",
    "print(train_y.shape)\n",
    "print(test_x.shape)\n",
    "print(test_y.shape)"
   ]
  },
  {
   "cell_type": "code",
   "execution_count": 44,
   "metadata": {},
   "outputs": [],
   "source": [
    "# for tokenization - creating unigrams\n",
    "cvect = CountVectorizer(analyzer='word' ,ngram_range=(1, 1), encoding='latin-1')"
   ]
  },
  {
   "cell_type": "code",
   "execution_count": 45,
   "metadata": {},
   "outputs": [],
   "source": [
    "trainx_cnt = cvect.fit_transform(train_x)"
   ]
  },
  {
   "cell_type": "code",
   "execution_count": 46,
   "metadata": {},
   "outputs": [
    {
     "data": {
      "text/plain": [
       "<353x2211 sparse matrix of type '<class 'numpy.int64'>'\n",
       "\twith 11296 stored elements in Compressed Sparse Row format>"
      ]
     },
     "execution_count": 46,
     "metadata": {},
     "output_type": "execute_result"
    }
   ],
   "source": [
    "trainx_cnt"
   ]
  },
  {
   "cell_type": "code",
   "execution_count": 47,
   "metadata": {},
   "outputs": [
    {
     "data": {
      "text/html": [
       "<div>\n",
       "<style scoped>\n",
       "    .dataframe tbody tr th:only-of-type {\n",
       "        vertical-align: middle;\n",
       "    }\n",
       "\n",
       "    .dataframe tbody tr th {\n",
       "        vertical-align: top;\n",
       "    }\n",
       "\n",
       "    .dataframe thead th {\n",
       "        text-align: right;\n",
       "    }\n",
       "</style>\n",
       "<table border=\"1\" class=\"dataframe\">\n",
       "  <thead>\n",
       "    <tr style=\"text-align: right;\">\n",
       "      <th></th>\n",
       "      <th>aaron</th>\n",
       "      <th>aarons</th>\n",
       "      <th>ability</th>\n",
       "      <th>able</th>\n",
       "      <th>absoltely</th>\n",
       "      <th>absolute</th>\n",
       "      <th>absolutely</th>\n",
       "      <th>accept</th>\n",
       "      <th>acceptable</th>\n",
       "      <th>accepted</th>\n",
       "      <th>...</th>\n",
       "      <th>wrong</th>\n",
       "      <th>wyndham</th>\n",
       "      <th>xx</th>\n",
       "      <th>year</th>\n",
       "      <th>years</th>\n",
       "      <th>yelp</th>\n",
       "      <th>yet</th>\n",
       "      <th>you</th>\n",
       "      <th>youi</th>\n",
       "      <th>zero</th>\n",
       "    </tr>\n",
       "  </thead>\n",
       "  <tbody>\n",
       "    <tr>\n",
       "      <th>0</th>\n",
       "      <td>0</td>\n",
       "      <td>0</td>\n",
       "      <td>0</td>\n",
       "      <td>0</td>\n",
       "      <td>0</td>\n",
       "      <td>0</td>\n",
       "      <td>0</td>\n",
       "      <td>0</td>\n",
       "      <td>0</td>\n",
       "      <td>0</td>\n",
       "      <td>...</td>\n",
       "      <td>0</td>\n",
       "      <td>0</td>\n",
       "      <td>0</td>\n",
       "      <td>0</td>\n",
       "      <td>0</td>\n",
       "      <td>0</td>\n",
       "      <td>0</td>\n",
       "      <td>0</td>\n",
       "      <td>0</td>\n",
       "      <td>0</td>\n",
       "    </tr>\n",
       "    <tr>\n",
       "      <th>1</th>\n",
       "      <td>0</td>\n",
       "      <td>0</td>\n",
       "      <td>0</td>\n",
       "      <td>0</td>\n",
       "      <td>0</td>\n",
       "      <td>0</td>\n",
       "      <td>0</td>\n",
       "      <td>0</td>\n",
       "      <td>0</td>\n",
       "      <td>0</td>\n",
       "      <td>...</td>\n",
       "      <td>0</td>\n",
       "      <td>0</td>\n",
       "      <td>0</td>\n",
       "      <td>0</td>\n",
       "      <td>0</td>\n",
       "      <td>0</td>\n",
       "      <td>0</td>\n",
       "      <td>0</td>\n",
       "      <td>0</td>\n",
       "      <td>0</td>\n",
       "    </tr>\n",
       "    <tr>\n",
       "      <th>2</th>\n",
       "      <td>0</td>\n",
       "      <td>0</td>\n",
       "      <td>0</td>\n",
       "      <td>0</td>\n",
       "      <td>0</td>\n",
       "      <td>0</td>\n",
       "      <td>0</td>\n",
       "      <td>0</td>\n",
       "      <td>0</td>\n",
       "      <td>0</td>\n",
       "      <td>...</td>\n",
       "      <td>0</td>\n",
       "      <td>0</td>\n",
       "      <td>0</td>\n",
       "      <td>0</td>\n",
       "      <td>2</td>\n",
       "      <td>0</td>\n",
       "      <td>0</td>\n",
       "      <td>0</td>\n",
       "      <td>0</td>\n",
       "      <td>0</td>\n",
       "    </tr>\n",
       "    <tr>\n",
       "      <th>3</th>\n",
       "      <td>0</td>\n",
       "      <td>0</td>\n",
       "      <td>0</td>\n",
       "      <td>0</td>\n",
       "      <td>0</td>\n",
       "      <td>0</td>\n",
       "      <td>0</td>\n",
       "      <td>0</td>\n",
       "      <td>0</td>\n",
       "      <td>0</td>\n",
       "      <td>...</td>\n",
       "      <td>0</td>\n",
       "      <td>0</td>\n",
       "      <td>0</td>\n",
       "      <td>0</td>\n",
       "      <td>0</td>\n",
       "      <td>0</td>\n",
       "      <td>0</td>\n",
       "      <td>0</td>\n",
       "      <td>0</td>\n",
       "      <td>0</td>\n",
       "    </tr>\n",
       "    <tr>\n",
       "      <th>4</th>\n",
       "      <td>0</td>\n",
       "      <td>0</td>\n",
       "      <td>0</td>\n",
       "      <td>0</td>\n",
       "      <td>0</td>\n",
       "      <td>0</td>\n",
       "      <td>0</td>\n",
       "      <td>0</td>\n",
       "      <td>0</td>\n",
       "      <td>0</td>\n",
       "      <td>...</td>\n",
       "      <td>0</td>\n",
       "      <td>0</td>\n",
       "      <td>0</td>\n",
       "      <td>0</td>\n",
       "      <td>0</td>\n",
       "      <td>0</td>\n",
       "      <td>0</td>\n",
       "      <td>1</td>\n",
       "      <td>0</td>\n",
       "      <td>0</td>\n",
       "    </tr>\n",
       "    <tr>\n",
       "      <th>...</th>\n",
       "      <td>...</td>\n",
       "      <td>...</td>\n",
       "      <td>...</td>\n",
       "      <td>...</td>\n",
       "      <td>...</td>\n",
       "      <td>...</td>\n",
       "      <td>...</td>\n",
       "      <td>...</td>\n",
       "      <td>...</td>\n",
       "      <td>...</td>\n",
       "      <td>...</td>\n",
       "      <td>...</td>\n",
       "      <td>...</td>\n",
       "      <td>...</td>\n",
       "      <td>...</td>\n",
       "      <td>...</td>\n",
       "      <td>...</td>\n",
       "      <td>...</td>\n",
       "      <td>...</td>\n",
       "      <td>...</td>\n",
       "      <td>...</td>\n",
       "    </tr>\n",
       "    <tr>\n",
       "      <th>348</th>\n",
       "      <td>0</td>\n",
       "      <td>0</td>\n",
       "      <td>0</td>\n",
       "      <td>0</td>\n",
       "      <td>0</td>\n",
       "      <td>0</td>\n",
       "      <td>0</td>\n",
       "      <td>0</td>\n",
       "      <td>1</td>\n",
       "      <td>0</td>\n",
       "      <td>...</td>\n",
       "      <td>0</td>\n",
       "      <td>0</td>\n",
       "      <td>0</td>\n",
       "      <td>0</td>\n",
       "      <td>0</td>\n",
       "      <td>0</td>\n",
       "      <td>0</td>\n",
       "      <td>0</td>\n",
       "      <td>0</td>\n",
       "      <td>0</td>\n",
       "    </tr>\n",
       "    <tr>\n",
       "      <th>349</th>\n",
       "      <td>0</td>\n",
       "      <td>0</td>\n",
       "      <td>0</td>\n",
       "      <td>0</td>\n",
       "      <td>0</td>\n",
       "      <td>0</td>\n",
       "      <td>0</td>\n",
       "      <td>0</td>\n",
       "      <td>0</td>\n",
       "      <td>0</td>\n",
       "      <td>...</td>\n",
       "      <td>0</td>\n",
       "      <td>0</td>\n",
       "      <td>0</td>\n",
       "      <td>0</td>\n",
       "      <td>0</td>\n",
       "      <td>0</td>\n",
       "      <td>0</td>\n",
       "      <td>0</td>\n",
       "      <td>0</td>\n",
       "      <td>0</td>\n",
       "    </tr>\n",
       "    <tr>\n",
       "      <th>350</th>\n",
       "      <td>0</td>\n",
       "      <td>0</td>\n",
       "      <td>0</td>\n",
       "      <td>1</td>\n",
       "      <td>0</td>\n",
       "      <td>0</td>\n",
       "      <td>0</td>\n",
       "      <td>0</td>\n",
       "      <td>0</td>\n",
       "      <td>0</td>\n",
       "      <td>...</td>\n",
       "      <td>0</td>\n",
       "      <td>0</td>\n",
       "      <td>0</td>\n",
       "      <td>0</td>\n",
       "      <td>0</td>\n",
       "      <td>0</td>\n",
       "      <td>0</td>\n",
       "      <td>0</td>\n",
       "      <td>0</td>\n",
       "      <td>0</td>\n",
       "    </tr>\n",
       "    <tr>\n",
       "      <th>351</th>\n",
       "      <td>0</td>\n",
       "      <td>0</td>\n",
       "      <td>0</td>\n",
       "      <td>1</td>\n",
       "      <td>0</td>\n",
       "      <td>0</td>\n",
       "      <td>0</td>\n",
       "      <td>0</td>\n",
       "      <td>0</td>\n",
       "      <td>0</td>\n",
       "      <td>...</td>\n",
       "      <td>0</td>\n",
       "      <td>0</td>\n",
       "      <td>0</td>\n",
       "      <td>0</td>\n",
       "      <td>0</td>\n",
       "      <td>0</td>\n",
       "      <td>0</td>\n",
       "      <td>0</td>\n",
       "      <td>0</td>\n",
       "      <td>0</td>\n",
       "    </tr>\n",
       "    <tr>\n",
       "      <th>352</th>\n",
       "      <td>0</td>\n",
       "      <td>0</td>\n",
       "      <td>0</td>\n",
       "      <td>0</td>\n",
       "      <td>0</td>\n",
       "      <td>0</td>\n",
       "      <td>0</td>\n",
       "      <td>0</td>\n",
       "      <td>0</td>\n",
       "      <td>0</td>\n",
       "      <td>...</td>\n",
       "      <td>0</td>\n",
       "      <td>0</td>\n",
       "      <td>0</td>\n",
       "      <td>0</td>\n",
       "      <td>0</td>\n",
       "      <td>0</td>\n",
       "      <td>0</td>\n",
       "      <td>0</td>\n",
       "      <td>0</td>\n",
       "      <td>0</td>\n",
       "    </tr>\n",
       "  </tbody>\n",
       "</table>\n",
       "<p>353 rows × 2211 columns</p>\n",
       "</div>"
      ],
      "text/plain": [
       "     aaron  aarons  ability  able  absoltely  absolute  absolutely  accept  \\\n",
       "0        0       0        0     0          0         0           0       0   \n",
       "1        0       0        0     0          0         0           0       0   \n",
       "2        0       0        0     0          0         0           0       0   \n",
       "3        0       0        0     0          0         0           0       0   \n",
       "4        0       0        0     0          0         0           0       0   \n",
       "..     ...     ...      ...   ...        ...       ...         ...     ...   \n",
       "348      0       0        0     0          0         0           0       0   \n",
       "349      0       0        0     0          0         0           0       0   \n",
       "350      0       0        0     1          0         0           0       0   \n",
       "351      0       0        0     1          0         0           0       0   \n",
       "352      0       0        0     0          0         0           0       0   \n",
       "\n",
       "     acceptable  accepted  ...  wrong  wyndham  xx  year  years  yelp  yet  \\\n",
       "0             0         0  ...      0        0   0     0      0     0    0   \n",
       "1             0         0  ...      0        0   0     0      0     0    0   \n",
       "2             0         0  ...      0        0   0     0      2     0    0   \n",
       "3             0         0  ...      0        0   0     0      0     0    0   \n",
       "4             0         0  ...      0        0   0     0      0     0    0   \n",
       "..          ...       ...  ...    ...      ...  ..   ...    ...   ...  ...   \n",
       "348           1         0  ...      0        0   0     0      0     0    0   \n",
       "349           0         0  ...      0        0   0     0      0     0    0   \n",
       "350           0         0  ...      0        0   0     0      0     0    0   \n",
       "351           0         0  ...      0        0   0     0      0     0    0   \n",
       "352           0         0  ...      0        0   0     0      0     0    0   \n",
       "\n",
       "     you  youi  zero  \n",
       "0      0     0     0  \n",
       "1      0     0     0  \n",
       "2      0     0     0  \n",
       "3      0     0     0  \n",
       "4      1     0     0  \n",
       "..   ...   ...   ...  \n",
       "348    0     0     0  \n",
       "349    0     0     0  \n",
       "350    0     0     0  \n",
       "351    0     0     0  \n",
       "352    0     0     0  \n",
       "\n",
       "[353 rows x 2211 columns]"
      ]
     },
     "execution_count": 47,
     "metadata": {},
     "output_type": "execute_result"
    }
   ],
   "source": [
    "train_x_dtm = pd.DataFrame(trainx_cnt.toarray(), columns = cvect.get_feature_names())\n",
    "train_x_dtm   # term frequency matrix"
   ]
  },
  {
   "cell_type": "code",
   "execution_count": 48,
   "metadata": {},
   "outputs": [
    {
     "data": {
      "text/plain": [
       "<152x2211 sparse matrix of type '<class 'numpy.int64'>'\n",
       "\twith 4953 stored elements in Compressed Sparse Row format>"
      ]
     },
     "execution_count": 48,
     "metadata": {},
     "output_type": "execute_result"
    }
   ],
   "source": [
    "# similarly transforming test data into dtm\n",
    "testx_cnt = cvect.transform(test_x)\n",
    "testx_cnt"
   ]
  },
  {
   "cell_type": "code",
   "execution_count": 49,
   "metadata": {},
   "outputs": [
    {
     "data": {
      "text/html": [
       "<div>\n",
       "<style scoped>\n",
       "    .dataframe tbody tr th:only-of-type {\n",
       "        vertical-align: middle;\n",
       "    }\n",
       "\n",
       "    .dataframe tbody tr th {\n",
       "        vertical-align: top;\n",
       "    }\n",
       "\n",
       "    .dataframe thead th {\n",
       "        text-align: right;\n",
       "    }\n",
       "</style>\n",
       "<table border=\"1\" class=\"dataframe\">\n",
       "  <thead>\n",
       "    <tr style=\"text-align: right;\">\n",
       "      <th></th>\n",
       "      <th>aaron</th>\n",
       "      <th>aarons</th>\n",
       "      <th>ability</th>\n",
       "      <th>able</th>\n",
       "      <th>absoltely</th>\n",
       "      <th>absolute</th>\n",
       "      <th>absolutely</th>\n",
       "      <th>accept</th>\n",
       "      <th>acceptable</th>\n",
       "      <th>accepted</th>\n",
       "      <th>...</th>\n",
       "      <th>wrong</th>\n",
       "      <th>wyndham</th>\n",
       "      <th>xx</th>\n",
       "      <th>year</th>\n",
       "      <th>years</th>\n",
       "      <th>yelp</th>\n",
       "      <th>yet</th>\n",
       "      <th>you</th>\n",
       "      <th>youi</th>\n",
       "      <th>zero</th>\n",
       "    </tr>\n",
       "  </thead>\n",
       "  <tbody>\n",
       "    <tr>\n",
       "      <th>0</th>\n",
       "      <td>0</td>\n",
       "      <td>0</td>\n",
       "      <td>0</td>\n",
       "      <td>0</td>\n",
       "      <td>0</td>\n",
       "      <td>0</td>\n",
       "      <td>0</td>\n",
       "      <td>0</td>\n",
       "      <td>0</td>\n",
       "      <td>1</td>\n",
       "      <td>...</td>\n",
       "      <td>0</td>\n",
       "      <td>0</td>\n",
       "      <td>0</td>\n",
       "      <td>0</td>\n",
       "      <td>0</td>\n",
       "      <td>0</td>\n",
       "      <td>0</td>\n",
       "      <td>0</td>\n",
       "      <td>0</td>\n",
       "      <td>0</td>\n",
       "    </tr>\n",
       "    <tr>\n",
       "      <th>1</th>\n",
       "      <td>0</td>\n",
       "      <td>0</td>\n",
       "      <td>0</td>\n",
       "      <td>0</td>\n",
       "      <td>0</td>\n",
       "      <td>0</td>\n",
       "      <td>0</td>\n",
       "      <td>0</td>\n",
       "      <td>0</td>\n",
       "      <td>0</td>\n",
       "      <td>...</td>\n",
       "      <td>0</td>\n",
       "      <td>0</td>\n",
       "      <td>0</td>\n",
       "      <td>0</td>\n",
       "      <td>0</td>\n",
       "      <td>0</td>\n",
       "      <td>0</td>\n",
       "      <td>0</td>\n",
       "      <td>0</td>\n",
       "      <td>0</td>\n",
       "    </tr>\n",
       "    <tr>\n",
       "      <th>2</th>\n",
       "      <td>0</td>\n",
       "      <td>0</td>\n",
       "      <td>0</td>\n",
       "      <td>0</td>\n",
       "      <td>0</td>\n",
       "      <td>0</td>\n",
       "      <td>0</td>\n",
       "      <td>0</td>\n",
       "      <td>0</td>\n",
       "      <td>0</td>\n",
       "      <td>...</td>\n",
       "      <td>0</td>\n",
       "      <td>0</td>\n",
       "      <td>0</td>\n",
       "      <td>0</td>\n",
       "      <td>0</td>\n",
       "      <td>0</td>\n",
       "      <td>0</td>\n",
       "      <td>0</td>\n",
       "      <td>0</td>\n",
       "      <td>0</td>\n",
       "    </tr>\n",
       "    <tr>\n",
       "      <th>3</th>\n",
       "      <td>0</td>\n",
       "      <td>0</td>\n",
       "      <td>0</td>\n",
       "      <td>0</td>\n",
       "      <td>0</td>\n",
       "      <td>0</td>\n",
       "      <td>0</td>\n",
       "      <td>0</td>\n",
       "      <td>0</td>\n",
       "      <td>0</td>\n",
       "      <td>...</td>\n",
       "      <td>0</td>\n",
       "      <td>0</td>\n",
       "      <td>0</td>\n",
       "      <td>0</td>\n",
       "      <td>0</td>\n",
       "      <td>0</td>\n",
       "      <td>0</td>\n",
       "      <td>0</td>\n",
       "      <td>0</td>\n",
       "      <td>0</td>\n",
       "    </tr>\n",
       "    <tr>\n",
       "      <th>4</th>\n",
       "      <td>0</td>\n",
       "      <td>0</td>\n",
       "      <td>0</td>\n",
       "      <td>0</td>\n",
       "      <td>0</td>\n",
       "      <td>0</td>\n",
       "      <td>0</td>\n",
       "      <td>0</td>\n",
       "      <td>0</td>\n",
       "      <td>0</td>\n",
       "      <td>...</td>\n",
       "      <td>0</td>\n",
       "      <td>0</td>\n",
       "      <td>0</td>\n",
       "      <td>0</td>\n",
       "      <td>0</td>\n",
       "      <td>0</td>\n",
       "      <td>0</td>\n",
       "      <td>0</td>\n",
       "      <td>0</td>\n",
       "      <td>0</td>\n",
       "    </tr>\n",
       "    <tr>\n",
       "      <th>...</th>\n",
       "      <td>...</td>\n",
       "      <td>...</td>\n",
       "      <td>...</td>\n",
       "      <td>...</td>\n",
       "      <td>...</td>\n",
       "      <td>...</td>\n",
       "      <td>...</td>\n",
       "      <td>...</td>\n",
       "      <td>...</td>\n",
       "      <td>...</td>\n",
       "      <td>...</td>\n",
       "      <td>...</td>\n",
       "      <td>...</td>\n",
       "      <td>...</td>\n",
       "      <td>...</td>\n",
       "      <td>...</td>\n",
       "      <td>...</td>\n",
       "      <td>...</td>\n",
       "      <td>...</td>\n",
       "      <td>...</td>\n",
       "      <td>...</td>\n",
       "    </tr>\n",
       "    <tr>\n",
       "      <th>147</th>\n",
       "      <td>0</td>\n",
       "      <td>0</td>\n",
       "      <td>0</td>\n",
       "      <td>0</td>\n",
       "      <td>0</td>\n",
       "      <td>0</td>\n",
       "      <td>0</td>\n",
       "      <td>0</td>\n",
       "      <td>0</td>\n",
       "      <td>0</td>\n",
       "      <td>...</td>\n",
       "      <td>0</td>\n",
       "      <td>0</td>\n",
       "      <td>0</td>\n",
       "      <td>0</td>\n",
       "      <td>0</td>\n",
       "      <td>0</td>\n",
       "      <td>0</td>\n",
       "      <td>0</td>\n",
       "      <td>0</td>\n",
       "      <td>0</td>\n",
       "    </tr>\n",
       "    <tr>\n",
       "      <th>148</th>\n",
       "      <td>0</td>\n",
       "      <td>0</td>\n",
       "      <td>0</td>\n",
       "      <td>1</td>\n",
       "      <td>0</td>\n",
       "      <td>0</td>\n",
       "      <td>0</td>\n",
       "      <td>0</td>\n",
       "      <td>0</td>\n",
       "      <td>0</td>\n",
       "      <td>...</td>\n",
       "      <td>0</td>\n",
       "      <td>0</td>\n",
       "      <td>0</td>\n",
       "      <td>0</td>\n",
       "      <td>0</td>\n",
       "      <td>0</td>\n",
       "      <td>0</td>\n",
       "      <td>0</td>\n",
       "      <td>0</td>\n",
       "      <td>0</td>\n",
       "    </tr>\n",
       "    <tr>\n",
       "      <th>149</th>\n",
       "      <td>0</td>\n",
       "      <td>0</td>\n",
       "      <td>0</td>\n",
       "      <td>0</td>\n",
       "      <td>0</td>\n",
       "      <td>0</td>\n",
       "      <td>0</td>\n",
       "      <td>0</td>\n",
       "      <td>0</td>\n",
       "      <td>0</td>\n",
       "      <td>...</td>\n",
       "      <td>0</td>\n",
       "      <td>0</td>\n",
       "      <td>0</td>\n",
       "      <td>0</td>\n",
       "      <td>0</td>\n",
       "      <td>0</td>\n",
       "      <td>0</td>\n",
       "      <td>0</td>\n",
       "      <td>0</td>\n",
       "      <td>0</td>\n",
       "    </tr>\n",
       "    <tr>\n",
       "      <th>150</th>\n",
       "      <td>1</td>\n",
       "      <td>0</td>\n",
       "      <td>0</td>\n",
       "      <td>2</td>\n",
       "      <td>0</td>\n",
       "      <td>0</td>\n",
       "      <td>0</td>\n",
       "      <td>0</td>\n",
       "      <td>0</td>\n",
       "      <td>0</td>\n",
       "      <td>...</td>\n",
       "      <td>0</td>\n",
       "      <td>0</td>\n",
       "      <td>0</td>\n",
       "      <td>0</td>\n",
       "      <td>0</td>\n",
       "      <td>0</td>\n",
       "      <td>0</td>\n",
       "      <td>0</td>\n",
       "      <td>0</td>\n",
       "      <td>0</td>\n",
       "    </tr>\n",
       "    <tr>\n",
       "      <th>151</th>\n",
       "      <td>0</td>\n",
       "      <td>0</td>\n",
       "      <td>0</td>\n",
       "      <td>0</td>\n",
       "      <td>0</td>\n",
       "      <td>0</td>\n",
       "      <td>0</td>\n",
       "      <td>0</td>\n",
       "      <td>0</td>\n",
       "      <td>0</td>\n",
       "      <td>...</td>\n",
       "      <td>0</td>\n",
       "      <td>0</td>\n",
       "      <td>0</td>\n",
       "      <td>0</td>\n",
       "      <td>0</td>\n",
       "      <td>0</td>\n",
       "      <td>0</td>\n",
       "      <td>0</td>\n",
       "      <td>0</td>\n",
       "      <td>0</td>\n",
       "    </tr>\n",
       "  </tbody>\n",
       "</table>\n",
       "<p>152 rows × 2211 columns</p>\n",
       "</div>"
      ],
      "text/plain": [
       "     aaron  aarons  ability  able  absoltely  absolute  absolutely  accept  \\\n",
       "0        0       0        0     0          0         0           0       0   \n",
       "1        0       0        0     0          0         0           0       0   \n",
       "2        0       0        0     0          0         0           0       0   \n",
       "3        0       0        0     0          0         0           0       0   \n",
       "4        0       0        0     0          0         0           0       0   \n",
       "..     ...     ...      ...   ...        ...       ...         ...     ...   \n",
       "147      0       0        0     0          0         0           0       0   \n",
       "148      0       0        0     1          0         0           0       0   \n",
       "149      0       0        0     0          0         0           0       0   \n",
       "150      1       0        0     2          0         0           0       0   \n",
       "151      0       0        0     0          0         0           0       0   \n",
       "\n",
       "     acceptable  accepted  ...  wrong  wyndham  xx  year  years  yelp  yet  \\\n",
       "0             0         1  ...      0        0   0     0      0     0    0   \n",
       "1             0         0  ...      0        0   0     0      0     0    0   \n",
       "2             0         0  ...      0        0   0     0      0     0    0   \n",
       "3             0         0  ...      0        0   0     0      0     0    0   \n",
       "4             0         0  ...      0        0   0     0      0     0    0   \n",
       "..          ...       ...  ...    ...      ...  ..   ...    ...   ...  ...   \n",
       "147           0         0  ...      0        0   0     0      0     0    0   \n",
       "148           0         0  ...      0        0   0     0      0     0    0   \n",
       "149           0         0  ...      0        0   0     0      0     0    0   \n",
       "150           0         0  ...      0        0   0     0      0     0    0   \n",
       "151           0         0  ...      0        0   0     0      0     0    0   \n",
       "\n",
       "     you  youi  zero  \n",
       "0      0     0     0  \n",
       "1      0     0     0  \n",
       "2      0     0     0  \n",
       "3      0     0     0  \n",
       "4      0     0     0  \n",
       "..   ...   ...   ...  \n",
       "147    0     0     0  \n",
       "148    0     0     0  \n",
       "149    0     0     0  \n",
       "150    0     0     0  \n",
       "151    0     0     0  \n",
       "\n",
       "[152 rows x 2211 columns]"
      ]
     },
     "execution_count": 49,
     "metadata": {},
     "output_type": "execute_result"
    }
   ],
   "source": [
    "test_x_dtm = pd.DataFrame (testx_cnt.toarray(), columns = cvect.get_feature_names())\n",
    "test_x_dtm"
   ]
  },
  {
   "cell_type": "code",
   "execution_count": 50,
   "metadata": {},
   "outputs": [
    {
     "data": {
      "text/plain": [
       "GaussianNB(priors=None, var_smoothing=1e-09)"
      ]
     },
     "execution_count": 50,
     "metadata": {},
     "output_type": "execute_result"
    }
   ],
   "source": [
    "# using GaussianNB for classification\n",
    "\n",
    "gauss = GaussianNB()   # using gaussian as our target is binary - either 5 or 1 star\n",
    "gauss.fit(train_x_dtm, train_y)"
   ]
  },
  {
   "cell_type": "code",
   "execution_count": 51,
   "metadata": {},
   "outputs": [],
   "source": [
    "train_pred_gnb = gauss.predict(train_x_dtm)\n",
    "test_pred_gnb = gauss.predict(test_x_dtm)"
   ]
  },
  {
   "cell_type": "code",
   "execution_count": 52,
   "metadata": {},
   "outputs": [
    {
     "data": {
      "text/plain": [
       "Text(0.5, 0.98, 'Confusion Matrices - DTM(tf) used')"
      ]
     },
     "execution_count": 52,
     "metadata": {},
     "output_type": "execute_result"
    },
    {
     "data": {
      "image/png": "[encoded data removed]",
      "text/plain": [
       "<Figure size 1008x360 with 4 Axes>"
      ]
     },
     "metadata": {},
     "output_type": "display_data"
    }
   ],
   "source": [
    "from sklearn import metrics\n",
    "f,ax = plt.subplots(1,2, figsize=(14,5))\n",
    "sns.heatmap(metrics.confusion_matrix(train_y, train_pred_gnb), annot=True, fmt='d', cmap='Greens',ax=ax[0])\n",
    "ax[0].set_title('Train Data')\n",
    "sns.heatmap(metrics.confusion_matrix(test_y, test_pred_gnb), annot=True, fmt='d', cmap='Reds',ax=ax[1])\n",
    "ax[1].set_title('Test Data')\n",
    "plt.suptitle('Confusion Matrices - DTM(tf) used')"
   ]
  },
  {
   "cell_type": "code",
   "execution_count": 53,
   "metadata": {},
   "outputs": [
    {
     "data": {
      "text/plain": [
       "Text(0.5, 1.0, 'Accuracy Scores (DTM) (Green=Train & Red = Test)')"
      ]
     },
     "execution_count": 53,
     "metadata": {},
     "output_type": "execute_result"
    },
    {
     "data": {
      "image/png": "[encoded data removed]",
      "text/plain": [
       "<Figure size 432x288 with 1 Axes>"
      ]
     },
     "metadata": {},
     "output_type": "display_data"
    }
   ],
   "source": [
    "sns.pointplot(y=[metrics.accuracy_score(train_y, train_pred_gnb)], color='Green', label='Train')\n",
    "sns.pointplot(y=[metrics.accuracy_score(test_y, test_pred_gnb)], color = 'Red', label='Test')\n",
    "plt.title('Accuracy Scores (DTM) (Green=Train & Red = Test)')"
   ]
  },
  {
   "cell_type": "code",
   "execution_count": 54,
   "metadata": {},
   "outputs": [],
   "source": [
    "# creating tf-idf for train and tests\n",
    "tfidf_trans = TfidfTransformer()\n",
    "train_x_tfidf = tfidf_trans.fit_transform(trainx_cnt)"
   ]
  },
  {
   "cell_type": "code",
   "execution_count": 55,
   "metadata": {},
   "outputs": [
    {
     "data": {
      "text/plain": [
       "<353x2211 sparse matrix of type '<class 'numpy.float64'>'\n",
       "\twith 11296 stored elements in Compressed Sparse Row format>"
      ]
     },
     "execution_count": 55,
     "metadata": {},
     "output_type": "execute_result"
    }
   ],
   "source": [
    "train_x_tfidf"
   ]
  },
  {
   "cell_type": "code",
   "execution_count": 56,
   "metadata": {},
   "outputs": [
    {
     "data": {
      "text/plain": [
       "array([[0., 0., 0., ..., 0., 0., 0.],\n",
       "       [0., 0., 0., ..., 0., 0., 0.],\n",
       "       [0., 0., 0., ..., 0., 0., 0.],\n",
       "       ...,\n",
       "       [0., 0., 0., ..., 0., 0., 0.],\n",
       "       [0., 0., 0., ..., 0., 0., 0.],\n",
       "       [0., 0., 0., ..., 0., 0., 0.]])"
      ]
     },
     "execution_count": 56,
     "metadata": {},
     "output_type": "execute_result"
    }
   ],
   "source": [
    "train_x_tfidf.toarray()"
   ]
  },
  {
   "cell_type": "code",
   "execution_count": 57,
   "metadata": {},
   "outputs": [],
   "source": [
    "# similarly creating tfidf for test data\n",
    "test_x_tfidf = tfidf_trans.transform(testx_cnt)"
   ]
  },
  {
   "cell_type": "code",
   "execution_count": 58,
   "metadata": {},
   "outputs": [
    {
     "data": {
      "text/html": [
       "<div>\n",
       "<style scoped>\n",
       "    .dataframe tbody tr th:only-of-type {\n",
       "        vertical-align: middle;\n",
       "    }\n",
       "\n",
       "    .dataframe tbody tr th {\n",
       "        vertical-align: top;\n",
       "    }\n",
       "\n",
       "    .dataframe thead th {\n",
       "        text-align: right;\n",
       "    }\n",
       "</style>\n",
       "<table border=\"1\" class=\"dataframe\">\n",
       "  <thead>\n",
       "    <tr style=\"text-align: right;\">\n",
       "      <th></th>\n",
       "      <th>aaron</th>\n",
       "      <th>aarons</th>\n",
       "      <th>ability</th>\n",
       "      <th>able</th>\n",
       "      <th>absoltely</th>\n",
       "      <th>absolute</th>\n",
       "      <th>absolutely</th>\n",
       "      <th>accept</th>\n",
       "      <th>acceptable</th>\n",
       "      <th>accepted</th>\n",
       "      <th>...</th>\n",
       "      <th>wrong</th>\n",
       "      <th>wyndham</th>\n",
       "      <th>xx</th>\n",
       "      <th>year</th>\n",
       "      <th>years</th>\n",
       "      <th>yelp</th>\n",
       "      <th>yet</th>\n",
       "      <th>you</th>\n",
       "      <th>youi</th>\n",
       "      <th>zero</th>\n",
       "    </tr>\n",
       "  </thead>\n",
       "  <tbody>\n",
       "    <tr>\n",
       "      <th>0</th>\n",
       "      <td>0.0</td>\n",
       "      <td>0.0</td>\n",
       "      <td>0.0</td>\n",
       "      <td>0.000000</td>\n",
       "      <td>0.0</td>\n",
       "      <td>0.0</td>\n",
       "      <td>0.0</td>\n",
       "      <td>0.0</td>\n",
       "      <td>0.000000</td>\n",
       "      <td>0.0</td>\n",
       "      <td>...</td>\n",
       "      <td>0.0</td>\n",
       "      <td>0.0</td>\n",
       "      <td>0.0</td>\n",
       "      <td>0.0</td>\n",
       "      <td>0.000000</td>\n",
       "      <td>0.0</td>\n",
       "      <td>0.0</td>\n",
       "      <td>0.000000</td>\n",
       "      <td>0.0</td>\n",
       "      <td>0.0</td>\n",
       "    </tr>\n",
       "    <tr>\n",
       "      <th>1</th>\n",
       "      <td>0.0</td>\n",
       "      <td>0.0</td>\n",
       "      <td>0.0</td>\n",
       "      <td>0.000000</td>\n",
       "      <td>0.0</td>\n",
       "      <td>0.0</td>\n",
       "      <td>0.0</td>\n",
       "      <td>0.0</td>\n",
       "      <td>0.000000</td>\n",
       "      <td>0.0</td>\n",
       "      <td>...</td>\n",
       "      <td>0.0</td>\n",
       "      <td>0.0</td>\n",
       "      <td>0.0</td>\n",
       "      <td>0.0</td>\n",
       "      <td>0.000000</td>\n",
       "      <td>0.0</td>\n",
       "      <td>0.0</td>\n",
       "      <td>0.000000</td>\n",
       "      <td>0.0</td>\n",
       "      <td>0.0</td>\n",
       "    </tr>\n",
       "    <tr>\n",
       "      <th>2</th>\n",
       "      <td>0.0</td>\n",
       "      <td>0.0</td>\n",
       "      <td>0.0</td>\n",
       "      <td>0.000000</td>\n",
       "      <td>0.0</td>\n",
       "      <td>0.0</td>\n",
       "      <td>0.0</td>\n",
       "      <td>0.0</td>\n",
       "      <td>0.000000</td>\n",
       "      <td>0.0</td>\n",
       "      <td>...</td>\n",
       "      <td>0.0</td>\n",
       "      <td>0.0</td>\n",
       "      <td>0.0</td>\n",
       "      <td>0.0</td>\n",
       "      <td>0.215367</td>\n",
       "      <td>0.0</td>\n",
       "      <td>0.0</td>\n",
       "      <td>0.000000</td>\n",
       "      <td>0.0</td>\n",
       "      <td>0.0</td>\n",
       "    </tr>\n",
       "    <tr>\n",
       "      <th>3</th>\n",
       "      <td>0.0</td>\n",
       "      <td>0.0</td>\n",
       "      <td>0.0</td>\n",
       "      <td>0.000000</td>\n",
       "      <td>0.0</td>\n",
       "      <td>0.0</td>\n",
       "      <td>0.0</td>\n",
       "      <td>0.0</td>\n",
       "      <td>0.000000</td>\n",
       "      <td>0.0</td>\n",
       "      <td>...</td>\n",
       "      <td>0.0</td>\n",
       "      <td>0.0</td>\n",
       "      <td>0.0</td>\n",
       "      <td>0.0</td>\n",
       "      <td>0.000000</td>\n",
       "      <td>0.0</td>\n",
       "      <td>0.0</td>\n",
       "      <td>0.000000</td>\n",
       "      <td>0.0</td>\n",
       "      <td>0.0</td>\n",
       "    </tr>\n",
       "    <tr>\n",
       "      <th>4</th>\n",
       "      <td>0.0</td>\n",
       "      <td>0.0</td>\n",
       "      <td>0.0</td>\n",
       "      <td>0.000000</td>\n",
       "      <td>0.0</td>\n",
       "      <td>0.0</td>\n",
       "      <td>0.0</td>\n",
       "      <td>0.0</td>\n",
       "      <td>0.000000</td>\n",
       "      <td>0.0</td>\n",
       "      <td>...</td>\n",
       "      <td>0.0</td>\n",
       "      <td>0.0</td>\n",
       "      <td>0.0</td>\n",
       "      <td>0.0</td>\n",
       "      <td>0.000000</td>\n",
       "      <td>0.0</td>\n",
       "      <td>0.0</td>\n",
       "      <td>0.259893</td>\n",
       "      <td>0.0</td>\n",
       "      <td>0.0</td>\n",
       "    </tr>\n",
       "    <tr>\n",
       "      <th>...</th>\n",
       "      <td>...</td>\n",
       "      <td>...</td>\n",
       "      <td>...</td>\n",
       "      <td>...</td>\n",
       "      <td>...</td>\n",
       "      <td>...</td>\n",
       "      <td>...</td>\n",
       "      <td>...</td>\n",
       "      <td>...</td>\n",
       "      <td>...</td>\n",
       "      <td>...</td>\n",
       "      <td>...</td>\n",
       "      <td>...</td>\n",
       "      <td>...</td>\n",
       "      <td>...</td>\n",
       "      <td>...</td>\n",
       "      <td>...</td>\n",
       "      <td>...</td>\n",
       "      <td>...</td>\n",
       "      <td>...</td>\n",
       "      <td>...</td>\n",
       "    </tr>\n",
       "    <tr>\n",
       "      <th>348</th>\n",
       "      <td>0.0</td>\n",
       "      <td>0.0</td>\n",
       "      <td>0.0</td>\n",
       "      <td>0.000000</td>\n",
       "      <td>0.0</td>\n",
       "      <td>0.0</td>\n",
       "      <td>0.0</td>\n",
       "      <td>0.0</td>\n",
       "      <td>0.100331</td>\n",
       "      <td>0.0</td>\n",
       "      <td>...</td>\n",
       "      <td>0.0</td>\n",
       "      <td>0.0</td>\n",
       "      <td>0.0</td>\n",
       "      <td>0.0</td>\n",
       "      <td>0.000000</td>\n",
       "      <td>0.0</td>\n",
       "      <td>0.0</td>\n",
       "      <td>0.000000</td>\n",
       "      <td>0.0</td>\n",
       "      <td>0.0</td>\n",
       "    </tr>\n",
       "    <tr>\n",
       "      <th>349</th>\n",
       "      <td>0.0</td>\n",
       "      <td>0.0</td>\n",
       "      <td>0.0</td>\n",
       "      <td>0.000000</td>\n",
       "      <td>0.0</td>\n",
       "      <td>0.0</td>\n",
       "      <td>0.0</td>\n",
       "      <td>0.0</td>\n",
       "      <td>0.000000</td>\n",
       "      <td>0.0</td>\n",
       "      <td>...</td>\n",
       "      <td>0.0</td>\n",
       "      <td>0.0</td>\n",
       "      <td>0.0</td>\n",
       "      <td>0.0</td>\n",
       "      <td>0.000000</td>\n",
       "      <td>0.0</td>\n",
       "      <td>0.0</td>\n",
       "      <td>0.000000</td>\n",
       "      <td>0.0</td>\n",
       "      <td>0.0</td>\n",
       "    </tr>\n",
       "    <tr>\n",
       "      <th>350</th>\n",
       "      <td>0.0</td>\n",
       "      <td>0.0</td>\n",
       "      <td>0.0</td>\n",
       "      <td>0.137792</td>\n",
       "      <td>0.0</td>\n",
       "      <td>0.0</td>\n",
       "      <td>0.0</td>\n",
       "      <td>0.0</td>\n",
       "      <td>0.000000</td>\n",
       "      <td>0.0</td>\n",
       "      <td>...</td>\n",
       "      <td>0.0</td>\n",
       "      <td>0.0</td>\n",
       "      <td>0.0</td>\n",
       "      <td>0.0</td>\n",
       "      <td>0.000000</td>\n",
       "      <td>0.0</td>\n",
       "      <td>0.0</td>\n",
       "      <td>0.000000</td>\n",
       "      <td>0.0</td>\n",
       "      <td>0.0</td>\n",
       "    </tr>\n",
       "    <tr>\n",
       "      <th>351</th>\n",
       "      <td>0.0</td>\n",
       "      <td>0.0</td>\n",
       "      <td>0.0</td>\n",
       "      <td>0.160248</td>\n",
       "      <td>0.0</td>\n",
       "      <td>0.0</td>\n",
       "      <td>0.0</td>\n",
       "      <td>0.0</td>\n",
       "      <td>0.000000</td>\n",
       "      <td>0.0</td>\n",
       "      <td>...</td>\n",
       "      <td>0.0</td>\n",
       "      <td>0.0</td>\n",
       "      <td>0.0</td>\n",
       "      <td>0.0</td>\n",
       "      <td>0.000000</td>\n",
       "      <td>0.0</td>\n",
       "      <td>0.0</td>\n",
       "      <td>0.000000</td>\n",
       "      <td>0.0</td>\n",
       "      <td>0.0</td>\n",
       "    </tr>\n",
       "    <tr>\n",
       "      <th>352</th>\n",
       "      <td>0.0</td>\n",
       "      <td>0.0</td>\n",
       "      <td>0.0</td>\n",
       "      <td>0.000000</td>\n",
       "      <td>0.0</td>\n",
       "      <td>0.0</td>\n",
       "      <td>0.0</td>\n",
       "      <td>0.0</td>\n",
       "      <td>0.000000</td>\n",
       "      <td>0.0</td>\n",
       "      <td>...</td>\n",
       "      <td>0.0</td>\n",
       "      <td>0.0</td>\n",
       "      <td>0.0</td>\n",
       "      <td>0.0</td>\n",
       "      <td>0.000000</td>\n",
       "      <td>0.0</td>\n",
       "      <td>0.0</td>\n",
       "      <td>0.000000</td>\n",
       "      <td>0.0</td>\n",
       "      <td>0.0</td>\n",
       "    </tr>\n",
       "  </tbody>\n",
       "</table>\n",
       "<p>353 rows × 2211 columns</p>\n",
       "</div>"
      ],
      "text/plain": [
       "     aaron  aarons  ability      able  absoltely  absolute  absolutely  \\\n",
       "0      0.0     0.0      0.0  0.000000        0.0       0.0         0.0   \n",
       "1      0.0     0.0      0.0  0.000000        0.0       0.0         0.0   \n",
       "2      0.0     0.0      0.0  0.000000        0.0       0.0         0.0   \n",
       "3      0.0     0.0      0.0  0.000000        0.0       0.0         0.0   \n",
       "4      0.0     0.0      0.0  0.000000        0.0       0.0         0.0   \n",
       "..     ...     ...      ...       ...        ...       ...         ...   \n",
       "348    0.0     0.0      0.0  0.000000        0.0       0.0         0.0   \n",
       "349    0.0     0.0      0.0  0.000000        0.0       0.0         0.0   \n",
       "350    0.0     0.0      0.0  0.137792        0.0       0.0         0.0   \n",
       "351    0.0     0.0      0.0  0.160248        0.0       0.0         0.0   \n",
       "352    0.0     0.0      0.0  0.000000        0.0       0.0         0.0   \n",
       "\n",
       "     accept  acceptable  accepted  ...  wrong  wyndham   xx  year     years  \\\n",
       "0       0.0    0.000000       0.0  ...    0.0      0.0  0.0   0.0  0.000000   \n",
       "1       0.0    0.000000       0.0  ...    0.0      0.0  0.0   0.0  0.000000   \n",
       "2       0.0    0.000000       0.0  ...    0.0      0.0  0.0   0.0  0.215367   \n",
       "3       0.0    0.000000       0.0  ...    0.0      0.0  0.0   0.0  0.000000   \n",
       "4       0.0    0.000000       0.0  ...    0.0      0.0  0.0   0.0  0.000000   \n",
       "..      ...         ...       ...  ...    ...      ...  ...   ...       ...   \n",
       "348     0.0    0.100331       0.0  ...    0.0      0.0  0.0   0.0  0.000000   \n",
       "349     0.0    0.000000       0.0  ...    0.0      0.0  0.0   0.0  0.000000   \n",
       "350     0.0    0.000000       0.0  ...    0.0      0.0  0.0   0.0  0.000000   \n",
       "351     0.0    0.000000       0.0  ...    0.0      0.0  0.0   0.0  0.000000   \n",
       "352     0.0    0.000000       0.0  ...    0.0      0.0  0.0   0.0  0.000000   \n",
       "\n",
       "     yelp  yet       you  youi  zero  \n",
       "0     0.0  0.0  0.000000   0.0   0.0  \n",
       "1     0.0  0.0  0.000000   0.0   0.0  \n",
       "2     0.0  0.0  0.000000   0.0   0.0  \n",
       "3     0.0  0.0  0.000000   0.0   0.0  \n",
       "4     0.0  0.0  0.259893   0.0   0.0  \n",
       "..    ...  ...       ...   ...   ...  \n",
       "348   0.0  0.0  0.000000   0.0   0.0  \n",
       "349   0.0  0.0  0.000000   0.0   0.0  \n",
       "350   0.0  0.0  0.000000   0.0   0.0  \n",
       "351   0.0  0.0  0.000000   0.0   0.0  \n",
       "352   0.0  0.0  0.000000   0.0   0.0  \n",
       "\n",
       "[353 rows x 2211 columns]"
      ]
     },
     "execution_count": 58,
     "metadata": {},
     "output_type": "execute_result"
    }
   ],
   "source": [
    "train_x_tdm = pd.DataFrame(train_x_tfidf.toarray(), columns = cvect.get_feature_names())\n",
    "train_x_tdm # this is tf-idf mat."
   ]
  },
  {
   "cell_type": "code",
   "execution_count": 59,
   "metadata": {},
   "outputs": [
    {
     "data": {
      "text/html": [
       "<div>\n",
       "<style scoped>\n",
       "    .dataframe tbody tr th:only-of-type {\n",
       "        vertical-align: middle;\n",
       "    }\n",
       "\n",
       "    .dataframe tbody tr th {\n",
       "        vertical-align: top;\n",
       "    }\n",
       "\n",
       "    .dataframe thead th {\n",
       "        text-align: right;\n",
       "    }\n",
       "</style>\n",
       "<table border=\"1\" class=\"dataframe\">\n",
       "  <thead>\n",
       "    <tr style=\"text-align: right;\">\n",
       "      <th></th>\n",
       "      <th>aaron</th>\n",
       "      <th>aarons</th>\n",
       "      <th>ability</th>\n",
       "      <th>able</th>\n",
       "      <th>absoltely</th>\n",
       "      <th>absolute</th>\n",
       "      <th>absolutely</th>\n",
       "      <th>accept</th>\n",
       "      <th>acceptable</th>\n",
       "      <th>accepted</th>\n",
       "      <th>...</th>\n",
       "      <th>wrong</th>\n",
       "      <th>wyndham</th>\n",
       "      <th>xx</th>\n",
       "      <th>year</th>\n",
       "      <th>years</th>\n",
       "      <th>yelp</th>\n",
       "      <th>yet</th>\n",
       "      <th>you</th>\n",
       "      <th>youi</th>\n",
       "      <th>zero</th>\n",
       "    </tr>\n",
       "  </thead>\n",
       "  <tbody>\n",
       "    <tr>\n",
       "      <th>0</th>\n",
       "      <td>0.000000</td>\n",
       "      <td>0.0</td>\n",
       "      <td>0.0</td>\n",
       "      <td>0.000000</td>\n",
       "      <td>0.0</td>\n",
       "      <td>0.0</td>\n",
       "      <td>0.0</td>\n",
       "      <td>0.0</td>\n",
       "      <td>0.0</td>\n",
       "      <td>0.307132</td>\n",
       "      <td>...</td>\n",
       "      <td>0.0</td>\n",
       "      <td>0.0</td>\n",
       "      <td>0.0</td>\n",
       "      <td>0.0</td>\n",
       "      <td>0.0</td>\n",
       "      <td>0.0</td>\n",
       "      <td>0.0</td>\n",
       "      <td>0.0</td>\n",
       "      <td>0.0</td>\n",
       "      <td>0.0</td>\n",
       "    </tr>\n",
       "    <tr>\n",
       "      <th>1</th>\n",
       "      <td>0.000000</td>\n",
       "      <td>0.0</td>\n",
       "      <td>0.0</td>\n",
       "      <td>0.000000</td>\n",
       "      <td>0.0</td>\n",
       "      <td>0.0</td>\n",
       "      <td>0.0</td>\n",
       "      <td>0.0</td>\n",
       "      <td>0.0</td>\n",
       "      <td>0.000000</td>\n",
       "      <td>...</td>\n",
       "      <td>0.0</td>\n",
       "      <td>0.0</td>\n",
       "      <td>0.0</td>\n",
       "      <td>0.0</td>\n",
       "      <td>0.0</td>\n",
       "      <td>0.0</td>\n",
       "      <td>0.0</td>\n",
       "      <td>0.0</td>\n",
       "      <td>0.0</td>\n",
       "      <td>0.0</td>\n",
       "    </tr>\n",
       "    <tr>\n",
       "      <th>2</th>\n",
       "      <td>0.000000</td>\n",
       "      <td>0.0</td>\n",
       "      <td>0.0</td>\n",
       "      <td>0.000000</td>\n",
       "      <td>0.0</td>\n",
       "      <td>0.0</td>\n",
       "      <td>0.0</td>\n",
       "      <td>0.0</td>\n",
       "      <td>0.0</td>\n",
       "      <td>0.000000</td>\n",
       "      <td>...</td>\n",
       "      <td>0.0</td>\n",
       "      <td>0.0</td>\n",
       "      <td>0.0</td>\n",
       "      <td>0.0</td>\n",
       "      <td>0.0</td>\n",
       "      <td>0.0</td>\n",
       "      <td>0.0</td>\n",
       "      <td>0.0</td>\n",
       "      <td>0.0</td>\n",
       "      <td>0.0</td>\n",
       "    </tr>\n",
       "    <tr>\n",
       "      <th>3</th>\n",
       "      <td>0.000000</td>\n",
       "      <td>0.0</td>\n",
       "      <td>0.0</td>\n",
       "      <td>0.000000</td>\n",
       "      <td>0.0</td>\n",
       "      <td>0.0</td>\n",
       "      <td>0.0</td>\n",
       "      <td>0.0</td>\n",
       "      <td>0.0</td>\n",
       "      <td>0.000000</td>\n",
       "      <td>...</td>\n",
       "      <td>0.0</td>\n",
       "      <td>0.0</td>\n",
       "      <td>0.0</td>\n",
       "      <td>0.0</td>\n",
       "      <td>0.0</td>\n",
       "      <td>0.0</td>\n",
       "      <td>0.0</td>\n",
       "      <td>0.0</td>\n",
       "      <td>0.0</td>\n",
       "      <td>0.0</td>\n",
       "    </tr>\n",
       "    <tr>\n",
       "      <th>4</th>\n",
       "      <td>0.000000</td>\n",
       "      <td>0.0</td>\n",
       "      <td>0.0</td>\n",
       "      <td>0.000000</td>\n",
       "      <td>0.0</td>\n",
       "      <td>0.0</td>\n",
       "      <td>0.0</td>\n",
       "      <td>0.0</td>\n",
       "      <td>0.0</td>\n",
       "      <td>0.000000</td>\n",
       "      <td>...</td>\n",
       "      <td>0.0</td>\n",
       "      <td>0.0</td>\n",
       "      <td>0.0</td>\n",
       "      <td>0.0</td>\n",
       "      <td>0.0</td>\n",
       "      <td>0.0</td>\n",
       "      <td>0.0</td>\n",
       "      <td>0.0</td>\n",
       "      <td>0.0</td>\n",
       "      <td>0.0</td>\n",
       "    </tr>\n",
       "    <tr>\n",
       "      <th>...</th>\n",
       "      <td>...</td>\n",
       "      <td>...</td>\n",
       "      <td>...</td>\n",
       "      <td>...</td>\n",
       "      <td>...</td>\n",
       "      <td>...</td>\n",
       "      <td>...</td>\n",
       "      <td>...</td>\n",
       "      <td>...</td>\n",
       "      <td>...</td>\n",
       "      <td>...</td>\n",
       "      <td>...</td>\n",
       "      <td>...</td>\n",
       "      <td>...</td>\n",
       "      <td>...</td>\n",
       "      <td>...</td>\n",
       "      <td>...</td>\n",
       "      <td>...</td>\n",
       "      <td>...</td>\n",
       "      <td>...</td>\n",
       "      <td>...</td>\n",
       "    </tr>\n",
       "    <tr>\n",
       "      <th>147</th>\n",
       "      <td>0.000000</td>\n",
       "      <td>0.0</td>\n",
       "      <td>0.0</td>\n",
       "      <td>0.000000</td>\n",
       "      <td>0.0</td>\n",
       "      <td>0.0</td>\n",
       "      <td>0.0</td>\n",
       "      <td>0.0</td>\n",
       "      <td>0.0</td>\n",
       "      <td>0.000000</td>\n",
       "      <td>...</td>\n",
       "      <td>0.0</td>\n",
       "      <td>0.0</td>\n",
       "      <td>0.0</td>\n",
       "      <td>0.0</td>\n",
       "      <td>0.0</td>\n",
       "      <td>0.0</td>\n",
       "      <td>0.0</td>\n",
       "      <td>0.0</td>\n",
       "      <td>0.0</td>\n",
       "      <td>0.0</td>\n",
       "    </tr>\n",
       "    <tr>\n",
       "      <th>148</th>\n",
       "      <td>0.000000</td>\n",
       "      <td>0.0</td>\n",
       "      <td>0.0</td>\n",
       "      <td>0.128209</td>\n",
       "      <td>0.0</td>\n",
       "      <td>0.0</td>\n",
       "      <td>0.0</td>\n",
       "      <td>0.0</td>\n",
       "      <td>0.0</td>\n",
       "      <td>0.000000</td>\n",
       "      <td>...</td>\n",
       "      <td>0.0</td>\n",
       "      <td>0.0</td>\n",
       "      <td>0.0</td>\n",
       "      <td>0.0</td>\n",
       "      <td>0.0</td>\n",
       "      <td>0.0</td>\n",
       "      <td>0.0</td>\n",
       "      <td>0.0</td>\n",
       "      <td>0.0</td>\n",
       "      <td>0.0</td>\n",
       "    </tr>\n",
       "    <tr>\n",
       "      <th>149</th>\n",
       "      <td>0.000000</td>\n",
       "      <td>0.0</td>\n",
       "      <td>0.0</td>\n",
       "      <td>0.000000</td>\n",
       "      <td>0.0</td>\n",
       "      <td>0.0</td>\n",
       "      <td>0.0</td>\n",
       "      <td>0.0</td>\n",
       "      <td>0.0</td>\n",
       "      <td>0.000000</td>\n",
       "      <td>...</td>\n",
       "      <td>0.0</td>\n",
       "      <td>0.0</td>\n",
       "      <td>0.0</td>\n",
       "      <td>0.0</td>\n",
       "      <td>0.0</td>\n",
       "      <td>0.0</td>\n",
       "      <td>0.0</td>\n",
       "      <td>0.0</td>\n",
       "      <td>0.0</td>\n",
       "      <td>0.0</td>\n",
       "    </tr>\n",
       "    <tr>\n",
       "      <th>150</th>\n",
       "      <td>0.159254</td>\n",
       "      <td>0.0</td>\n",
       "      <td>0.0</td>\n",
       "      <td>0.228435</td>\n",
       "      <td>0.0</td>\n",
       "      <td>0.0</td>\n",
       "      <td>0.0</td>\n",
       "      <td>0.0</td>\n",
       "      <td>0.0</td>\n",
       "      <td>0.000000</td>\n",
       "      <td>...</td>\n",
       "      <td>0.0</td>\n",
       "      <td>0.0</td>\n",
       "      <td>0.0</td>\n",
       "      <td>0.0</td>\n",
       "      <td>0.0</td>\n",
       "      <td>0.0</td>\n",
       "      <td>0.0</td>\n",
       "      <td>0.0</td>\n",
       "      <td>0.0</td>\n",
       "      <td>0.0</td>\n",
       "    </tr>\n",
       "    <tr>\n",
       "      <th>151</th>\n",
       "      <td>0.000000</td>\n",
       "      <td>0.0</td>\n",
       "      <td>0.0</td>\n",
       "      <td>0.000000</td>\n",
       "      <td>0.0</td>\n",
       "      <td>0.0</td>\n",
       "      <td>0.0</td>\n",
       "      <td>0.0</td>\n",
       "      <td>0.0</td>\n",
       "      <td>0.000000</td>\n",
       "      <td>...</td>\n",
       "      <td>0.0</td>\n",
       "      <td>0.0</td>\n",
       "      <td>0.0</td>\n",
       "      <td>0.0</td>\n",
       "      <td>0.0</td>\n",
       "      <td>0.0</td>\n",
       "      <td>0.0</td>\n",
       "      <td>0.0</td>\n",
       "      <td>0.0</td>\n",
       "      <td>0.0</td>\n",
       "    </tr>\n",
       "  </tbody>\n",
       "</table>\n",
       "<p>152 rows × 2211 columns</p>\n",
       "</div>"
      ],
      "text/plain": [
       "        aaron  aarons  ability      able  absoltely  absolute  absolutely  \\\n",
       "0    0.000000     0.0      0.0  0.000000        0.0       0.0         0.0   \n",
       "1    0.000000     0.0      0.0  0.000000        0.0       0.0         0.0   \n",
       "2    0.000000     0.0      0.0  0.000000        0.0       0.0         0.0   \n",
       "3    0.000000     0.0      0.0  0.000000        0.0       0.0         0.0   \n",
       "4    0.000000     0.0      0.0  0.000000        0.0       0.0         0.0   \n",
       "..        ...     ...      ...       ...        ...       ...         ...   \n",
       "147  0.000000     0.0      0.0  0.000000        0.0       0.0         0.0   \n",
       "148  0.000000     0.0      0.0  0.128209        0.0       0.0         0.0   \n",
       "149  0.000000     0.0      0.0  0.000000        0.0       0.0         0.0   \n",
       "150  0.159254     0.0      0.0  0.228435        0.0       0.0         0.0   \n",
       "151  0.000000     0.0      0.0  0.000000        0.0       0.0         0.0   \n",
       "\n",
       "     accept  acceptable  accepted  ...  wrong  wyndham   xx  year  years  \\\n",
       "0       0.0         0.0  0.307132  ...    0.0      0.0  0.0   0.0    0.0   \n",
       "1       0.0         0.0  0.000000  ...    0.0      0.0  0.0   0.0    0.0   \n",
       "2       0.0         0.0  0.000000  ...    0.0      0.0  0.0   0.0    0.0   \n",
       "3       0.0         0.0  0.000000  ...    0.0      0.0  0.0   0.0    0.0   \n",
       "4       0.0         0.0  0.000000  ...    0.0      0.0  0.0   0.0    0.0   \n",
       "..      ...         ...       ...  ...    ...      ...  ...   ...    ...   \n",
       "147     0.0         0.0  0.000000  ...    0.0      0.0  0.0   0.0    0.0   \n",
       "148     0.0         0.0  0.000000  ...    0.0      0.0  0.0   0.0    0.0   \n",
       "149     0.0         0.0  0.000000  ...    0.0      0.0  0.0   0.0    0.0   \n",
       "150     0.0         0.0  0.000000  ...    0.0      0.0  0.0   0.0    0.0   \n",
       "151     0.0         0.0  0.000000  ...    0.0      0.0  0.0   0.0    0.0   \n",
       "\n",
       "     yelp  yet  you  youi  zero  \n",
       "0     0.0  0.0  0.0   0.0   0.0  \n",
       "1     0.0  0.0  0.0   0.0   0.0  \n",
       "2     0.0  0.0  0.0   0.0   0.0  \n",
       "3     0.0  0.0  0.0   0.0   0.0  \n",
       "4     0.0  0.0  0.0   0.0   0.0  \n",
       "..    ...  ...  ...   ...   ...  \n",
       "147   0.0  0.0  0.0   0.0   0.0  \n",
       "148   0.0  0.0  0.0   0.0   0.0  \n",
       "149   0.0  0.0  0.0   0.0   0.0  \n",
       "150   0.0  0.0  0.0   0.0   0.0  \n",
       "151   0.0  0.0  0.0   0.0   0.0  \n",
       "\n",
       "[152 rows x 2211 columns]"
      ]
     },
     "execution_count": 59,
     "metadata": {},
     "output_type": "execute_result"
    }
   ],
   "source": [
    "test_x_tdm = pd.DataFrame(test_x_tfidf.toarray(), columns = cvect.get_feature_names())\n",
    "test_x_tdm"
   ]
  },
  {
   "cell_type": "code",
   "execution_count": 60,
   "metadata": {},
   "outputs": [
    {
     "data": {
      "text/plain": [
       "GaussianNB(priors=None, var_smoothing=1e-09)"
      ]
     },
     "execution_count": 60,
     "metadata": {},
     "output_type": "execute_result"
    }
   ],
   "source": [
    "gauss2 = GaussianNB()\n",
    "gauss2.fit(train_x_tdm, train_y)"
   ]
  },
  {
   "cell_type": "code",
   "execution_count": 61,
   "metadata": {},
   "outputs": [],
   "source": [
    "train_pred_tdm = gauss2.predict(train_x_tdm)\n",
    "test_pred_tdm = gauss2.predict(test_x_tdm)"
   ]
  },
  {
   "cell_type": "code",
   "execution_count": 62,
   "metadata": {},
   "outputs": [
    {
     "data": {
      "text/plain": [
       "Text(0.5, 0.98, 'Confusion Matrices - TDM(tfidf) used')"
      ]
     },
     "execution_count": 62,
     "metadata": {},
     "output_type": "execute_result"
    },
    {
     "data": {
      "image/png": "[encoded data removed]",
      "text/plain": [
       "<Figure size 1008x360 with 4 Axes>"
      ]
     },
     "metadata": {},
     "output_type": "display_data"
    }
   ],
   "source": [
    "f,ax = plt.subplots(1,2, figsize=(14,5))\n",
    "sns.heatmap(metrics.confusion_matrix(train_y, train_pred_tdm), annot=True, fmt='d', cmap='Greens', ax=ax[0])\n",
    "ax[0].set_title('Train Data')\n",
    "sns.heatmap(metrics.confusion_matrix(test_y, test_pred_tdm), annot=True, fmt='d', cmap='Reds', ax=ax[1])\n",
    "ax[1].set_title('Test Data')\n",
    "plt.suptitle('Confusion Matrices - TDM(tfidf) used')"
   ]
  },
  {
   "cell_type": "code",
   "execution_count": 63,
   "metadata": {},
   "outputs": [
    {
     "data": {
      "text/plain": [
       "Text(0.5, 1.0, 'Accuracy Scores (TDM) (Green=Train & Red = Test)')"
      ]
     },
     "execution_count": 63,
     "metadata": {},
     "output_type": "execute_result"
    },
    {
     "data": {
      "image/png": "[encoded data removed]",
      "text/plain": [
       "<Figure size 432x288 with 1 Axes>"
      ]
     },
     "metadata": {},
     "output_type": "display_data"
    }
   ],
   "source": [
    "sns.pointplot(y=[metrics.accuracy_score(train_y,  train_pred_tdm)], color='Green', label='Train')\n",
    "sns.pointplot(y=[metrics.accuracy_score(test_y, test_pred_tdm)], color = 'Red', label='Test')\n",
    "plt.title('Accuracy Scores (TDM) (Green=Train & Red = Test)')"
   ]
  },
  {
   "cell_type": "markdown",
   "metadata": {},
   "source": [
    " From the above plots we infer that \n",
    " * the accuracy and classification has imporoved slightly when we used tf-idf i.e. term frequency-inverse document frequency over simple term-frequency matrix"
   ]
  },
  {
   "cell_type": "markdown",
   "metadata": {},
   "source": [
    "# Identifying Key Themes & Intent Analysis"
   ]
  },
  {
   "cell_type": "markdown",
   "metadata": {},
   "source": [
    "### Using LDA for topic modelling "
   ]
  },
  {
   "cell_type": "markdown",
   "metadata": {},
   "source": [
    "**Approach :**  \n",
    "* lemmetizing text before modelling\n",
    "\n",
    "* for lemmetization I am using **\"pywsd\"** package which uses NLTK word lemmetizer to lemmetize entire sentences rather than word by word. It is based on the same approach as NLTK lemmetizer to which words to be lemmetized are sent as parameters, here sentences to be lemmetized are sent as parameters and returns list of lemmatized words.\n",
    "\n",
    "* can be installed using  #pip install -U pywsd"
   ]
  },
  {
   "cell_type": "code",
   "execution_count": 64,
   "metadata": {},
   "outputs": [
    {
     "name": "stdout",
     "output_type": "stream",
     "text": [
      "Collecting pywsd\r\n",
      "\u001b[?25l  Downloading https://files.pythonhosted.org/packages/9d/bb/427a49c461b0970c124509f77d2cd75bdca0daa746155c45d065f0af93e3/pywsd-1.2.4.tar.gz (26.8MB)\r\n",
      "\u001b[K     |████████████████████████████████| 26.8MB 3.2MB/s \r\n",
      "\u001b[?25hRequirement already satisfied, skipping upgrade: nltk in /opt/conda/lib/python3.6/site-packages (from pywsd) (3.2.4)\r\n",
      "Requirement already satisfied, skipping upgrade: numpy in /opt/conda/lib/python3.6/site-packages (from pywsd) (1.17.4)\r\n",
      "Requirement already satisfied, skipping upgrade: pandas in /opt/conda/lib/python3.6/site-packages (from pywsd) (0.25.3)\r\n",
      "Collecting wn\r\n",
      "\u001b[?25l  Downloading https://files.pythonhosted.org/packages/b1/51/9c7f0f91ca7393da8efb5b3924ed7067afabcb5462c72b4b94f4e7af4c43/wn-0.0.22.tar.gz (31.5MB)\r\n",
      "\u001b[K     |████████████████████████████████| 31.5MB 22.4MB/s \r\n",
      "\u001b[?25hRequirement already satisfied, skipping upgrade: six in /opt/conda/lib/python3.6/site-packages (from pywsd) (1.13.0)\r\n",
      "Requirement already satisfied, skipping upgrade: python-dateutil>=2.6.1 in /opt/conda/lib/python3.6/site-packages (from pandas->pywsd) (2.8.0)\r\n",
      "Requirement already satisfied, skipping upgrade: pytz>=2017.2 in /opt/conda/lib/python3.6/site-packages (from pandas->pywsd) (2019.3)\r\n",
      "Building wheels for collected packages: pywsd, wn\r\n",
      "  Building wheel for pywsd (setup.py) ... \u001b[?25l-\b \b\\\b \b|\b \b/\b \b-\b \b\\\b \bdone\r\n",
      "\u001b[?25h  Created wheel for pywsd: filename=pywsd-1.2.4-cp36-none-any.whl size=26940452 sha256=e695d8e7c191e5cf85661fd648693c078288fbcf4af3f8c1216dc5a6cdb72901\r\n",
      "  Stored in directory: /tmp/.cache/pip/wheels/71/4d/d2/405b948047f7f3851f16ab9d893ce7c1a3010182900884536b\r\n",
      "  Building wheel for wn (setup.py) ... \u001b[?25l-\b \b\\\b \b|\b \b/\b \b-\b \b\\\b \b|\b \b/\b \b-\b \b\\\b \b|\b \b/\b \b-\b \b\\\b \b|\b \b/\b \b-\b \b\\\b \b|\b \b/\b \b-\b \b\\\b \b|\b \b/\b \b-\b \b\\\b \b|\b \bdone\r\n",
      "\u001b[?25h  Created wheel for wn: filename=wn-0.0.22-cp36-none-any.whl size=31618502 sha256=6e628907d2e58a1eec4695115527632679c1eb8111bcfddc4ef5e26022712fe3\r\n",
      "  Stored in directory: /tmp/.cache/pip/wheels/0c/71/8e/49271a2ce7d9a6e819766364a5329919868eba3cd31fab7086\r\n",
      "Successfully built pywsd wn\r\n",
      "Installing collected packages: wn, pywsd\r\n",
      "Successfully installed pywsd-1.2.4 wn-0.0.22\r\n",
      "Note: you may need to restart the kernel to use updated packages.\n"
     ]
    }
   ],
   "source": [
    "pip install -U pywsd"
   ]
  },
  {
   "cell_type": "code",
   "execution_count": 65,
   "metadata": {},
   "outputs": [],
   "source": [
    "rev_text = sent.edit_rev.copy()"
   ]
  },
  {
   "cell_type": "code",
   "execution_count": 66,
   "metadata": {},
   "outputs": [
    {
     "data": {
      "text/plain": [
       "0      great job wyndham capital person professional ...\n",
       "1      matthew richardson professional helpful helped...\n",
       "2      past experience wyndham mortgage would without...\n",
       "3      dealing brad thomka beginning started stressfu...\n",
       "4      cant express grateful support zach provided fa...\n",
       "                             ...                        \n",
       "500    never write reviews time prevent anyone making...\n",
       "501    started bob g ran credit check without knowled...\n",
       "502    horrible experience excellent credit plenty in...\n",
       "503    rep extremely professional friendly helpful fi...\n",
       "504    working loan consultant nasb told would give r...\n",
       "Name: edit_rev, Length: 505, dtype: object"
      ]
     },
     "execution_count": 66,
     "metadata": {},
     "output_type": "execute_result"
    }
   ],
   "source": [
    "#rev_text = rev_text.apply(lambda t : t.split())\n",
    "rev_text"
   ]
  },
  {
   "cell_type": "code",
   "execution_count": 67,
   "metadata": {},
   "outputs": [
    {
     "name": "stderr",
     "output_type": "stream",
     "text": [
      "Warming up PyWSD (takes ~10 secs)... took 7.143453359603882 secs.\n"
     ]
    }
   ],
   "source": [
    "from pywsd.utils import lemmatize_sentence\n",
    "\n",
    "rev_text_lemmed = rev_text.apply(lambda t : lemmatize_sentence(t))"
   ]
  },
  {
   "cell_type": "code",
   "execution_count": 68,
   "metadata": {},
   "outputs": [
    {
     "data": {
      "text/plain": [
       "0      great job wyndham capital person professional ...\n",
       "1      matthew richardson professional helpful help u...\n",
       "2      past experience wyndham mortgage would without...\n",
       "3      deal brad thomka beginning start stressful tim...\n",
       "4      cant express grateful support zach provide fam...\n",
       "                             ...                        \n",
       "500    never write review time prevent anyone make mi...\n",
       "501    start bob g run credit check without knowledge...\n",
       "502    horrible experience excellent credit plenty in...\n",
       "503    rep extremely professional friendly helpful fi...\n",
       "504    work loan consultant nasb tell would give rate...\n",
       "Name: edit_rev, Length: 505, dtype: object"
      ]
     },
     "execution_count": 68,
     "metadata": {},
     "output_type": "execute_result"
    }
   ],
   "source": [
    "rev_text_lemmed = rev_text_lemmed.apply(lambda t : \" \".join(t))\n",
    "rev_text_lemmed  # reviews after lemmetization"
   ]
  },
  {
   "cell_type": "code",
   "execution_count": 69,
   "metadata": {},
   "outputs": [
    {
     "data": {
      "text/plain": [
       "TfidfVectorizer(analyzer='word', binary=False, decode_error='strict',\n",
       "                dtype=<class 'numpy.float64'>, encoding='utf-8',\n",
       "                input='content', lowercase=True, max_df=0.95, max_features=None,\n",
       "                min_df=0.05, ngram_range=(1, 2), norm='l2', preprocessor=None,\n",
       "                smooth_idf=True, stop_words='english', strip_accents=None,\n",
       "                sublinear_tf=False, token_pattern='(?u)\\\\b\\\\w\\\\w+\\\\b',\n",
       "                tokenizer=None, use_idf=True, vocabulary=None)"
      ]
     },
     "execution_count": 69,
     "metadata": {},
     "output_type": "execute_result"
    }
   ],
   "source": [
    "tdfvect = TfidfVectorizer(min_df = 0.05, max_df = 0.95, ngram_range=(1,2), stop_words='english')\n",
    "tdfvect.fit(rev_text_lemmed)"
   ]
  },
  {
   "cell_type": "code",
   "execution_count": 70,
   "metadata": {},
   "outputs": [],
   "source": [
    "rev_text_tfidf = tdfvect.transform(rev_text_lemmed)"
   ]
  },
  {
   "cell_type": "code",
   "execution_count": 71,
   "metadata": {},
   "outputs": [],
   "source": [
    "# using latend dirichitlet allocation\n",
    "lda_topic = LDA(n_components=3, learning_method='batch', max_iter=200, n_jobs=-1)  # 3 components or 3 topics/heads"
   ]
  },
  {
   "cell_type": "code",
   "execution_count": 72,
   "metadata": {},
   "outputs": [
    {
     "data": {
      "text/plain": [
       "<505x107 sparse matrix of type '<class 'numpy.float64'>'\n",
       "\twith 6268 stored elements in Compressed Sparse Row format>"
      ]
     },
     "execution_count": 72,
     "metadata": {},
     "output_type": "execute_result"
    }
   ],
   "source": [
    "rev_text_tfidf"
   ]
  },
  {
   "cell_type": "code",
   "execution_count": 73,
   "metadata": {},
   "outputs": [],
   "source": [
    "text_topics = lda_topic.fit_transform(rev_text_tfidf)"
   ]
  },
  {
   "cell_type": "code",
   "execution_count": 74,
   "metadata": {},
   "outputs": [],
   "source": [
    "topics = lda_topic.components_"
   ]
  },
  {
   "cell_type": "code",
   "execution_count": 75,
   "metadata": {},
   "outputs": [],
   "source": [
    "topic_vocab = tdfvect.get_feature_names()"
   ]
  },
  {
   "cell_type": "code",
   "execution_count": 76,
   "metadata": {},
   "outputs": [
    {
     "data": {
      "text/plain": [
       "['answer',\n",
       " 'answer question',\n",
       " 'ask',\n",
       " 'available',\n",
       " 'bank',\n",
       " 'begin',\n",
       " 'best',\n",
       " 'business',\n",
       " 'buy',\n",
       " 'care',\n",
       " 'close',\n",
       " 'closing',\n",
       " 'come',\n",
       " 'communication']"
      ]
     },
     "execution_count": 76,
     "metadata": {},
     "output_type": "execute_result"
    }
   ],
   "source": [
    "topic_vocab[1:15]"
   ]
  },
  {
   "cell_type": "code",
   "execution_count": 77,
   "metadata": {},
   "outputs": [
    {
     "data": {
      "text/plain": [
       "['home work time help best make close experience loan team',\n",
       " 'process great question professional responsive helpful work knowledgeable answer highly',\n",
       " 'company closing service loan lender customer mortgage rate email say']"
      ]
     },
     "execution_count": 77,
     "metadata": {},
     "output_type": "execute_result"
    }
   ],
   "source": [
    "topic_summaries = []\n",
    "for i, topic_dist in enumerate(topics):\n",
    "    topic_words = np.array(topic_vocab)[np.argsort(topic_dist)][:-11:-1]\n",
    "    topic_summaries.append(' '.join(topic_words))\n",
    "topic_summaries"
   ]
  },
  {
   "cell_type": "markdown",
   "metadata": {},
   "source": [
    "TOPIC ANALYSIS :\n",
    "* From the LDA results, we may conclude that the 3 topic heads under which reviews are allocated mainly deal with :\n",
    "    * 1.  Bank functioning\n",
    "    * 2.  Positive customer feedback, reviews\n",
    "    * 3.  Loan, Bank rate, other credit related terms "
   ]
  },
  {
   "cell_type": "markdown",
   "metadata": {},
   "source": [
    "### Using KMeans for clustering"
   ]
  },
  {
   "cell_type": "code",
   "execution_count": 78,
   "metadata": {},
   "outputs": [
    {
     "data": {
      "text/plain": [
       "<505x107 sparse matrix of type '<class 'numpy.float64'>'\n",
       "\twith 6268 stored elements in Compressed Sparse Row format>"
      ]
     },
     "execution_count": 78,
     "metadata": {},
     "output_type": "execute_result"
    }
   ],
   "source": [
    "rev_text_tfidf"
   ]
  },
  {
   "cell_type": "code",
   "execution_count": 79,
   "metadata": {},
   "outputs": [],
   "source": [
    "clusterer = KMeans(n_clusters = 6,n_init=1, max_iter=200, random_state=12345)"
   ]
  },
  {
   "cell_type": "code",
   "execution_count": 80,
   "metadata": {},
   "outputs": [],
   "source": [
    "train_clustered = clusterer.fit(rev_text_tfidf)"
   ]
  },
  {
   "cell_type": "code",
   "execution_count": 81,
   "metadata": {},
   "outputs": [
    {
     "data": {
      "text/plain": [
       "KMeans(algorithm='auto', copy_x=True, init='k-means++', max_iter=200,\n",
       "       n_clusters=6, n_init=1, n_jobs=None, precompute_distances='auto',\n",
       "       random_state=12345, tol=0.0001, verbose=0)"
      ]
     },
     "execution_count": 81,
     "metadata": {},
     "output_type": "execute_result"
    }
   ],
   "source": [
    "train_clustered"
   ]
  },
  {
   "cell_type": "code",
   "execution_count": 82,
   "metadata": {},
   "outputs": [],
   "source": [
    "vocabulary = tdfvect.get_feature_names()\n",
    "vocabulary = np.array(vocabulary)"
   ]
  },
  {
   "cell_type": "code",
   "execution_count": 83,
   "metadata": {},
   "outputs": [],
   "source": [
    "sorted_vals = [train_clustered.cluster_centers_[i].argsort() for i in range(0,np.shape(train_clustered.cluster_centers_)[0])]"
   ]
  },
  {
   "cell_type": "code",
   "execution_count": 84,
   "metadata": {},
   "outputs": [
    {
     "name": "stdout",
     "output_type": "stream",
     "text": [
      "{'nasb', 'purchase', 'lender', 'experience', 'home'}\n",
      "{'process', 'make', 'experience', 'home', 'nasb', 'time', 'rate', 'work', 'purchase', 'lender'}\n",
      "{'question', 'process', 'make', 'experience', 'home', 'nasb', 'time', 'rate', 'work', 'great', 'purchase', 'responsive', 'lender'}\n",
      "{'question', 'help', 'loan officer', 'process', 'make', 'experience', 'home', 'nasb', 'time', 'rate', 'close', 'work', 'great', 'officer', 'purchase', 'loan', 'responsive', 'lender'}\n",
      "{'question', 'help', 'company', 'time', 'nasb', 'rate', 'great', 'loan', 'use', 'responsive', 'loan officer', 'process', 'mortgage', 'make', 'experience', 'home', 'close', 'work', 'officer', 'purchase', 'lender'}\n",
      "{'question', 'help', 'customer service', 'company', 'service', 'time', 'nasb', 'rate', 'helpful', 'great', 'loan', 'use', 'responsive', 'loan officer', 'process', 'mortgage', 'make', 'experience', 'home', 'customer', 'close', 'work', 'officer', 'purchase', 'lender'}\n"
     ]
    }
   ],
   "source": [
    "words=set()\n",
    "for i in range(len(train_clustered.cluster_centers_)):\n",
    "    words = words.union(set(vocabulary[sorted_vals[i][-5:]]))\n",
    "    print(words)"
   ]
  },
  {
   "cell_type": "markdown",
   "metadata": {},
   "source": [
    "After performing clustering we conclude that :\n",
    "* the clusters mostly deal with customers, customer's experience, service offered by bank, positive feedback from customers, bank loan process and loan and other bank process."
   ]
  },
  {
   "cell_type": "markdown",
   "metadata": {},
   "source": [
    "Thank You\n",
    "* ~ C.Varun ~"
   ]
  },
  {
   "cell_type": "code",
   "execution_count": null,
   "metadata": {},
   "outputs": [],
   "source": []
  }
 ],
 "metadata": {
  "kernelspec": {
   "display_name": "Python 3",
   "language": "python",
   "name": "python3"
  },
  "language_info": {
   "codemirror_mode": {
    "name": "ipython",
    "version": 3
   },
   "file_extension": ".py",
   "mimetype": "text/x-python",
   "name": "python",
   "nbconvert_exporter": "python",
   "pygments_lexer": "ipython3",
   "version": "3.7.4"
  }
 },
 "nbformat": 4,
 "nbformat_minor": 1
}
