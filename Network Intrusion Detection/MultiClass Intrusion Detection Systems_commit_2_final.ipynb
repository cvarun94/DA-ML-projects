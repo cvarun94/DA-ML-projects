{
 "cells": [
  {
   "cell_type": "markdown",
   "metadata": {},
   "source": [
    "## Objective : To build network intrusion detection system for detection of anomalies & attack. Multiclass classiffication of activity as [Normal, DOS, Probe, R2L, U2R]"
   ]
  },
  {
   "cell_type": "code",
   "execution_count": 2,
   "metadata": {
    "_cell_guid": "79c7e3d0-c299-4dcb-8224-4455121ee9b0",
    "_uuid": "d629ff2d2480ee46fbb7e2d37f6b5fab8052498a"
   },
   "outputs": [],
   "source": [
    "import pandas as pd\n",
    "import numpy as np\n",
    "import matplotlib.pyplot as plt\n",
    "import seaborn as sns\n",
    "%matplotlib inline\n",
    "\n",
    "import scipy.stats as stats\n",
    "from sklearn import metrics\n",
    "\n",
    "from sklearn.preprocessing import MinMaxScaler\n",
    "from sklearn.tree import DecisionTreeClassifier\n",
    "from sklearn.linear_model import LogisticRegression\n",
    "from sklearn.preprocessing import LabelEncoder\n",
    "from sklearn.model_selection import train_test_split, GridSearchCV\n",
    "from sklearn.ensemble import RandomForestClassifier"
   ]
  },
  {
   "cell_type": "code",
   "execution_count": 3,
   "metadata": {},
   "outputs": [],
   "source": [
    "cols=[\"duration\",\"protocol_type\",\"service\",\"flag\",\"src_bytes\",\"dst_bytes\",\"land\",\"wrong_fragment\",\"urgent\",\"hot\",\"num_failed_logins\",\"logged_in\",\n",
    "\"num_compromised\",\"root_shell\",\"su_attempted\",\"num_root\",\"num_file_creations\",\"num_shells\",\"num_access_files\",\"num_outbound_cmds\",\"is_host_login\",\n",
    "\"is_guest_login\",\"count\",\"srv_count\",\"serror_rate\", \"srv_serror_rate\",\"rerror_rate\",\"srv_rerror_rate\",\"same_srv_rate\", \"diff_srv_rate\",\"srv_diff_host_rate\",\n",
    "\"dst_host_count\",\"dst_host_srv_count\",\"dst_host_same_srv_rate\",\"dst_host_diff_srv_rate\",\"dst_host_same_src_port_rate\",\"dst_host_srv_diff_host_rate\",\n",
    "\"dst_host_serror_rate\",\"dst_host_srv_serror_rate\",\"dst_host_rerror_rate\",\"dst_host_srv_rerror_rate\",\"attack\", \"last_flag\"]"
   ]
  },
  {
   "cell_type": "code",
   "execution_count": 4,
   "metadata": {},
   "outputs": [],
   "source": [
    "# reading txt file into csv format\n",
    "train=pd.read_csv('../input/Train.txt',names=cols)\n",
    "test=pd.read_csv('../input/Test.txt',names=cols)"
   ]
  },
  {
   "cell_type": "markdown",
   "metadata": {},
   "source": [
    "## Basic EDA"
   ]
  },
  {
   "cell_type": "code",
   "execution_count": 5,
   "metadata": {},
   "outputs": [
    {
     "name": "stdout",
     "output_type": "stream",
     "text": [
      "<class 'pandas.core.frame.DataFrame'>\n",
      "RangeIndex: 125973 entries, 0 to 125972\n",
      "Data columns (total 43 columns):\n",
      "duration                       125973 non-null int64\n",
      "protocol_type                  125973 non-null object\n",
      "service                        125973 non-null object\n",
      "flag                           125973 non-null object\n",
      "src_bytes                      125973 non-null int64\n",
      "dst_bytes                      125973 non-null int64\n",
      "land                           125973 non-null int64\n",
      "wrong_fragment                 125973 non-null int64\n",
      "urgent                         125973 non-null int64\n",
      "hot                            125973 non-null int64\n",
      "num_failed_logins              125973 non-null int64\n",
      "logged_in                      125973 non-null int64\n",
      "num_compromised                125973 non-null int64\n",
      "root_shell                     125973 non-null int64\n",
      "su_attempted                   125973 non-null int64\n",
      "num_root                       125973 non-null int64\n",
      "num_file_creations             125973 non-null int64\n",
      "num_shells                     125973 non-null int64\n",
      "num_access_files               125973 non-null int64\n",
      "num_outbound_cmds              125973 non-null int64\n",
      "is_host_login                  125973 non-null int64\n",
      "is_guest_login                 125973 non-null int64\n",
      "count                          125973 non-null int64\n",
      "srv_count                      125973 non-null int64\n",
      "serror_rate                    125973 non-null float64\n",
      "srv_serror_rate                125973 non-null float64\n",
      "rerror_rate                    125973 non-null float64\n",
      "srv_rerror_rate                125973 non-null float64\n",
      "same_srv_rate                  125973 non-null float64\n",
      "diff_srv_rate                  125973 non-null float64\n",
      "srv_diff_host_rate             125973 non-null float64\n",
      "dst_host_count                 125973 non-null int64\n",
      "dst_host_srv_count             125973 non-null int64\n",
      "dst_host_same_srv_rate         125973 non-null float64\n",
      "dst_host_diff_srv_rate         125973 non-null float64\n",
      "dst_host_same_src_port_rate    125973 non-null float64\n",
      "dst_host_srv_diff_host_rate    125973 non-null float64\n",
      "dst_host_serror_rate           125973 non-null float64\n",
      "dst_host_srv_serror_rate       125973 non-null float64\n",
      "dst_host_rerror_rate           125973 non-null float64\n",
      "dst_host_srv_rerror_rate       125973 non-null float64\n",
      "attack                         125973 non-null object\n",
      "last_flag                      125973 non-null int64\n",
      "dtypes: float64(15), int64(24), object(4)\n",
      "memory usage: 41.3+ MB\n"
     ]
    }
   ],
   "source": [
    "train.info()"
   ]
  },
  {
   "cell_type": "code",
   "execution_count": 6,
   "metadata": {},
   "outputs": [
    {
     "data": {
      "text/html": [
       "<div>\n",
       "<style scoped>\n",
       "    .dataframe tbody tr th:only-of-type {\n",
       "        vertical-align: middle;\n",
       "    }\n",
       "\n",
       "    .dataframe tbody tr th {\n",
       "        vertical-align: top;\n",
       "    }\n",
       "\n",
       "    .dataframe thead th {\n",
       "        text-align: right;\n",
       "    }\n",
       "</style>\n",
       "<table border=\"1\" class=\"dataframe\">\n",
       "  <thead>\n",
       "    <tr style=\"text-align: right;\">\n",
       "      <th></th>\n",
       "      <th>duration</th>\n",
       "      <th>protocol_type</th>\n",
       "      <th>service</th>\n",
       "      <th>flag</th>\n",
       "      <th>src_bytes</th>\n",
       "      <th>dst_bytes</th>\n",
       "      <th>land</th>\n",
       "      <th>wrong_fragment</th>\n",
       "      <th>urgent</th>\n",
       "      <th>hot</th>\n",
       "      <th>...</th>\n",
       "      <th>dst_host_same_srv_rate</th>\n",
       "      <th>dst_host_diff_srv_rate</th>\n",
       "      <th>dst_host_same_src_port_rate</th>\n",
       "      <th>dst_host_srv_diff_host_rate</th>\n",
       "      <th>dst_host_serror_rate</th>\n",
       "      <th>dst_host_srv_serror_rate</th>\n",
       "      <th>dst_host_rerror_rate</th>\n",
       "      <th>dst_host_srv_rerror_rate</th>\n",
       "      <th>attack</th>\n",
       "      <th>last_flag</th>\n",
       "    </tr>\n",
       "  </thead>\n",
       "  <tbody>\n",
       "    <tr>\n",
       "      <th>125968</th>\n",
       "      <td>0</td>\n",
       "      <td>tcp</td>\n",
       "      <td>private</td>\n",
       "      <td>S0</td>\n",
       "      <td>0</td>\n",
       "      <td>0</td>\n",
       "      <td>0</td>\n",
       "      <td>0</td>\n",
       "      <td>0</td>\n",
       "      <td>0</td>\n",
       "      <td>...</td>\n",
       "      <td>0.10</td>\n",
       "      <td>0.06</td>\n",
       "      <td>0.00</td>\n",
       "      <td>0.0</td>\n",
       "      <td>1.00</td>\n",
       "      <td>1.0</td>\n",
       "      <td>0.00</td>\n",
       "      <td>0.0</td>\n",
       "      <td>neptune</td>\n",
       "      <td>20</td>\n",
       "    </tr>\n",
       "    <tr>\n",
       "      <th>125969</th>\n",
       "      <td>8</td>\n",
       "      <td>udp</td>\n",
       "      <td>private</td>\n",
       "      <td>SF</td>\n",
       "      <td>105</td>\n",
       "      <td>145</td>\n",
       "      <td>0</td>\n",
       "      <td>0</td>\n",
       "      <td>0</td>\n",
       "      <td>0</td>\n",
       "      <td>...</td>\n",
       "      <td>0.96</td>\n",
       "      <td>0.01</td>\n",
       "      <td>0.01</td>\n",
       "      <td>0.0</td>\n",
       "      <td>0.00</td>\n",
       "      <td>0.0</td>\n",
       "      <td>0.00</td>\n",
       "      <td>0.0</td>\n",
       "      <td>normal</td>\n",
       "      <td>21</td>\n",
       "    </tr>\n",
       "    <tr>\n",
       "      <th>125970</th>\n",
       "      <td>0</td>\n",
       "      <td>tcp</td>\n",
       "      <td>smtp</td>\n",
       "      <td>SF</td>\n",
       "      <td>2231</td>\n",
       "      <td>384</td>\n",
       "      <td>0</td>\n",
       "      <td>0</td>\n",
       "      <td>0</td>\n",
       "      <td>0</td>\n",
       "      <td>...</td>\n",
       "      <td>0.12</td>\n",
       "      <td>0.06</td>\n",
       "      <td>0.00</td>\n",
       "      <td>0.0</td>\n",
       "      <td>0.72</td>\n",
       "      <td>0.0</td>\n",
       "      <td>0.01</td>\n",
       "      <td>0.0</td>\n",
       "      <td>normal</td>\n",
       "      <td>18</td>\n",
       "    </tr>\n",
       "    <tr>\n",
       "      <th>125971</th>\n",
       "      <td>0</td>\n",
       "      <td>tcp</td>\n",
       "      <td>klogin</td>\n",
       "      <td>S0</td>\n",
       "      <td>0</td>\n",
       "      <td>0</td>\n",
       "      <td>0</td>\n",
       "      <td>0</td>\n",
       "      <td>0</td>\n",
       "      <td>0</td>\n",
       "      <td>...</td>\n",
       "      <td>0.03</td>\n",
       "      <td>0.05</td>\n",
       "      <td>0.00</td>\n",
       "      <td>0.0</td>\n",
       "      <td>1.00</td>\n",
       "      <td>1.0</td>\n",
       "      <td>0.00</td>\n",
       "      <td>0.0</td>\n",
       "      <td>neptune</td>\n",
       "      <td>20</td>\n",
       "    </tr>\n",
       "    <tr>\n",
       "      <th>125972</th>\n",
       "      <td>0</td>\n",
       "      <td>tcp</td>\n",
       "      <td>ftp_data</td>\n",
       "      <td>SF</td>\n",
       "      <td>151</td>\n",
       "      <td>0</td>\n",
       "      <td>0</td>\n",
       "      <td>0</td>\n",
       "      <td>0</td>\n",
       "      <td>0</td>\n",
       "      <td>...</td>\n",
       "      <td>0.30</td>\n",
       "      <td>0.03</td>\n",
       "      <td>0.30</td>\n",
       "      <td>0.0</td>\n",
       "      <td>0.00</td>\n",
       "      <td>0.0</td>\n",
       "      <td>0.00</td>\n",
       "      <td>0.0</td>\n",
       "      <td>normal</td>\n",
       "      <td>21</td>\n",
       "    </tr>\n",
       "  </tbody>\n",
       "</table>\n",
       "<p>5 rows × 43 columns</p>\n",
       "</div>"
      ],
      "text/plain": [
       "        duration protocol_type   service flag  src_bytes  dst_bytes  land  \\\n",
       "125968         0           tcp   private   S0          0          0     0   \n",
       "125969         8           udp   private   SF        105        145     0   \n",
       "125970         0           tcp      smtp   SF       2231        384     0   \n",
       "125971         0           tcp    klogin   S0          0          0     0   \n",
       "125972         0           tcp  ftp_data   SF        151          0     0   \n",
       "\n",
       "        wrong_fragment  urgent  hot  ...  dst_host_same_srv_rate  \\\n",
       "125968               0       0    0  ...                    0.10   \n",
       "125969               0       0    0  ...                    0.96   \n",
       "125970               0       0    0  ...                    0.12   \n",
       "125971               0       0    0  ...                    0.03   \n",
       "125972               0       0    0  ...                    0.30   \n",
       "\n",
       "        dst_host_diff_srv_rate  dst_host_same_src_port_rate  \\\n",
       "125968                    0.06                         0.00   \n",
       "125969                    0.01                         0.01   \n",
       "125970                    0.06                         0.00   \n",
       "125971                    0.05                         0.00   \n",
       "125972                    0.03                         0.30   \n",
       "\n",
       "        dst_host_srv_diff_host_rate  dst_host_serror_rate  \\\n",
       "125968                          0.0                  1.00   \n",
       "125969                          0.0                  0.00   \n",
       "125970                          0.0                  0.72   \n",
       "125971                          0.0                  1.00   \n",
       "125972                          0.0                  0.00   \n",
       "\n",
       "        dst_host_srv_serror_rate  dst_host_rerror_rate  \\\n",
       "125968                       1.0                  0.00   \n",
       "125969                       0.0                  0.00   \n",
       "125970                       0.0                  0.01   \n",
       "125971                       1.0                  0.00   \n",
       "125972                       0.0                  0.00   \n",
       "\n",
       "        dst_host_srv_rerror_rate   attack  last_flag  \n",
       "125968                       0.0  neptune         20  \n",
       "125969                       0.0   normal         21  \n",
       "125970                       0.0   normal         18  \n",
       "125971                       0.0  neptune         20  \n",
       "125972                       0.0   normal         21  \n",
       "\n",
       "[5 rows x 43 columns]"
      ]
     },
     "execution_count": 6,
     "metadata": {},
     "output_type": "execute_result"
    }
   ],
   "source": [
    "train.tail()"
   ]
  },
  {
   "cell_type": "code",
   "execution_count": 7,
   "metadata": {},
   "outputs": [
    {
     "data": {
      "text/html": [
       "<div>\n",
       "<style scoped>\n",
       "    .dataframe tbody tr th:only-of-type {\n",
       "        vertical-align: middle;\n",
       "    }\n",
       "\n",
       "    .dataframe tbody tr th {\n",
       "        vertical-align: top;\n",
       "    }\n",
       "\n",
       "    .dataframe thead th {\n",
       "        text-align: right;\n",
       "    }\n",
       "</style>\n",
       "<table border=\"1\" class=\"dataframe\">\n",
       "  <thead>\n",
       "    <tr style=\"text-align: right;\">\n",
       "      <th></th>\n",
       "      <th>count</th>\n",
       "      <th>mean</th>\n",
       "      <th>std</th>\n",
       "      <th>min</th>\n",
       "      <th>25%</th>\n",
       "      <th>50%</th>\n",
       "      <th>75%</th>\n",
       "      <th>max</th>\n",
       "    </tr>\n",
       "  </thead>\n",
       "  <tbody>\n",
       "    <tr>\n",
       "      <th>duration</th>\n",
       "      <td>125973.0</td>\n",
       "      <td>287.1</td>\n",
       "      <td>2604.5</td>\n",
       "      <td>0.0</td>\n",
       "      <td>0.0</td>\n",
       "      <td>0.0</td>\n",
       "      <td>0.0</td>\n",
       "      <td>4.290800e+04</td>\n",
       "    </tr>\n",
       "    <tr>\n",
       "      <th>src_bytes</th>\n",
       "      <td>125973.0</td>\n",
       "      <td>45566.7</td>\n",
       "      <td>5870331.2</td>\n",
       "      <td>0.0</td>\n",
       "      <td>0.0</td>\n",
       "      <td>44.0</td>\n",
       "      <td>276.0</td>\n",
       "      <td>1.379964e+09</td>\n",
       "    </tr>\n",
       "    <tr>\n",
       "      <th>dst_bytes</th>\n",
       "      <td>125973.0</td>\n",
       "      <td>19779.1</td>\n",
       "      <td>4021269.2</td>\n",
       "      <td>0.0</td>\n",
       "      <td>0.0</td>\n",
       "      <td>0.0</td>\n",
       "      <td>516.0</td>\n",
       "      <td>1.309937e+09</td>\n",
       "    </tr>\n",
       "    <tr>\n",
       "      <th>land</th>\n",
       "      <td>125973.0</td>\n",
       "      <td>0.0</td>\n",
       "      <td>0.0</td>\n",
       "      <td>0.0</td>\n",
       "      <td>0.0</td>\n",
       "      <td>0.0</td>\n",
       "      <td>0.0</td>\n",
       "      <td>1.000000e+00</td>\n",
       "    </tr>\n",
       "    <tr>\n",
       "      <th>wrong_fragment</th>\n",
       "      <td>125973.0</td>\n",
       "      <td>0.0</td>\n",
       "      <td>0.3</td>\n",
       "      <td>0.0</td>\n",
       "      <td>0.0</td>\n",
       "      <td>0.0</td>\n",
       "      <td>0.0</td>\n",
       "      <td>3.000000e+00</td>\n",
       "    </tr>\n",
       "    <tr>\n",
       "      <th>urgent</th>\n",
       "      <td>125973.0</td>\n",
       "      <td>0.0</td>\n",
       "      <td>0.0</td>\n",
       "      <td>0.0</td>\n",
       "      <td>0.0</td>\n",
       "      <td>0.0</td>\n",
       "      <td>0.0</td>\n",
       "      <td>3.000000e+00</td>\n",
       "    </tr>\n",
       "    <tr>\n",
       "      <th>hot</th>\n",
       "      <td>125973.0</td>\n",
       "      <td>0.2</td>\n",
       "      <td>2.1</td>\n",
       "      <td>0.0</td>\n",
       "      <td>0.0</td>\n",
       "      <td>0.0</td>\n",
       "      <td>0.0</td>\n",
       "      <td>7.700000e+01</td>\n",
       "    </tr>\n",
       "    <tr>\n",
       "      <th>num_failed_logins</th>\n",
       "      <td>125973.0</td>\n",
       "      <td>0.0</td>\n",
       "      <td>0.0</td>\n",
       "      <td>0.0</td>\n",
       "      <td>0.0</td>\n",
       "      <td>0.0</td>\n",
       "      <td>0.0</td>\n",
       "      <td>5.000000e+00</td>\n",
       "    </tr>\n",
       "    <tr>\n",
       "      <th>logged_in</th>\n",
       "      <td>125973.0</td>\n",
       "      <td>0.4</td>\n",
       "      <td>0.5</td>\n",
       "      <td>0.0</td>\n",
       "      <td>0.0</td>\n",
       "      <td>0.0</td>\n",
       "      <td>1.0</td>\n",
       "      <td>1.000000e+00</td>\n",
       "    </tr>\n",
       "    <tr>\n",
       "      <th>num_compromised</th>\n",
       "      <td>125973.0</td>\n",
       "      <td>0.3</td>\n",
       "      <td>23.9</td>\n",
       "      <td>0.0</td>\n",
       "      <td>0.0</td>\n",
       "      <td>0.0</td>\n",
       "      <td>0.0</td>\n",
       "      <td>7.479000e+03</td>\n",
       "    </tr>\n",
       "    <tr>\n",
       "      <th>root_shell</th>\n",
       "      <td>125973.0</td>\n",
       "      <td>0.0</td>\n",
       "      <td>0.0</td>\n",
       "      <td>0.0</td>\n",
       "      <td>0.0</td>\n",
       "      <td>0.0</td>\n",
       "      <td>0.0</td>\n",
       "      <td>1.000000e+00</td>\n",
       "    </tr>\n",
       "    <tr>\n",
       "      <th>su_attempted</th>\n",
       "      <td>125973.0</td>\n",
       "      <td>0.0</td>\n",
       "      <td>0.0</td>\n",
       "      <td>0.0</td>\n",
       "      <td>0.0</td>\n",
       "      <td>0.0</td>\n",
       "      <td>0.0</td>\n",
       "      <td>2.000000e+00</td>\n",
       "    </tr>\n",
       "    <tr>\n",
       "      <th>num_root</th>\n",
       "      <td>125973.0</td>\n",
       "      <td>0.3</td>\n",
       "      <td>24.4</td>\n",
       "      <td>0.0</td>\n",
       "      <td>0.0</td>\n",
       "      <td>0.0</td>\n",
       "      <td>0.0</td>\n",
       "      <td>7.468000e+03</td>\n",
       "    </tr>\n",
       "    <tr>\n",
       "      <th>num_file_creations</th>\n",
       "      <td>125973.0</td>\n",
       "      <td>0.0</td>\n",
       "      <td>0.5</td>\n",
       "      <td>0.0</td>\n",
       "      <td>0.0</td>\n",
       "      <td>0.0</td>\n",
       "      <td>0.0</td>\n",
       "      <td>4.300000e+01</td>\n",
       "    </tr>\n",
       "    <tr>\n",
       "      <th>num_shells</th>\n",
       "      <td>125973.0</td>\n",
       "      <td>0.0</td>\n",
       "      <td>0.0</td>\n",
       "      <td>0.0</td>\n",
       "      <td>0.0</td>\n",
       "      <td>0.0</td>\n",
       "      <td>0.0</td>\n",
       "      <td>2.000000e+00</td>\n",
       "    </tr>\n",
       "    <tr>\n",
       "      <th>num_access_files</th>\n",
       "      <td>125973.0</td>\n",
       "      <td>0.0</td>\n",
       "      <td>0.1</td>\n",
       "      <td>0.0</td>\n",
       "      <td>0.0</td>\n",
       "      <td>0.0</td>\n",
       "      <td>0.0</td>\n",
       "      <td>9.000000e+00</td>\n",
       "    </tr>\n",
       "    <tr>\n",
       "      <th>num_outbound_cmds</th>\n",
       "      <td>125973.0</td>\n",
       "      <td>0.0</td>\n",
       "      <td>0.0</td>\n",
       "      <td>0.0</td>\n",
       "      <td>0.0</td>\n",
       "      <td>0.0</td>\n",
       "      <td>0.0</td>\n",
       "      <td>0.000000e+00</td>\n",
       "    </tr>\n",
       "    <tr>\n",
       "      <th>is_host_login</th>\n",
       "      <td>125973.0</td>\n",
       "      <td>0.0</td>\n",
       "      <td>0.0</td>\n",
       "      <td>0.0</td>\n",
       "      <td>0.0</td>\n",
       "      <td>0.0</td>\n",
       "      <td>0.0</td>\n",
       "      <td>1.000000e+00</td>\n",
       "    </tr>\n",
       "    <tr>\n",
       "      <th>is_guest_login</th>\n",
       "      <td>125973.0</td>\n",
       "      <td>0.0</td>\n",
       "      <td>0.1</td>\n",
       "      <td>0.0</td>\n",
       "      <td>0.0</td>\n",
       "      <td>0.0</td>\n",
       "      <td>0.0</td>\n",
       "      <td>1.000000e+00</td>\n",
       "    </tr>\n",
       "    <tr>\n",
       "      <th>count</th>\n",
       "      <td>125973.0</td>\n",
       "      <td>84.1</td>\n",
       "      <td>114.5</td>\n",
       "      <td>0.0</td>\n",
       "      <td>2.0</td>\n",
       "      <td>14.0</td>\n",
       "      <td>143.0</td>\n",
       "      <td>5.110000e+02</td>\n",
       "    </tr>\n",
       "    <tr>\n",
       "      <th>srv_count</th>\n",
       "      <td>125973.0</td>\n",
       "      <td>27.7</td>\n",
       "      <td>72.6</td>\n",
       "      <td>0.0</td>\n",
       "      <td>2.0</td>\n",
       "      <td>8.0</td>\n",
       "      <td>18.0</td>\n",
       "      <td>5.110000e+02</td>\n",
       "    </tr>\n",
       "    <tr>\n",
       "      <th>serror_rate</th>\n",
       "      <td>125973.0</td>\n",
       "      <td>0.3</td>\n",
       "      <td>0.4</td>\n",
       "      <td>0.0</td>\n",
       "      <td>0.0</td>\n",
       "      <td>0.0</td>\n",
       "      <td>1.0</td>\n",
       "      <td>1.000000e+00</td>\n",
       "    </tr>\n",
       "    <tr>\n",
       "      <th>srv_serror_rate</th>\n",
       "      <td>125973.0</td>\n",
       "      <td>0.3</td>\n",
       "      <td>0.4</td>\n",
       "      <td>0.0</td>\n",
       "      <td>0.0</td>\n",
       "      <td>0.0</td>\n",
       "      <td>1.0</td>\n",
       "      <td>1.000000e+00</td>\n",
       "    </tr>\n",
       "    <tr>\n",
       "      <th>rerror_rate</th>\n",
       "      <td>125973.0</td>\n",
       "      <td>0.1</td>\n",
       "      <td>0.3</td>\n",
       "      <td>0.0</td>\n",
       "      <td>0.0</td>\n",
       "      <td>0.0</td>\n",
       "      <td>0.0</td>\n",
       "      <td>1.000000e+00</td>\n",
       "    </tr>\n",
       "    <tr>\n",
       "      <th>srv_rerror_rate</th>\n",
       "      <td>125973.0</td>\n",
       "      <td>0.1</td>\n",
       "      <td>0.3</td>\n",
       "      <td>0.0</td>\n",
       "      <td>0.0</td>\n",
       "      <td>0.0</td>\n",
       "      <td>0.0</td>\n",
       "      <td>1.000000e+00</td>\n",
       "    </tr>\n",
       "    <tr>\n",
       "      <th>same_srv_rate</th>\n",
       "      <td>125973.0</td>\n",
       "      <td>0.7</td>\n",
       "      <td>0.4</td>\n",
       "      <td>0.0</td>\n",
       "      <td>0.1</td>\n",
       "      <td>1.0</td>\n",
       "      <td>1.0</td>\n",
       "      <td>1.000000e+00</td>\n",
       "    </tr>\n",
       "    <tr>\n",
       "      <th>diff_srv_rate</th>\n",
       "      <td>125973.0</td>\n",
       "      <td>0.1</td>\n",
       "      <td>0.2</td>\n",
       "      <td>0.0</td>\n",
       "      <td>0.0</td>\n",
       "      <td>0.0</td>\n",
       "      <td>0.1</td>\n",
       "      <td>1.000000e+00</td>\n",
       "    </tr>\n",
       "    <tr>\n",
       "      <th>srv_diff_host_rate</th>\n",
       "      <td>125973.0</td>\n",
       "      <td>0.1</td>\n",
       "      <td>0.3</td>\n",
       "      <td>0.0</td>\n",
       "      <td>0.0</td>\n",
       "      <td>0.0</td>\n",
       "      <td>0.0</td>\n",
       "      <td>1.000000e+00</td>\n",
       "    </tr>\n",
       "    <tr>\n",
       "      <th>dst_host_count</th>\n",
       "      <td>125973.0</td>\n",
       "      <td>182.1</td>\n",
       "      <td>99.2</td>\n",
       "      <td>0.0</td>\n",
       "      <td>82.0</td>\n",
       "      <td>255.0</td>\n",
       "      <td>255.0</td>\n",
       "      <td>2.550000e+02</td>\n",
       "    </tr>\n",
       "    <tr>\n",
       "      <th>dst_host_srv_count</th>\n",
       "      <td>125973.0</td>\n",
       "      <td>115.7</td>\n",
       "      <td>110.7</td>\n",
       "      <td>0.0</td>\n",
       "      <td>10.0</td>\n",
       "      <td>63.0</td>\n",
       "      <td>255.0</td>\n",
       "      <td>2.550000e+02</td>\n",
       "    </tr>\n",
       "    <tr>\n",
       "      <th>dst_host_same_srv_rate</th>\n",
       "      <td>125973.0</td>\n",
       "      <td>0.5</td>\n",
       "      <td>0.4</td>\n",
       "      <td>0.0</td>\n",
       "      <td>0.0</td>\n",
       "      <td>0.5</td>\n",
       "      <td>1.0</td>\n",
       "      <td>1.000000e+00</td>\n",
       "    </tr>\n",
       "    <tr>\n",
       "      <th>dst_host_diff_srv_rate</th>\n",
       "      <td>125973.0</td>\n",
       "      <td>0.1</td>\n",
       "      <td>0.2</td>\n",
       "      <td>0.0</td>\n",
       "      <td>0.0</td>\n",
       "      <td>0.0</td>\n",
       "      <td>0.1</td>\n",
       "      <td>1.000000e+00</td>\n",
       "    </tr>\n",
       "    <tr>\n",
       "      <th>dst_host_same_src_port_rate</th>\n",
       "      <td>125973.0</td>\n",
       "      <td>0.1</td>\n",
       "      <td>0.3</td>\n",
       "      <td>0.0</td>\n",
       "      <td>0.0</td>\n",
       "      <td>0.0</td>\n",
       "      <td>0.1</td>\n",
       "      <td>1.000000e+00</td>\n",
       "    </tr>\n",
       "    <tr>\n",
       "      <th>dst_host_srv_diff_host_rate</th>\n",
       "      <td>125973.0</td>\n",
       "      <td>0.0</td>\n",
       "      <td>0.1</td>\n",
       "      <td>0.0</td>\n",
       "      <td>0.0</td>\n",
       "      <td>0.0</td>\n",
       "      <td>0.0</td>\n",
       "      <td>1.000000e+00</td>\n",
       "    </tr>\n",
       "    <tr>\n",
       "      <th>dst_host_serror_rate</th>\n",
       "      <td>125973.0</td>\n",
       "      <td>0.3</td>\n",
       "      <td>0.4</td>\n",
       "      <td>0.0</td>\n",
       "      <td>0.0</td>\n",
       "      <td>0.0</td>\n",
       "      <td>1.0</td>\n",
       "      <td>1.000000e+00</td>\n",
       "    </tr>\n",
       "    <tr>\n",
       "      <th>dst_host_srv_serror_rate</th>\n",
       "      <td>125973.0</td>\n",
       "      <td>0.3</td>\n",
       "      <td>0.4</td>\n",
       "      <td>0.0</td>\n",
       "      <td>0.0</td>\n",
       "      <td>0.0</td>\n",
       "      <td>1.0</td>\n",
       "      <td>1.000000e+00</td>\n",
       "    </tr>\n",
       "    <tr>\n",
       "      <th>dst_host_rerror_rate</th>\n",
       "      <td>125973.0</td>\n",
       "      <td>0.1</td>\n",
       "      <td>0.3</td>\n",
       "      <td>0.0</td>\n",
       "      <td>0.0</td>\n",
       "      <td>0.0</td>\n",
       "      <td>0.0</td>\n",
       "      <td>1.000000e+00</td>\n",
       "    </tr>\n",
       "    <tr>\n",
       "      <th>dst_host_srv_rerror_rate</th>\n",
       "      <td>125973.0</td>\n",
       "      <td>0.1</td>\n",
       "      <td>0.3</td>\n",
       "      <td>0.0</td>\n",
       "      <td>0.0</td>\n",
       "      <td>0.0</td>\n",
       "      <td>0.0</td>\n",
       "      <td>1.000000e+00</td>\n",
       "    </tr>\n",
       "    <tr>\n",
       "      <th>last_flag</th>\n",
       "      <td>125973.0</td>\n",
       "      <td>19.5</td>\n",
       "      <td>2.3</td>\n",
       "      <td>0.0</td>\n",
       "      <td>18.0</td>\n",
       "      <td>20.0</td>\n",
       "      <td>21.0</td>\n",
       "      <td>2.100000e+01</td>\n",
       "    </tr>\n",
       "  </tbody>\n",
       "</table>\n",
       "</div>"
      ],
      "text/plain": [
       "                                count     mean        std  min   25%    50%  \\\n",
       "duration                     125973.0    287.1     2604.5  0.0   0.0    0.0   \n",
       "src_bytes                    125973.0  45566.7  5870331.2  0.0   0.0   44.0   \n",
       "dst_bytes                    125973.0  19779.1  4021269.2  0.0   0.0    0.0   \n",
       "land                         125973.0      0.0        0.0  0.0   0.0    0.0   \n",
       "wrong_fragment               125973.0      0.0        0.3  0.0   0.0    0.0   \n",
       "urgent                       125973.0      0.0        0.0  0.0   0.0    0.0   \n",
       "hot                          125973.0      0.2        2.1  0.0   0.0    0.0   \n",
       "num_failed_logins            125973.0      0.0        0.0  0.0   0.0    0.0   \n",
       "logged_in                    125973.0      0.4        0.5  0.0   0.0    0.0   \n",
       "num_compromised              125973.0      0.3       23.9  0.0   0.0    0.0   \n",
       "root_shell                   125973.0      0.0        0.0  0.0   0.0    0.0   \n",
       "su_attempted                 125973.0      0.0        0.0  0.0   0.0    0.0   \n",
       "num_root                     125973.0      0.3       24.4  0.0   0.0    0.0   \n",
       "num_file_creations           125973.0      0.0        0.5  0.0   0.0    0.0   \n",
       "num_shells                   125973.0      0.0        0.0  0.0   0.0    0.0   \n",
       "num_access_files             125973.0      0.0        0.1  0.0   0.0    0.0   \n",
       "num_outbound_cmds            125973.0      0.0        0.0  0.0   0.0    0.0   \n",
       "is_host_login                125973.0      0.0        0.0  0.0   0.0    0.0   \n",
       "is_guest_login               125973.0      0.0        0.1  0.0   0.0    0.0   \n",
       "count                        125973.0     84.1      114.5  0.0   2.0   14.0   \n",
       "srv_count                    125973.0     27.7       72.6  0.0   2.0    8.0   \n",
       "serror_rate                  125973.0      0.3        0.4  0.0   0.0    0.0   \n",
       "srv_serror_rate              125973.0      0.3        0.4  0.0   0.0    0.0   \n",
       "rerror_rate                  125973.0      0.1        0.3  0.0   0.0    0.0   \n",
       "srv_rerror_rate              125973.0      0.1        0.3  0.0   0.0    0.0   \n",
       "same_srv_rate                125973.0      0.7        0.4  0.0   0.1    1.0   \n",
       "diff_srv_rate                125973.0      0.1        0.2  0.0   0.0    0.0   \n",
       "srv_diff_host_rate           125973.0      0.1        0.3  0.0   0.0    0.0   \n",
       "dst_host_count               125973.0    182.1       99.2  0.0  82.0  255.0   \n",
       "dst_host_srv_count           125973.0    115.7      110.7  0.0  10.0   63.0   \n",
       "dst_host_same_srv_rate       125973.0      0.5        0.4  0.0   0.0    0.5   \n",
       "dst_host_diff_srv_rate       125973.0      0.1        0.2  0.0   0.0    0.0   \n",
       "dst_host_same_src_port_rate  125973.0      0.1        0.3  0.0   0.0    0.0   \n",
       "dst_host_srv_diff_host_rate  125973.0      0.0        0.1  0.0   0.0    0.0   \n",
       "dst_host_serror_rate         125973.0      0.3        0.4  0.0   0.0    0.0   \n",
       "dst_host_srv_serror_rate     125973.0      0.3        0.4  0.0   0.0    0.0   \n",
       "dst_host_rerror_rate         125973.0      0.1        0.3  0.0   0.0    0.0   \n",
       "dst_host_srv_rerror_rate     125973.0      0.1        0.3  0.0   0.0    0.0   \n",
       "last_flag                    125973.0     19.5        2.3  0.0  18.0   20.0   \n",
       "\n",
       "                               75%           max  \n",
       "duration                       0.0  4.290800e+04  \n",
       "src_bytes                    276.0  1.379964e+09  \n",
       "dst_bytes                    516.0  1.309937e+09  \n",
       "land                           0.0  1.000000e+00  \n",
       "wrong_fragment                 0.0  3.000000e+00  \n",
       "urgent                         0.0  3.000000e+00  \n",
       "hot                            0.0  7.700000e+01  \n",
       "num_failed_logins              0.0  5.000000e+00  \n",
       "logged_in                      1.0  1.000000e+00  \n",
       "num_compromised                0.0  7.479000e+03  \n",
       "root_shell                     0.0  1.000000e+00  \n",
       "su_attempted                   0.0  2.000000e+00  \n",
       "num_root                       0.0  7.468000e+03  \n",
       "num_file_creations             0.0  4.300000e+01  \n",
       "num_shells                     0.0  2.000000e+00  \n",
       "num_access_files               0.0  9.000000e+00  \n",
       "num_outbound_cmds              0.0  0.000000e+00  \n",
       "is_host_login                  0.0  1.000000e+00  \n",
       "is_guest_login                 0.0  1.000000e+00  \n",
       "count                        143.0  5.110000e+02  \n",
       "srv_count                     18.0  5.110000e+02  \n",
       "serror_rate                    1.0  1.000000e+00  \n",
       "srv_serror_rate                1.0  1.000000e+00  \n",
       "rerror_rate                    0.0  1.000000e+00  \n",
       "srv_rerror_rate                0.0  1.000000e+00  \n",
       "same_srv_rate                  1.0  1.000000e+00  \n",
       "diff_srv_rate                  0.1  1.000000e+00  \n",
       "srv_diff_host_rate             0.0  1.000000e+00  \n",
       "dst_host_count               255.0  2.550000e+02  \n",
       "dst_host_srv_count           255.0  2.550000e+02  \n",
       "dst_host_same_srv_rate         1.0  1.000000e+00  \n",
       "dst_host_diff_srv_rate         0.1  1.000000e+00  \n",
       "dst_host_same_src_port_rate    0.1  1.000000e+00  \n",
       "dst_host_srv_diff_host_rate    0.0  1.000000e+00  \n",
       "dst_host_serror_rate           1.0  1.000000e+00  \n",
       "dst_host_srv_serror_rate       1.0  1.000000e+00  \n",
       "dst_host_rerror_rate           0.0  1.000000e+00  \n",
       "dst_host_srv_rerror_rate       0.0  1.000000e+00  \n",
       "last_flag                     21.0  2.100000e+01  "
      ]
     },
     "execution_count": 7,
     "metadata": {},
     "output_type": "execute_result"
    }
   ],
   "source": [
    "train.select_dtypes(exclude='object').describe().T.round(1)"
   ]
  },
  {
   "cell_type": "code",
   "execution_count": 8,
   "metadata": {},
   "outputs": [
    {
     "data": {
      "text/html": [
       "<div>\n",
       "<style scoped>\n",
       "    .dataframe tbody tr th:only-of-type {\n",
       "        vertical-align: middle;\n",
       "    }\n",
       "\n",
       "    .dataframe tbody tr th {\n",
       "        vertical-align: top;\n",
       "    }\n",
       "\n",
       "    .dataframe thead th {\n",
       "        text-align: right;\n",
       "    }\n",
       "</style>\n",
       "<table border=\"1\" class=\"dataframe\">\n",
       "  <thead>\n",
       "    <tr style=\"text-align: right;\">\n",
       "      <th></th>\n",
       "      <th>count</th>\n",
       "      <th>unique</th>\n",
       "      <th>top</th>\n",
       "      <th>freq</th>\n",
       "    </tr>\n",
       "  </thead>\n",
       "  <tbody>\n",
       "    <tr>\n",
       "      <th>protocol_type</th>\n",
       "      <td>125973</td>\n",
       "      <td>3</td>\n",
       "      <td>tcp</td>\n",
       "      <td>102689</td>\n",
       "    </tr>\n",
       "    <tr>\n",
       "      <th>service</th>\n",
       "      <td>125973</td>\n",
       "      <td>70</td>\n",
       "      <td>http</td>\n",
       "      <td>40338</td>\n",
       "    </tr>\n",
       "    <tr>\n",
       "      <th>flag</th>\n",
       "      <td>125973</td>\n",
       "      <td>11</td>\n",
       "      <td>SF</td>\n",
       "      <td>74945</td>\n",
       "    </tr>\n",
       "    <tr>\n",
       "      <th>attack</th>\n",
       "      <td>125973</td>\n",
       "      <td>23</td>\n",
       "      <td>normal</td>\n",
       "      <td>67343</td>\n",
       "    </tr>\n",
       "  </tbody>\n",
       "</table>\n",
       "</div>"
      ],
      "text/plain": [
       "                count unique     top    freq\n",
       "protocol_type  125973      3     tcp  102689\n",
       "service        125973     70    http   40338\n",
       "flag           125973     11      SF   74945\n",
       "attack         125973     23  normal   67343"
      ]
     },
     "execution_count": 8,
     "metadata": {},
     "output_type": "execute_result"
    }
   ],
   "source": [
    "train.select_dtypes(include='object').describe().T"
   ]
  },
  {
   "cell_type": "markdown",
   "metadata": {},
   "source": [
    "## Feature Engineering/Selection"
   ]
  },
  {
   "cell_type": "code",
   "execution_count": 9,
   "metadata": {},
   "outputs": [
    {
     "data": {
      "text/plain": [
       "normal             67343\n",
       "neptune            41214\n",
       "satan               3633\n",
       "ipsweep             3599\n",
       "portsweep           2931\n",
       "smurf               2646\n",
       "nmap                1493\n",
       "back                 956\n",
       "teardrop             892\n",
       "warezclient          890\n",
       "pod                  201\n",
       "guess_passwd          53\n",
       "buffer_overflow       30\n",
       "warezmaster           20\n",
       "land                  18\n",
       "imap                  11\n",
       "rootkit               10\n",
       "loadmodule             9\n",
       "ftp_write              8\n",
       "multihop               7\n",
       "phf                    4\n",
       "perl                   3\n",
       "spy                    2\n",
       "Name: attack, dtype: int64"
      ]
     },
     "execution_count": 9,
     "metadata": {},
     "output_type": "execute_result"
    }
   ],
   "source": [
    "train.attack.value_counts()"
   ]
  },
  {
   "cell_type": "code",
   "execution_count": 10,
   "metadata": {},
   "outputs": [],
   "source": [
    "# UDF for mapping attack types to attack class\n",
    "def attack_finder(c):\n",
    "    if ((c=='back')|(c=='land')|(c=='neptune')|(c=='pod')|(c=='smurf')|(c=='teardrop')|(c=='apache2')|(c=='udpstorm')|(c=='processtable')|(c=='worm')):\n",
    "        return 'DoS'\n",
    "    elif ((c=='satan')|(c=='ipsweep')|(c=='nmap')|(c=='portsweep')|(c=='mscan')|(c=='saint')):\n",
    "        return 'Probe'\n",
    "    elif ((c=='phf')|(c=='spy')|(c=='multihop')|(c=='ftp_write')|(c=='imap')|(c=='warezmaster')|(c=='guess_passwd')|(c=='warezclient')|(c=='xlock')|(c=='xsnoop')|(c=='snmpguess')|(c=='snmpgetattack')|(c=='httptunnel')|(c=='sendmail')|(c=='named')):\n",
    "        return 'R2L'\n",
    "    elif ((c=='perl')|(c=='buffer_overflow')|(c=='loadmodule')|(c=='rootkit')|(c=='sqlattack')|(c=='xterm')|(c=='ps')):\n",
    "       return 'U2R'\n",
    "    else:\n",
    "       return 'Normal'"
   ]
  },
  {
   "cell_type": "code",
   "execution_count": 11,
   "metadata": {},
   "outputs": [],
   "source": [
    "# creating separate var. for attack class\n",
    "train['attack_flag']=train.attack.apply(attack_finder)"
   ]
  },
  {
   "cell_type": "code",
   "execution_count": 12,
   "metadata": {},
   "outputs": [
    {
     "data": {
      "text/plain": [
       "Normal    67343\n",
       "DoS       45927\n",
       "Probe     11656\n",
       "R2L         995\n",
       "U2R          52\n",
       "Name: attack_flag, dtype: int64"
      ]
     },
     "execution_count": 12,
     "metadata": {},
     "output_type": "execute_result"
    }
   ],
   "source": [
    "train.attack_flag.value_counts()"
   ]
  },
  {
   "cell_type": "code",
   "execution_count": 13,
   "metadata": {},
   "outputs": [],
   "source": [
    "#label encoding the attack flag column, for MULTI-CLASS classification\n",
    "lel=LabelEncoder()\n",
    "train['attack_flag']=lel.fit_transform(train['attack_flag'])"
   ]
  },
  {
   "cell_type": "code",
   "execution_count": 14,
   "metadata": {},
   "outputs": [
    {
     "data": {
      "text/plain": [
       "array(['DoS', 'Normal', 'Probe', 'R2L', 'U2R'], dtype=object)"
      ]
     },
     "execution_count": 14,
     "metadata": {},
     "output_type": "execute_result"
    }
   ],
   "source": [
    "lel.classes_ # [0=DOS, 1=Normal, 2=Probe, 3=R2L, 4=U2R]"
   ]
  },
  {
   "cell_type": "code",
   "execution_count": 15,
   "metadata": {},
   "outputs": [],
   "source": [
    "#creating attack flag as our target !!## to be used in case of binary classification ##!!\n",
    "# 0 = normal\n",
    "# 1= attack\n",
    "#train['attack_flag']=np.where((train.attack=='normal'),0,1)"
   ]
  },
  {
   "cell_type": "code",
   "execution_count": 16,
   "metadata": {},
   "outputs": [
    {
     "data": {
      "text/plain": [
       "<matplotlib.axes._subplots.AxesSubplot at 0x7fd940f9f828>"
      ]
     },
     "execution_count": 16,
     "metadata": {},
     "output_type": "execute_result"
    },
    {
     "data": {
      "image/png": "[encoded data removed]",
      "text/plain": [
       "<Figure size 864x720 with 2 Axes>"
      ]
     },
     "metadata": {},
     "output_type": "display_data"
    }
   ],
   "source": [
    "# multi-collinearity check\n",
    "sns.set(style='whitegrid')\n",
    "plt.figure(figsize=(12,10))\n",
    "cormat=train.corr()\n",
    "sns.heatmap(cormat,linewidth=.2,cmap='RdYlGn')"
   ]
  },
  {
   "cell_type": "markdown",
   "metadata": {},
   "source": [
    "* the feature \"num_outbound_cmds\" has only 0 as its entries, hence can be removed.\n",
    "* many network time related traffic features are correlated among each other\n",
    "* logged in is correlated to many network time related features too."
   ]
  },
  {
   "cell_type": "code",
   "execution_count": 17,
   "metadata": {},
   "outputs": [
    {
     "name": "stdout",
     "output_type": "stream",
     "text": [
      "0    125973\n",
      "Name: num_outbound_cmds, dtype: int64\n"
     ]
    }
   ],
   "source": [
    "print(train['num_outbound_cmds'].value_counts())\n",
    "train.drop(columns=['num_outbound_cmds'],inplace=True)"
   ]
  },
  {
   "cell_type": "code",
   "execution_count": 18,
   "metadata": {},
   "outputs": [
    {
     "name": "stdout",
     "output_type": "stream",
     "text": [
      "70\n"
     ]
    }
   ],
   "source": [
    "print(len(train.service.value_counts()))"
   ]
  },
  {
   "cell_type": "code",
   "execution_count": 19,
   "metadata": {},
   "outputs": [
    {
     "data": {
      "text/plain": [
       "http        40338\n",
       "private     21853\n",
       "domain_u     9043\n",
       "smtp         7313\n",
       "ftp_data     6860\n",
       "eco_i        4586\n",
       "other        4359\n",
       "ecr_i        3077\n",
       "telnet       2353\n",
       "finger       1767\n",
       "ftp          1754\n",
       "Name: service, dtype: int64"
      ]
     },
     "execution_count": 19,
     "metadata": {},
     "output_type": "execute_result"
    }
   ],
   "source": [
    "#finding the top services from a total of 70 different services.\n",
    "train.service.value_counts()[0:11]"
   ]
  },
  {
   "cell_type": "code",
   "execution_count": 20,
   "metadata": {},
   "outputs": [],
   "source": [
    "# reducing no. of categories in service by combining low freq. categories into \"other\"\n",
    "cond=((train.service=='http')|(train.service=='private')|(train.service=='domain_u')|(train.service=='smtp')|(train.service=='ftp_data')|(train.service=='eco_i')|\n",
    "     (train.service=='ecr_i')|(train.service=='telnet')|(train.service=='finger')|(train.service=='ftp')|(train.service=='other'))\n",
    "\n",
    "train['service_n']=train['service'].where(cond,'new_others')"
   ]
  },
  {
   "cell_type": "markdown",
   "metadata": {},
   "source": [
    "* service_n has 12 diff. categories, checking if it has any relation to attack_flag using chi2-test\n",
    "* H0 : no relation b/w Service_n & attack_flag\n",
    "* H1 : relation exists b/w Service_n & attack_flag "
   ]
  },
  {
   "cell_type": "code",
   "execution_count": 21,
   "metadata": {},
   "outputs": [
    {
     "data": {
      "text/plain": [
       "(151404.87676599354,\n",
       " 0.0,\n",
       " 60,\n",
       " array([[3.29687997e+03, 4.83423233e+03, 8.36728569e+02, 7.14262977e+01,\n",
       "         3.73283164e+00, 9.04300000e+03],\n",
       "        [1.67195528e+03, 2.45159675e+03, 4.24332325e+02, 3.62226033e+01,\n",
       "         1.89304057e+00, 4.58600000e+03],\n",
       "        [1.12180689e+03, 1.64491130e+03, 2.84707929e+02, 2.43037397e+01,\n",
       "         1.27014519e+00, 3.07700000e+03],\n",
       "        [6.44209545e+02, 9.44607821e+02, 1.63496559e+02, 1.39566812e+01,\n",
       "         7.29394394e-01, 1.76700000e+03],\n",
       "        [6.39470029e+02, 9.37658244e+02, 1.62293698e+02, 1.38540005e+01,\n",
       "         7.24028165e-01, 1.75400000e+03],\n",
       "        [2.50100593e+03, 3.66723806e+03, 6.34740460e+02, 5.41838330e+01,\n",
       "         2.83171791e+00, 6.86000000e+03],\n",
       "        [1.47063524e+04, 2.15640013e+04, 3.73238494e+03, 3.18610417e+02,\n",
       "         1.66509966e+01, 4.03380000e+04],\n",
       "        [8.26498607e+03, 1.21189922e+04, 2.09760441e+03, 1.79059402e+02,\n",
       "         9.35787828e+00, 2.26700000e+04],\n",
       "        [1.58919604e+03, 2.33024646e+03, 4.03328523e+02, 3.44296397e+01,\n",
       "         1.79933795e+00, 4.35900000e+03],\n",
       "        [7.96712574e+03, 1.16822381e+04, 2.02200922e+03, 1.72606312e+02,\n",
       "         9.02063141e+00, 2.18530000e+04],\n",
       "        [2.66615982e+03, 3.90940407e+03, 6.76655537e+02, 5.77618617e+01,\n",
       "         3.01871036e+00, 7.31300000e+03],\n",
       "        [8.57852325e+02, 1.25787335e+03, 2.17717828e+02, 1.85852127e+01,\n",
       "         9.71287498e-01, 2.35300000e+03],\n",
       "        [4.59270000e+04, 6.73430000e+04, 1.16560000e+04, 9.95000000e+02,\n",
       "         5.20000000e+01, 1.25973000e+05]]))"
      ]
     },
     "execution_count": 21,
     "metadata": {},
     "output_type": "execute_result"
    }
   ],
   "source": [
    "t=pd.crosstab(train['service_n'],train['attack_flag'],margins=True)\n",
    "stats.chi2_contingency(observed=t)       "
   ]
  },
  {
   "cell_type": "markdown",
   "metadata": {},
   "source": [
    " * Since p-value < alpha(0.05), with 95% conf. Null-Hypo rejected, hence relation exists"
   ]
  },
  {
   "cell_type": "code",
   "execution_count": 22,
   "metadata": {},
   "outputs": [],
   "source": [
    "#dropping the redundant columns now\n",
    "train.drop(columns=['attack','service'],inplace=True)"
   ]
  },
  {
   "cell_type": "code",
   "execution_count": 23,
   "metadata": {},
   "outputs": [
    {
     "data": {
      "text/html": [
       "<div>\n",
       "<style scoped>\n",
       "    .dataframe tbody tr th:only-of-type {\n",
       "        vertical-align: middle;\n",
       "    }\n",
       "\n",
       "    .dataframe tbody tr th {\n",
       "        vertical-align: top;\n",
       "    }\n",
       "\n",
       "    .dataframe thead th {\n",
       "        text-align: right;\n",
       "    }\n",
       "</style>\n",
       "<table border=\"1\" class=\"dataframe\">\n",
       "  <thead>\n",
       "    <tr style=\"text-align: right;\">\n",
       "      <th></th>\n",
       "      <th>count</th>\n",
       "      <th>unique</th>\n",
       "      <th>top</th>\n",
       "      <th>freq</th>\n",
       "    </tr>\n",
       "  </thead>\n",
       "  <tbody>\n",
       "    <tr>\n",
       "      <th>protocol_type</th>\n",
       "      <td>125973</td>\n",
       "      <td>3</td>\n",
       "      <td>tcp</td>\n",
       "      <td>102689</td>\n",
       "    </tr>\n",
       "    <tr>\n",
       "      <th>flag</th>\n",
       "      <td>125973</td>\n",
       "      <td>11</td>\n",
       "      <td>SF</td>\n",
       "      <td>74945</td>\n",
       "    </tr>\n",
       "    <tr>\n",
       "      <th>service_n</th>\n",
       "      <td>125973</td>\n",
       "      <td>12</td>\n",
       "      <td>http</td>\n",
       "      <td>40338</td>\n",
       "    </tr>\n",
       "  </tbody>\n",
       "</table>\n",
       "</div>"
      ],
      "text/plain": [
       "                count unique   top    freq\n",
       "protocol_type  125973      3   tcp  102689\n",
       "flag           125973     11    SF   74945\n",
       "service_n      125973     12  http   40338"
      ]
     },
     "execution_count": 23,
     "metadata": {},
     "output_type": "execute_result"
    }
   ],
   "source": [
    "train.select_dtypes(include='object').describe().T"
   ]
  },
  {
   "cell_type": "code",
   "execution_count": 24,
   "metadata": {},
   "outputs": [],
   "source": [
    "# UDF for getting dummy vars.\n",
    "def dums(df):\n",
    "    df=pd.get_dummies(df,drop_first=True,prefix='dum')\n",
    "    return df"
   ]
  },
  {
   "cell_type": "code",
   "execution_count": 25,
   "metadata": {},
   "outputs": [],
   "source": [
    "dum_vars=dums(train.select_dtypes(include='object'))"
   ]
  },
  {
   "cell_type": "code",
   "execution_count": 26,
   "metadata": {},
   "outputs": [
    {
     "data": {
      "text/html": [
       "<div>\n",
       "<style scoped>\n",
       "    .dataframe tbody tr th:only-of-type {\n",
       "        vertical-align: middle;\n",
       "    }\n",
       "\n",
       "    .dataframe tbody tr th {\n",
       "        vertical-align: top;\n",
       "    }\n",
       "\n",
       "    .dataframe thead th {\n",
       "        text-align: right;\n",
       "    }\n",
       "</style>\n",
       "<table border=\"1\" class=\"dataframe\">\n",
       "  <thead>\n",
       "    <tr style=\"text-align: right;\">\n",
       "      <th></th>\n",
       "      <th>dum_tcp</th>\n",
       "      <th>dum_udp</th>\n",
       "      <th>dum_REJ</th>\n",
       "      <th>dum_RSTO</th>\n",
       "      <th>dum_RSTOS0</th>\n",
       "      <th>dum_RSTR</th>\n",
       "      <th>dum_S0</th>\n",
       "      <th>dum_S1</th>\n",
       "      <th>dum_S2</th>\n",
       "      <th>dum_S3</th>\n",
       "      <th>...</th>\n",
       "      <th>dum_ecr_i</th>\n",
       "      <th>dum_finger</th>\n",
       "      <th>dum_ftp</th>\n",
       "      <th>dum_ftp_data</th>\n",
       "      <th>dum_http</th>\n",
       "      <th>dum_new_others</th>\n",
       "      <th>dum_other</th>\n",
       "      <th>dum_private</th>\n",
       "      <th>dum_smtp</th>\n",
       "      <th>dum_telnet</th>\n",
       "    </tr>\n",
       "  </thead>\n",
       "  <tbody>\n",
       "    <tr>\n",
       "      <th>0</th>\n",
       "      <td>1</td>\n",
       "      <td>0</td>\n",
       "      <td>0</td>\n",
       "      <td>0</td>\n",
       "      <td>0</td>\n",
       "      <td>0</td>\n",
       "      <td>0</td>\n",
       "      <td>0</td>\n",
       "      <td>0</td>\n",
       "      <td>0</td>\n",
       "      <td>...</td>\n",
       "      <td>0</td>\n",
       "      <td>0</td>\n",
       "      <td>0</td>\n",
       "      <td>1</td>\n",
       "      <td>0</td>\n",
       "      <td>0</td>\n",
       "      <td>0</td>\n",
       "      <td>0</td>\n",
       "      <td>0</td>\n",
       "      <td>0</td>\n",
       "    </tr>\n",
       "  </tbody>\n",
       "</table>\n",
       "<p>1 rows × 23 columns</p>\n",
       "</div>"
      ],
      "text/plain": [
       "   dum_tcp  dum_udp  dum_REJ  dum_RSTO  dum_RSTOS0  dum_RSTR  dum_S0  dum_S1  \\\n",
       "0        1        0        0         0           0         0       0       0   \n",
       "\n",
       "   dum_S2  dum_S3  ...  dum_ecr_i  dum_finger  dum_ftp  dum_ftp_data  \\\n",
       "0       0       0  ...          0           0        0             1   \n",
       "\n",
       "   dum_http  dum_new_others  dum_other  dum_private  dum_smtp  dum_telnet  \n",
       "0         0               0          0            0         0           0  \n",
       "\n",
       "[1 rows x 23 columns]"
      ]
     },
     "execution_count": 26,
     "metadata": {},
     "output_type": "execute_result"
    }
   ],
   "source": [
    "dum_vars.head(1)"
   ]
  },
  {
   "cell_type": "code",
   "execution_count": 27,
   "metadata": {},
   "outputs": [
    {
     "name": "stdout",
     "output_type": "stream",
     "text": [
      "train dimensions : (125973, 42)\n",
      "dummy vars. dimension : (125973, 23)\n"
     ]
    }
   ],
   "source": [
    "print('train dimensions :',train.shape)\n",
    "print('dummy vars. dimension :',dum_vars.shape)"
   ]
  },
  {
   "cell_type": "code",
   "execution_count": 28,
   "metadata": {},
   "outputs": [
    {
     "name": "stdout",
     "output_type": "stream",
     "text": [
      "new train dimensions : (125973, 62)\n"
     ]
    }
   ],
   "source": [
    "train_new=pd.concat([train,dum_vars],axis=1)\n",
    "train_new.drop(columns=['protocol_type','flag','service_n'],inplace=True)\n",
    "print('new train dimensions :',train_new.shape)"
   ]
  },
  {
   "cell_type": "code",
   "execution_count": 29,
   "metadata": {},
   "outputs": [
    {
     "data": {
      "text/html": [
       "<div>\n",
       "<style scoped>\n",
       "    .dataframe tbody tr th:only-of-type {\n",
       "        vertical-align: middle;\n",
       "    }\n",
       "\n",
       "    .dataframe tbody tr th {\n",
       "        vertical-align: top;\n",
       "    }\n",
       "\n",
       "    .dataframe thead th {\n",
       "        text-align: right;\n",
       "    }\n",
       "</style>\n",
       "<table border=\"1\" class=\"dataframe\">\n",
       "  <thead>\n",
       "    <tr style=\"text-align: right;\">\n",
       "      <th></th>\n",
       "      <th>duration</th>\n",
       "      <th>src_bytes</th>\n",
       "      <th>dst_bytes</th>\n",
       "      <th>land</th>\n",
       "      <th>wrong_fragment</th>\n",
       "      <th>urgent</th>\n",
       "      <th>hot</th>\n",
       "      <th>num_failed_logins</th>\n",
       "      <th>logged_in</th>\n",
       "      <th>num_compromised</th>\n",
       "      <th>...</th>\n",
       "      <th>dum_ecr_i</th>\n",
       "      <th>dum_finger</th>\n",
       "      <th>dum_ftp</th>\n",
       "      <th>dum_ftp_data</th>\n",
       "      <th>dum_http</th>\n",
       "      <th>dum_new_others</th>\n",
       "      <th>dum_other</th>\n",
       "      <th>dum_private</th>\n",
       "      <th>dum_smtp</th>\n",
       "      <th>dum_telnet</th>\n",
       "    </tr>\n",
       "  </thead>\n",
       "  <tbody>\n",
       "    <tr>\n",
       "      <th>0</th>\n",
       "      <td>0</td>\n",
       "      <td>491</td>\n",
       "      <td>0</td>\n",
       "      <td>0</td>\n",
       "      <td>0</td>\n",
       "      <td>0</td>\n",
       "      <td>0</td>\n",
       "      <td>0</td>\n",
       "      <td>0</td>\n",
       "      <td>0</td>\n",
       "      <td>...</td>\n",
       "      <td>0</td>\n",
       "      <td>0</td>\n",
       "      <td>0</td>\n",
       "      <td>1</td>\n",
       "      <td>0</td>\n",
       "      <td>0</td>\n",
       "      <td>0</td>\n",
       "      <td>0</td>\n",
       "      <td>0</td>\n",
       "      <td>0</td>\n",
       "    </tr>\n",
       "    <tr>\n",
       "      <th>1</th>\n",
       "      <td>0</td>\n",
       "      <td>146</td>\n",
       "      <td>0</td>\n",
       "      <td>0</td>\n",
       "      <td>0</td>\n",
       "      <td>0</td>\n",
       "      <td>0</td>\n",
       "      <td>0</td>\n",
       "      <td>0</td>\n",
       "      <td>0</td>\n",
       "      <td>...</td>\n",
       "      <td>0</td>\n",
       "      <td>0</td>\n",
       "      <td>0</td>\n",
       "      <td>0</td>\n",
       "      <td>0</td>\n",
       "      <td>0</td>\n",
       "      <td>1</td>\n",
       "      <td>0</td>\n",
       "      <td>0</td>\n",
       "      <td>0</td>\n",
       "    </tr>\n",
       "    <tr>\n",
       "      <th>2</th>\n",
       "      <td>0</td>\n",
       "      <td>0</td>\n",
       "      <td>0</td>\n",
       "      <td>0</td>\n",
       "      <td>0</td>\n",
       "      <td>0</td>\n",
       "      <td>0</td>\n",
       "      <td>0</td>\n",
       "      <td>0</td>\n",
       "      <td>0</td>\n",
       "      <td>...</td>\n",
       "      <td>0</td>\n",
       "      <td>0</td>\n",
       "      <td>0</td>\n",
       "      <td>0</td>\n",
       "      <td>0</td>\n",
       "      <td>0</td>\n",
       "      <td>0</td>\n",
       "      <td>1</td>\n",
       "      <td>0</td>\n",
       "      <td>0</td>\n",
       "    </tr>\n",
       "    <tr>\n",
       "      <th>3</th>\n",
       "      <td>0</td>\n",
       "      <td>232</td>\n",
       "      <td>8153</td>\n",
       "      <td>0</td>\n",
       "      <td>0</td>\n",
       "      <td>0</td>\n",
       "      <td>0</td>\n",
       "      <td>0</td>\n",
       "      <td>1</td>\n",
       "      <td>0</td>\n",
       "      <td>...</td>\n",
       "      <td>0</td>\n",
       "      <td>0</td>\n",
       "      <td>0</td>\n",
       "      <td>0</td>\n",
       "      <td>1</td>\n",
       "      <td>0</td>\n",
       "      <td>0</td>\n",
       "      <td>0</td>\n",
       "      <td>0</td>\n",
       "      <td>0</td>\n",
       "    </tr>\n",
       "    <tr>\n",
       "      <th>4</th>\n",
       "      <td>0</td>\n",
       "      <td>199</td>\n",
       "      <td>420</td>\n",
       "      <td>0</td>\n",
       "      <td>0</td>\n",
       "      <td>0</td>\n",
       "      <td>0</td>\n",
       "      <td>0</td>\n",
       "      <td>1</td>\n",
       "      <td>0</td>\n",
       "      <td>...</td>\n",
       "      <td>0</td>\n",
       "      <td>0</td>\n",
       "      <td>0</td>\n",
       "      <td>0</td>\n",
       "      <td>1</td>\n",
       "      <td>0</td>\n",
       "      <td>0</td>\n",
       "      <td>0</td>\n",
       "      <td>0</td>\n",
       "      <td>0</td>\n",
       "    </tr>\n",
       "  </tbody>\n",
       "</table>\n",
       "<p>5 rows × 62 columns</p>\n",
       "</div>"
      ],
      "text/plain": [
       "   duration  src_bytes  dst_bytes  land  wrong_fragment  urgent  hot  \\\n",
       "0         0        491          0     0               0       0    0   \n",
       "1         0        146          0     0               0       0    0   \n",
       "2         0          0          0     0               0       0    0   \n",
       "3         0        232       8153     0               0       0    0   \n",
       "4         0        199        420     0               0       0    0   \n",
       "\n",
       "   num_failed_logins  logged_in  num_compromised  ...  dum_ecr_i  dum_finger  \\\n",
       "0                  0          0                0  ...          0           0   \n",
       "1                  0          0                0  ...          0           0   \n",
       "2                  0          0                0  ...          0           0   \n",
       "3                  0          1                0  ...          0           0   \n",
       "4                  0          1                0  ...          0           0   \n",
       "\n",
       "   dum_ftp  dum_ftp_data  dum_http  dum_new_others  dum_other  dum_private  \\\n",
       "0        0             1         0               0          0            0   \n",
       "1        0             0         0               0          1            0   \n",
       "2        0             0         0               0          0            1   \n",
       "3        0             0         1               0          0            0   \n",
       "4        0             0         1               0          0            0   \n",
       "\n",
       "   dum_smtp  dum_telnet  \n",
       "0         0           0  \n",
       "1         0           0  \n",
       "2         0           0  \n",
       "3         0           0  \n",
       "4         0           0  \n",
       "\n",
       "[5 rows x 62 columns]"
      ]
     },
     "execution_count": 29,
     "metadata": {},
     "output_type": "execute_result"
    }
   ],
   "source": [
    "train_new.head()"
   ]
  },
  {
   "cell_type": "markdown",
   "metadata": {},
   "source": [
    "* Scaling the data for ease of training and prediction (scaling helps in achieving faster gradient descent)"
   ]
  },
  {
   "cell_type": "code",
   "execution_count": 30,
   "metadata": {},
   "outputs": [],
   "source": [
    "mm= MinMaxScaler()\n",
    "at=train_new['attack_flag']  #we don't want to scale the multiclass target, hence assign to a new series and drop it\n",
    "train_new.drop(columns=['attack_flag'],inplace=True)\n",
    "train_scaled=mm.fit_transform(train_new)"
   ]
  },
  {
   "cell_type": "code",
   "execution_count": 31,
   "metadata": {},
   "outputs": [
    {
     "data": {
      "text/plain": [
       "(125973, 61)"
      ]
     },
     "execution_count": 31,
     "metadata": {},
     "output_type": "execute_result"
    }
   ],
   "source": [
    "train_scaled.shape"
   ]
  },
  {
   "cell_type": "code",
   "execution_count": 32,
   "metadata": {},
   "outputs": [
    {
     "name": "stdout",
     "output_type": "stream",
     "text": [
      "(125973, 62)\n"
     ]
    }
   ],
   "source": [
    "# new new train here\n",
    "train_new=pd.DataFrame(data=train_scaled,columns=train_new.columns)\n",
    "train_new=pd.concat([train_new,at],axis=1) #concat the target column\n",
    "print(train_new.shape)"
   ]
  },
  {
   "cell_type": "code",
   "execution_count": 33,
   "metadata": {},
   "outputs": [
    {
     "data": {
      "text/html": [
       "<div>\n",
       "<style scoped>\n",
       "    .dataframe tbody tr th:only-of-type {\n",
       "        vertical-align: middle;\n",
       "    }\n",
       "\n",
       "    .dataframe tbody tr th {\n",
       "        vertical-align: top;\n",
       "    }\n",
       "\n",
       "    .dataframe thead th {\n",
       "        text-align: right;\n",
       "    }\n",
       "</style>\n",
       "<table border=\"1\" class=\"dataframe\">\n",
       "  <thead>\n",
       "    <tr style=\"text-align: right;\">\n",
       "      <th></th>\n",
       "      <th>duration</th>\n",
       "      <th>src_bytes</th>\n",
       "      <th>dst_bytes</th>\n",
       "      <th>land</th>\n",
       "      <th>wrong_fragment</th>\n",
       "      <th>urgent</th>\n",
       "      <th>hot</th>\n",
       "      <th>num_failed_logins</th>\n",
       "      <th>logged_in</th>\n",
       "      <th>num_compromised</th>\n",
       "      <th>...</th>\n",
       "      <th>dum_finger</th>\n",
       "      <th>dum_ftp</th>\n",
       "      <th>dum_ftp_data</th>\n",
       "      <th>dum_http</th>\n",
       "      <th>dum_new_others</th>\n",
       "      <th>dum_other</th>\n",
       "      <th>dum_private</th>\n",
       "      <th>dum_smtp</th>\n",
       "      <th>dum_telnet</th>\n",
       "      <th>attack_flag</th>\n",
       "    </tr>\n",
       "  </thead>\n",
       "  <tbody>\n",
       "    <tr>\n",
       "      <th>0</th>\n",
       "      <td>0.0</td>\n",
       "      <td>3.558064e-07</td>\n",
       "      <td>0.000000e+00</td>\n",
       "      <td>0.0</td>\n",
       "      <td>0.0</td>\n",
       "      <td>0.0</td>\n",
       "      <td>0.0</td>\n",
       "      <td>0.0</td>\n",
       "      <td>0.0</td>\n",
       "      <td>0.0</td>\n",
       "      <td>...</td>\n",
       "      <td>0.0</td>\n",
       "      <td>0.0</td>\n",
       "      <td>1.0</td>\n",
       "      <td>0.0</td>\n",
       "      <td>0.0</td>\n",
       "      <td>0.0</td>\n",
       "      <td>0.0</td>\n",
       "      <td>0.0</td>\n",
       "      <td>0.0</td>\n",
       "      <td>1</td>\n",
       "    </tr>\n",
       "    <tr>\n",
       "      <th>1</th>\n",
       "      <td>0.0</td>\n",
       "      <td>1.057999e-07</td>\n",
       "      <td>0.000000e+00</td>\n",
       "      <td>0.0</td>\n",
       "      <td>0.0</td>\n",
       "      <td>0.0</td>\n",
       "      <td>0.0</td>\n",
       "      <td>0.0</td>\n",
       "      <td>0.0</td>\n",
       "      <td>0.0</td>\n",
       "      <td>...</td>\n",
       "      <td>0.0</td>\n",
       "      <td>0.0</td>\n",
       "      <td>0.0</td>\n",
       "      <td>0.0</td>\n",
       "      <td>0.0</td>\n",
       "      <td>1.0</td>\n",
       "      <td>0.0</td>\n",
       "      <td>0.0</td>\n",
       "      <td>0.0</td>\n",
       "      <td>1</td>\n",
       "    </tr>\n",
       "    <tr>\n",
       "      <th>2</th>\n",
       "      <td>0.0</td>\n",
       "      <td>0.000000e+00</td>\n",
       "      <td>0.000000e+00</td>\n",
       "      <td>0.0</td>\n",
       "      <td>0.0</td>\n",
       "      <td>0.0</td>\n",
       "      <td>0.0</td>\n",
       "      <td>0.0</td>\n",
       "      <td>0.0</td>\n",
       "      <td>0.0</td>\n",
       "      <td>...</td>\n",
       "      <td>0.0</td>\n",
       "      <td>0.0</td>\n",
       "      <td>0.0</td>\n",
       "      <td>0.0</td>\n",
       "      <td>0.0</td>\n",
       "      <td>0.0</td>\n",
       "      <td>1.0</td>\n",
       "      <td>0.0</td>\n",
       "      <td>0.0</td>\n",
       "      <td>0</td>\n",
       "    </tr>\n",
       "    <tr>\n",
       "      <th>3</th>\n",
       "      <td>0.0</td>\n",
       "      <td>1.681203e-07</td>\n",
       "      <td>6.223962e-06</td>\n",
       "      <td>0.0</td>\n",
       "      <td>0.0</td>\n",
       "      <td>0.0</td>\n",
       "      <td>0.0</td>\n",
       "      <td>0.0</td>\n",
       "      <td>1.0</td>\n",
       "      <td>0.0</td>\n",
       "      <td>...</td>\n",
       "      <td>0.0</td>\n",
       "      <td>0.0</td>\n",
       "      <td>0.0</td>\n",
       "      <td>1.0</td>\n",
       "      <td>0.0</td>\n",
       "      <td>0.0</td>\n",
       "      <td>0.0</td>\n",
       "      <td>0.0</td>\n",
       "      <td>0.0</td>\n",
       "      <td>1</td>\n",
       "    </tr>\n",
       "    <tr>\n",
       "      <th>4</th>\n",
       "      <td>0.0</td>\n",
       "      <td>1.442067e-07</td>\n",
       "      <td>3.206260e-07</td>\n",
       "      <td>0.0</td>\n",
       "      <td>0.0</td>\n",
       "      <td>0.0</td>\n",
       "      <td>0.0</td>\n",
       "      <td>0.0</td>\n",
       "      <td>1.0</td>\n",
       "      <td>0.0</td>\n",
       "      <td>...</td>\n",
       "      <td>0.0</td>\n",
       "      <td>0.0</td>\n",
       "      <td>0.0</td>\n",
       "      <td>1.0</td>\n",
       "      <td>0.0</td>\n",
       "      <td>0.0</td>\n",
       "      <td>0.0</td>\n",
       "      <td>0.0</td>\n",
       "      <td>0.0</td>\n",
       "      <td>1</td>\n",
       "    </tr>\n",
       "  </tbody>\n",
       "</table>\n",
       "<p>5 rows × 62 columns</p>\n",
       "</div>"
      ],
      "text/plain": [
       "   duration     src_bytes     dst_bytes  land  wrong_fragment  urgent  hot  \\\n",
       "0       0.0  3.558064e-07  0.000000e+00   0.0             0.0     0.0  0.0   \n",
       "1       0.0  1.057999e-07  0.000000e+00   0.0             0.0     0.0  0.0   \n",
       "2       0.0  0.000000e+00  0.000000e+00   0.0             0.0     0.0  0.0   \n",
       "3       0.0  1.681203e-07  6.223962e-06   0.0             0.0     0.0  0.0   \n",
       "4       0.0  1.442067e-07  3.206260e-07   0.0             0.0     0.0  0.0   \n",
       "\n",
       "   num_failed_logins  logged_in  num_compromised  ...  dum_finger  dum_ftp  \\\n",
       "0                0.0        0.0              0.0  ...         0.0      0.0   \n",
       "1                0.0        0.0              0.0  ...         0.0      0.0   \n",
       "2                0.0        0.0              0.0  ...         0.0      0.0   \n",
       "3                0.0        1.0              0.0  ...         0.0      0.0   \n",
       "4                0.0        1.0              0.0  ...         0.0      0.0   \n",
       "\n",
       "   dum_ftp_data  dum_http  dum_new_others  dum_other  dum_private  dum_smtp  \\\n",
       "0           1.0       0.0             0.0        0.0          0.0       0.0   \n",
       "1           0.0       0.0             0.0        1.0          0.0       0.0   \n",
       "2           0.0       0.0             0.0        0.0          1.0       0.0   \n",
       "3           0.0       1.0             0.0        0.0          0.0       0.0   \n",
       "4           0.0       1.0             0.0        0.0          0.0       0.0   \n",
       "\n",
       "   dum_telnet  attack_flag  \n",
       "0         0.0            1  \n",
       "1         0.0            1  \n",
       "2         0.0            0  \n",
       "3         0.0            1  \n",
       "4         0.0            1  \n",
       "\n",
       "[5 rows x 62 columns]"
      ]
     },
     "execution_count": 33,
     "metadata": {},
     "output_type": "execute_result"
    }
   ],
   "source": [
    "train_new.head()"
   ]
  },
  {
   "cell_type": "markdown",
   "metadata": {},
   "source": [
    "## ML Modelling"
   ]
  },
  {
   "cell_type": "code",
   "execution_count": 34,
   "metadata": {},
   "outputs": [
    {
     "data": {
      "text/plain": [
       "Index(['count', 'diff_srv_rate', 'dst_bytes', 'dst_host_count',\n",
       "       'dst_host_diff_srv_rate', 'dst_host_rerror_rate',\n",
       "       'dst_host_same_src_port_rate', 'dst_host_same_srv_rate',\n",
       "       'dst_host_serror_rate', 'dst_host_srv_count',\n",
       "       'dst_host_srv_diff_host_rate', 'dst_host_srv_rerror_rate',\n",
       "       'dst_host_srv_serror_rate', 'dum_REJ', 'dum_RSTO', 'dum_RSTOS0',\n",
       "       'dum_RSTR', 'dum_S0', 'dum_S1', 'dum_S2', 'dum_S3', 'dum_SF', 'dum_SH',\n",
       "       'dum_eco_i', 'dum_ecr_i', 'dum_finger', 'dum_ftp', 'dum_ftp_data',\n",
       "       'dum_http', 'dum_new_others', 'dum_other', 'dum_private', 'dum_smtp',\n",
       "       'dum_tcp', 'dum_telnet', 'dum_udp', 'duration', 'hot', 'is_guest_login',\n",
       "       'is_host_login', 'land', 'last_flag', 'logged_in', 'num_access_files',\n",
       "       'num_compromised', 'num_failed_logins', 'num_file_creations',\n",
       "       'num_root', 'num_shells', 'rerror_rate', 'root_shell', 'same_srv_rate',\n",
       "       'serror_rate', 'src_bytes', 'srv_count', 'srv_diff_host_rate',\n",
       "       'srv_rerror_rate', 'srv_serror_rate', 'su_attempted', 'urgent',\n",
       "       'wrong_fragment'],\n",
       "      dtype='object')"
      ]
     },
     "execution_count": 34,
     "metadata": {},
     "output_type": "execute_result"
    }
   ],
   "source": [
    "feature_cols=train_new.columns.difference(['attack_flag'])\n",
    "feature_cols"
   ]
  },
  {
   "cell_type": "code",
   "execution_count": 35,
   "metadata": {},
   "outputs": [
    {
     "name": "stdout",
     "output_type": "stream",
     "text": [
      "train_X : (88181, 61)\n",
      "train_y : (88181,)\n",
      "test_x : (37792, 61)\n",
      "test_y : (37792,)\n"
     ]
    }
   ],
   "source": [
    "# train-test split\n",
    "train_x, test_x, train_y, test_y = train_test_split(train_new[feature_cols], train_new['attack_flag'], test_size=.3, random_state=12345)\n",
    "print('train_X :',train_x.shape)\n",
    "print('train_y :',train_y.shape)\n",
    "print('test_x :',test_x.shape)\n",
    "print('test_y :',test_y.shape)"
   ]
  },
  {
   "cell_type": "markdown",
   "metadata": {},
   "source": [
    "### Logistic Regression"
   ]
  },
  {
   "cell_type": "code",
   "execution_count": 36,
   "metadata": {},
   "outputs": [
    {
     "name": "stderr",
     "output_type": "stream",
     "text": [
      "/opt/conda/lib/python3.6/site-packages/sklearn/linear_model/logistic.py:432: FutureWarning: Default solver will be changed to 'lbfgs' in 0.22. Specify a solver to silence this warning.\n",
      "  FutureWarning)\n",
      "/opt/conda/lib/python3.6/site-packages/sklearn/linear_model/logistic.py:469: FutureWarning: Default multi_class will be changed to 'auto' in 0.22. Specify the multi_class option to silence this warning.\n",
      "  \"this warning.\", FutureWarning)\n"
     ]
    }
   ],
   "source": [
    "# LOGISTIC REGRESSION\n",
    "logreg=LogisticRegression()\n",
    "model1=logreg.fit(train_x,train_y)"
   ]
  },
  {
   "cell_type": "code",
   "execution_count": 37,
   "metadata": {},
   "outputs": [
    {
     "data": {
      "text/html": [
       "<div>\n",
       "<style scoped>\n",
       "    .dataframe tbody tr th:only-of-type {\n",
       "        vertical-align: middle;\n",
       "    }\n",
       "\n",
       "    .dataframe tbody tr th {\n",
       "        vertical-align: top;\n",
       "    }\n",
       "\n",
       "    .dataframe thead th {\n",
       "        text-align: right;\n",
       "    }\n",
       "</style>\n",
       "<table border=\"1\" class=\"dataframe\">\n",
       "  <thead>\n",
       "    <tr style=\"text-align: right;\">\n",
       "      <th></th>\n",
       "      <th>Features</th>\n",
       "      <th>Coefs</th>\n",
       "    </tr>\n",
       "  </thead>\n",
       "  <tbody>\n",
       "    <tr>\n",
       "      <th>60</th>\n",
       "      <td>wrong_fragment</td>\n",
       "      <td>12.568531</td>\n",
       "    </tr>\n",
       "    <tr>\n",
       "      <th>24</th>\n",
       "      <td>dum_ecr_i</td>\n",
       "      <td>10.812860</td>\n",
       "    </tr>\n",
       "    <tr>\n",
       "      <th>56</th>\n",
       "      <td>srv_rerror_rate</td>\n",
       "      <td>7.051245</td>\n",
       "    </tr>\n",
       "    <tr>\n",
       "      <th>17</th>\n",
       "      <td>dum_S0</td>\n",
       "      <td>5.277638</td>\n",
       "    </tr>\n",
       "    <tr>\n",
       "      <th>54</th>\n",
       "      <td>srv_count</td>\n",
       "      <td>5.149891</td>\n",
       "    </tr>\n",
       "    <tr>\n",
       "      <th>8</th>\n",
       "      <td>dst_host_serror_rate</td>\n",
       "      <td>5.110095</td>\n",
       "    </tr>\n",
       "    <tr>\n",
       "      <th>7</th>\n",
       "      <td>dst_host_same_srv_rate</td>\n",
       "      <td>4.691629</td>\n",
       "    </tr>\n",
       "    <tr>\n",
       "      <th>37</th>\n",
       "      <td>hot</td>\n",
       "      <td>4.644205</td>\n",
       "    </tr>\n",
       "    <tr>\n",
       "      <th>57</th>\n",
       "      <td>srv_serror_rate</td>\n",
       "      <td>4.604908</td>\n",
       "    </tr>\n",
       "    <tr>\n",
       "      <th>5</th>\n",
       "      <td>dst_host_rerror_rate</td>\n",
       "      <td>3.897557</td>\n",
       "    </tr>\n",
       "  </tbody>\n",
       "</table>\n",
       "</div>"
      ],
      "text/plain": [
       "                  Features      Coefs\n",
       "60          wrong_fragment  12.568531\n",
       "24               dum_ecr_i  10.812860\n",
       "56         srv_rerror_rate   7.051245\n",
       "17                  dum_S0   5.277638\n",
       "54               srv_count   5.149891\n",
       "8     dst_host_serror_rate   5.110095\n",
       "7   dst_host_same_srv_rate   4.691629\n",
       "37                     hot   4.644205\n",
       "57         srv_serror_rate   4.604908\n",
       "5     dst_host_rerror_rate   3.897557"
      ]
     },
     "execution_count": 37,
     "metadata": {},
     "output_type": "execute_result"
    }
   ],
   "source": [
    "pd.DataFrame({'Features':train_x.columns,'Coefs':model1.coef_[0]}).sort_values(by='Coefs',ascending=False).head(10)"
   ]
  },
  {
   "cell_type": "code",
   "execution_count": 38,
   "metadata": {},
   "outputs": [
    {
     "data": {
      "text/html": [
       "<div>\n",
       "<style scoped>\n",
       "    .dataframe tbody tr th:only-of-type {\n",
       "        vertical-align: middle;\n",
       "    }\n",
       "\n",
       "    .dataframe tbody tr th {\n",
       "        vertical-align: top;\n",
       "    }\n",
       "\n",
       "    .dataframe thead th {\n",
       "        text-align: right;\n",
       "    }\n",
       "</style>\n",
       "<table border=\"1\" class=\"dataframe\">\n",
       "  <thead>\n",
       "    <tr style=\"text-align: right;\">\n",
       "      <th></th>\n",
       "      <th>index</th>\n",
       "      <th>actual</th>\n",
       "      <th>predicted</th>\n",
       "      <th>pred_0</th>\n",
       "      <th>pred_1</th>\n",
       "      <th>pred_2</th>\n",
       "      <th>pred_3</th>\n",
       "      <th>pred_4</th>\n",
       "    </tr>\n",
       "  </thead>\n",
       "  <tbody>\n",
       "    <tr>\n",
       "      <th>0</th>\n",
       "      <td>91284</td>\n",
       "      <td>0</td>\n",
       "      <td>0</td>\n",
       "      <td>0.725317</td>\n",
       "      <td>0.274390</td>\n",
       "      <td>3.051381e-07</td>\n",
       "      <td>0.000091</td>\n",
       "      <td>0.000202</td>\n",
       "    </tr>\n",
       "    <tr>\n",
       "      <th>1</th>\n",
       "      <td>120904</td>\n",
       "      <td>0</td>\n",
       "      <td>0</td>\n",
       "      <td>0.999796</td>\n",
       "      <td>0.000101</td>\n",
       "      <td>7.897322e-05</td>\n",
       "      <td>0.000018</td>\n",
       "      <td>0.000007</td>\n",
       "    </tr>\n",
       "    <tr>\n",
       "      <th>2</th>\n",
       "      <td>35391</td>\n",
       "      <td>1</td>\n",
       "      <td>1</td>\n",
       "      <td>0.011846</td>\n",
       "      <td>0.988102</td>\n",
       "      <td>3.233470e-09</td>\n",
       "      <td>0.000040</td>\n",
       "      <td>0.000012</td>\n",
       "    </tr>\n",
       "  </tbody>\n",
       "</table>\n",
       "</div>"
      ],
      "text/plain": [
       "    index  actual  predicted    pred_0    pred_1        pred_2    pred_3  \\\n",
       "0   91284       0          0  0.725317  0.274390  3.051381e-07  0.000091   \n",
       "1  120904       0          0  0.999796  0.000101  7.897322e-05  0.000018   \n",
       "2   35391       1          1  0.011846  0.988102  3.233470e-09  0.000040   \n",
       "\n",
       "     pred_4  \n",
       "0  0.000202  \n",
       "1  0.000007  \n",
       "2  0.000012  "
      ]
     },
     "execution_count": 38,
     "metadata": {},
     "output_type": "execute_result"
    }
   ],
   "source": [
    "proba_train=pd.DataFrame(model1.predict_proba(train_x),columns=['pred_0','pred_1','pred_2','pred_3','pred_4'])\n",
    "train_pred=pd.DataFrame({'actual':train_y,'predicted':model1.predict(train_x)})\n",
    "train_pred=train_pred.reset_index()\n",
    "\n",
    "train_pred_df=pd.concat([train_pred,proba_train],axis=1)\n",
    "train_pred_df.head(3)"
   ]
  },
  {
   "cell_type": "code",
   "execution_count": 39,
   "metadata": {},
   "outputs": [
    {
     "data": {
      "text/html": [
       "<div>\n",
       "<style scoped>\n",
       "    .dataframe tbody tr th:only-of-type {\n",
       "        vertical-align: middle;\n",
       "    }\n",
       "\n",
       "    .dataframe tbody tr th {\n",
       "        vertical-align: top;\n",
       "    }\n",
       "\n",
       "    .dataframe thead th {\n",
       "        text-align: right;\n",
       "    }\n",
       "</style>\n",
       "<table border=\"1\" class=\"dataframe\">\n",
       "  <thead>\n",
       "    <tr style=\"text-align: right;\">\n",
       "      <th></th>\n",
       "      <th>index</th>\n",
       "      <th>actual</th>\n",
       "      <th>predicted</th>\n",
       "      <th>pred_0</th>\n",
       "      <th>pred_1</th>\n",
       "      <th>pred_2</th>\n",
       "      <th>pred_3</th>\n",
       "      <th>pred_4</th>\n",
       "    </tr>\n",
       "  </thead>\n",
       "  <tbody>\n",
       "    <tr>\n",
       "      <th>0</th>\n",
       "      <td>112168</td>\n",
       "      <td>0</td>\n",
       "      <td>0</td>\n",
       "      <td>0.970402</td>\n",
       "      <td>0.022851</td>\n",
       "      <td>6.701910e-03</td>\n",
       "      <td>0.000030</td>\n",
       "      <td>0.000014</td>\n",
       "    </tr>\n",
       "    <tr>\n",
       "      <th>1</th>\n",
       "      <td>66607</td>\n",
       "      <td>1</td>\n",
       "      <td>1</td>\n",
       "      <td>0.012252</td>\n",
       "      <td>0.987696</td>\n",
       "      <td>3.501433e-09</td>\n",
       "      <td>0.000039</td>\n",
       "      <td>0.000012</td>\n",
       "    </tr>\n",
       "    <tr>\n",
       "      <th>2</th>\n",
       "      <td>108068</td>\n",
       "      <td>0</td>\n",
       "      <td>0</td>\n",
       "      <td>0.917296</td>\n",
       "      <td>0.082582</td>\n",
       "      <td>1.681997e-05</td>\n",
       "      <td>0.000003</td>\n",
       "      <td>0.000103</td>\n",
       "    </tr>\n",
       "  </tbody>\n",
       "</table>\n",
       "</div>"
      ],
      "text/plain": [
       "    index  actual  predicted    pred_0    pred_1        pred_2    pred_3  \\\n",
       "0  112168       0          0  0.970402  0.022851  6.701910e-03  0.000030   \n",
       "1   66607       1          1  0.012252  0.987696  3.501433e-09  0.000039   \n",
       "2  108068       0          0  0.917296  0.082582  1.681997e-05  0.000003   \n",
       "\n",
       "     pred_4  \n",
       "0  0.000014  \n",
       "1  0.000012  \n",
       "2  0.000103  "
      ]
     },
     "execution_count": 39,
     "metadata": {},
     "output_type": "execute_result"
    }
   ],
   "source": [
    "proba_test=pd.DataFrame(model1.predict_proba(test_x),columns=['pred_0','pred_1','pred_2','pred_3','pred_4'])\n",
    "test_pred=pd.DataFrame({'actual':test_y,'predicted':model1.predict(test_x)})\n",
    "test_pred=test_pred.reset_index()\n",
    "test_pred_df=pd.concat([test_pred,proba_test],axis=1)\n",
    "test_pred_df.head(3)"
   ]
  },
  {
   "cell_type": "code",
   "execution_count": 40,
   "metadata": {},
   "outputs": [],
   "source": [
    "# model 1 evaluation metrics\n",
    "model1_tr_accu=metrics.accuracy_score(train_pred_df['actual'],train_pred_df['predicted'])\n",
    "model1_te_accu=metrics.accuracy_score(test_pred_df['actual'],test_pred_df['predicted'])"
   ]
  },
  {
   "cell_type": "markdown",
   "metadata": {},
   "source": [
    "### Decision Trees"
   ]
  },
  {
   "cell_type": "code",
   "execution_count": 41,
   "metadata": {},
   "outputs": [],
   "source": [
    "# DECISION TREE\n",
    "dt=DecisionTreeClassifier(random_state=12345)\n",
    "para=[{'max_depth':[18,19,20],\n",
    "      'max_features':[24,25,26]}]\n",
    "grid1=GridSearchCV(dt, param_grid=para, cv=5, scoring='accuracy',n_jobs=-1)"
   ]
  },
  {
   "cell_type": "code",
   "execution_count": 42,
   "metadata": {},
   "outputs": [
    {
     "data": {
      "text/plain": [
       "GridSearchCV(cv=5, error_score='raise-deprecating',\n",
       "             estimator=DecisionTreeClassifier(class_weight=None,\n",
       "                                              criterion='gini', max_depth=None,\n",
       "                                              max_features=None,\n",
       "                                              max_leaf_nodes=None,\n",
       "                                              min_impurity_decrease=0.0,\n",
       "                                              min_impurity_split=None,\n",
       "                                              min_samples_leaf=1,\n",
       "                                              min_samples_split=2,\n",
       "                                              min_weight_fraction_leaf=0.0,\n",
       "                                              presort=False, random_state=12345,\n",
       "                                              splitter='best'),\n",
       "             iid='warn', n_jobs=-1,\n",
       "             param_grid=[{'max_depth': [18, 19, 20],\n",
       "                          'max_features': [24, 25, 26]}],\n",
       "             pre_dispatch='2*n_jobs', refit=True, return_train_score=False,\n",
       "             scoring='accuracy', verbose=0)"
      ]
     },
     "execution_count": 42,
     "metadata": {},
     "output_type": "execute_result"
    }
   ],
   "source": [
    "grid1.fit(train_x,train_y)"
   ]
  },
  {
   "cell_type": "code",
   "execution_count": 43,
   "metadata": {},
   "outputs": [
    {
     "data": {
      "text/plain": [
       "{'max_depth': 18, 'max_features': 26}"
      ]
     },
     "execution_count": 43,
     "metadata": {},
     "output_type": "execute_result"
    }
   ],
   "source": [
    "grid1.best_params_"
   ]
  },
  {
   "cell_type": "code",
   "execution_count": 44,
   "metadata": {},
   "outputs": [],
   "source": [
    "dt_model=DecisionTreeClassifier(max_depth=19, max_features=25, random_state=12345)\n",
    "dt_model=dt_model.fit(train_x,train_y)"
   ]
  },
  {
   "cell_type": "code",
   "execution_count": 45,
   "metadata": {},
   "outputs": [],
   "source": [
    "dt_train_pred=dt_model.predict(train_x)\n",
    "dt_test_pred=dt_model.predict(test_x)"
   ]
  },
  {
   "cell_type": "code",
   "execution_count": 46,
   "metadata": {},
   "outputs": [],
   "source": [
    "# decision tree evaluation metrics\n",
    "dt_tr_ac=metrics.accuracy_score(train_y,dt_train_pred)\n",
    "dt_te_ac=metrics.accuracy_score(test_y,dt_test_pred)"
   ]
  },
  {
   "cell_type": "markdown",
   "metadata": {},
   "source": [
    "### Random Forests"
   ]
  },
  {
   "cell_type": "code",
   "execution_count": 47,
   "metadata": {},
   "outputs": [],
   "source": [
    "# randomforest classifier\n",
    "bg=RandomForestClassifier(random_state=12345)\n",
    "para=[{'max_features':[21,22,23],\n",
    "      'n_estimators':[50,60,70]}]\n",
    "grid2=GridSearchCV(bg,param_grid=para,cv=5, n_jobs=-1)"
   ]
  },
  {
   "cell_type": "code",
   "execution_count": 48,
   "metadata": {},
   "outputs": [
    {
     "data": {
      "text/plain": [
       "GridSearchCV(cv=5, error_score='raise-deprecating',\n",
       "             estimator=RandomForestClassifier(bootstrap=True, class_weight=None,\n",
       "                                              criterion='gini', max_depth=None,\n",
       "                                              max_features='auto',\n",
       "                                              max_leaf_nodes=None,\n",
       "                                              min_impurity_decrease=0.0,\n",
       "                                              min_impurity_split=None,\n",
       "                                              min_samples_leaf=1,\n",
       "                                              min_samples_split=2,\n",
       "                                              min_weight_fraction_leaf=0.0,\n",
       "                                              n_estimators='warn', n_jobs=None,\n",
       "                                              oob_score=False,\n",
       "                                              random_state=12345, verbose=0,\n",
       "                                              warm_start=False),\n",
       "             iid='warn', n_jobs=-1,\n",
       "             param_grid=[{'max_features': [21, 22, 23],\n",
       "                          'n_estimators': [50, 60, 70]}],\n",
       "             pre_dispatch='2*n_jobs', refit=True, return_train_score=False,\n",
       "             scoring=None, verbose=0)"
      ]
     },
     "execution_count": 48,
     "metadata": {},
     "output_type": "execute_result"
    }
   ],
   "source": [
    "grid2.fit(train_x,train_y)"
   ]
  },
  {
   "cell_type": "code",
   "execution_count": 49,
   "metadata": {},
   "outputs": [
    {
     "data": {
      "text/plain": [
       "{'max_features': 21, 'n_estimators': 50}"
      ]
     },
     "execution_count": 49,
     "metadata": {},
     "output_type": "execute_result"
    }
   ],
   "source": [
    "grid2.best_params_"
   ]
  },
  {
   "cell_type": "code",
   "execution_count": 50,
   "metadata": {},
   "outputs": [],
   "source": [
    "rf_model=RandomForestClassifier(max_features=21, n_estimators=50, random_state=12345, n_jobs=-1)\n",
    "rf_model=rf_model.fit(train_x,train_y)"
   ]
  },
  {
   "cell_type": "code",
   "execution_count": 51,
   "metadata": {},
   "outputs": [
    {
     "data": {
      "text/plain": [
       "<matplotlib.axes._subplots.AxesSubplot at 0x7fd93fdc0438>"
      ]
     },
     "execution_count": 51,
     "metadata": {},
     "output_type": "execute_result"
    },
    {
     "data": {
      "image/png": "[encoded data removed]",
      "text/plain": [
       "<Figure size 720x936 with 1 Axes>"
      ]
     },
     "metadata": {},
     "output_type": "display_data"
    }
   ],
   "source": [
    "plt.figure(figsize=(10,13))\n",
    "rf_imp_fet=pd.DataFrame({'Features':train_x.columns, 'Imp':rf_model.feature_importances_.round(2)})\n",
    "rf_imp_fet=rf_imp_fet.sort_values(by='Imp',ascending=False)\n",
    "sns.barplot(y=rf_imp_fet['Features'],x=rf_imp_fet['Imp'])"
   ]
  },
  {
   "cell_type": "code",
   "execution_count": 52,
   "metadata": {},
   "outputs": [],
   "source": [
    "rf_train_pred=rf_model.predict(train_x)\n",
    "rf_test_pred=rf_model.predict(test_x)"
   ]
  },
  {
   "cell_type": "code",
   "execution_count": 53,
   "metadata": {},
   "outputs": [],
   "source": [
    "# random forest evaluation metrics\n",
    "rf_tr_ac=metrics.accuracy_score(train_y, rf_train_pred)\n",
    "rf_te_ac=metrics.accuracy_score(test_y, rf_test_pred)"
   ]
  },
  {
   "cell_type": "markdown",
   "metadata": {},
   "source": [
    "## Model Evaluation"
   ]
  },
  {
   "cell_type": "code",
   "execution_count": 54,
   "metadata": {},
   "outputs": [],
   "source": [
    "eva_train_df=pd.DataFrame(columns=['Accuracy'], index=['LogReg','D.Trees','RandomForest'], data=[model1_tr_accu, dt_tr_ac, rf_tr_ac])\n",
    "eva_test_df=pd.DataFrame(columns=['Accuracy'], index=['LogReg','D.Trees','RandomForest'], data=[model1_te_accu, dt_te_ac, rf_te_ac])"
   ]
  },
  {
   "cell_type": "code",
   "execution_count": 55,
   "metadata": {},
   "outputs": [
    {
     "data": {
      "text/html": [
       "<div>\n",
       "<style scoped>\n",
       "    .dataframe tbody tr th:only-of-type {\n",
       "        vertical-align: middle;\n",
       "    }\n",
       "\n",
       "    .dataframe tbody tr th {\n",
       "        vertical-align: top;\n",
       "    }\n",
       "\n",
       "    .dataframe thead th {\n",
       "        text-align: right;\n",
       "    }\n",
       "</style>\n",
       "<table border=\"1\" class=\"dataframe\">\n",
       "  <thead>\n",
       "    <tr style=\"text-align: right;\">\n",
       "      <th></th>\n",
       "      <th>Accuracy</th>\n",
       "    </tr>\n",
       "  </thead>\n",
       "  <tbody>\n",
       "    <tr>\n",
       "      <th>LogReg</th>\n",
       "      <td>0.988886</td>\n",
       "    </tr>\n",
       "    <tr>\n",
       "      <th>D.Trees</th>\n",
       "      <td>0.999739</td>\n",
       "    </tr>\n",
       "    <tr>\n",
       "      <th>RandomForest</th>\n",
       "      <td>0.999989</td>\n",
       "    </tr>\n",
       "  </tbody>\n",
       "</table>\n",
       "</div>"
      ],
      "text/plain": [
       "              Accuracy\n",
       "LogReg        0.988886\n",
       "D.Trees       0.999739\n",
       "RandomForest  0.999989"
      ]
     },
     "execution_count": 55,
     "metadata": {},
     "output_type": "execute_result"
    }
   ],
   "source": [
    "eva_train_df"
   ]
  },
  {
   "cell_type": "code",
   "execution_count": 56,
   "metadata": {},
   "outputs": [
    {
     "data": {
      "text/html": [
       "<div>\n",
       "<style scoped>\n",
       "    .dataframe tbody tr th:only-of-type {\n",
       "        vertical-align: middle;\n",
       "    }\n",
       "\n",
       "    .dataframe tbody tr th {\n",
       "        vertical-align: top;\n",
       "    }\n",
       "\n",
       "    .dataframe thead th {\n",
       "        text-align: right;\n",
       "    }\n",
       "</style>\n",
       "<table border=\"1\" class=\"dataframe\">\n",
       "  <thead>\n",
       "    <tr style=\"text-align: right;\">\n",
       "      <th></th>\n",
       "      <th>Accuracy</th>\n",
       "    </tr>\n",
       "  </thead>\n",
       "  <tbody>\n",
       "    <tr>\n",
       "      <th>LogReg</th>\n",
       "      <td>0.987802</td>\n",
       "    </tr>\n",
       "    <tr>\n",
       "      <th>D.Trees</th>\n",
       "      <td>0.997777</td>\n",
       "    </tr>\n",
       "    <tr>\n",
       "      <th>RandomForest</th>\n",
       "      <td>0.999286</td>\n",
       "    </tr>\n",
       "  </tbody>\n",
       "</table>\n",
       "</div>"
      ],
      "text/plain": [
       "              Accuracy\n",
       "LogReg        0.987802\n",
       "D.Trees       0.997777\n",
       "RandomForest  0.999286"
      ]
     },
     "execution_count": 56,
     "metadata": {},
     "output_type": "execute_result"
    }
   ],
   "source": [
    "eva_test_df"
   ]
  },
  {
   "cell_type": "code",
   "execution_count": 57,
   "metadata": {},
   "outputs": [
    {
     "data": {
      "text/plain": [
       "<matplotlib.axes._subplots.AxesSubplot at 0x7fd93fa4e128>"
      ]
     },
     "execution_count": 57,
     "metadata": {},
     "output_type": "execute_result"
    },
    {
     "data": {
      "image/png": "[encoded data removed]",
      "text/plain": [
       "<Figure size 1008x504 with 3 Axes>"
      ]
     },
     "metadata": {},
     "output_type": "display_data"
    }
   ],
   "source": [
    "f,(ax1,ax2,ax3)=plt.subplots(1,3,figsize=(14,7))\n",
    "f.suptitle('Confusion Matrix for Train Data')\n",
    "ax1.set_title('Logistic Reg.')\n",
    "sns.heatmap(metrics.confusion_matrix(train_y,train_pred_df['predicted']),fmt='d',annot=True,ax=ax1,square=True,cbar=False,cmap='Greens')\n",
    "ax2.set_title('Decision Trees')\n",
    "sns.heatmap(metrics.confusion_matrix(train_y,dt_train_pred),fmt='d',annot=True,ax=ax2,square=True,cbar=False,cmap='Greens')\n",
    "ax3.set_title('Random Forest')\n",
    "sns.heatmap(metrics.confusion_matrix(train_y,rf_train_pred),fmt='d',annot=True,ax=ax3,square=True,cbar=False,cmap='Greens')"
   ]
  },
  {
   "cell_type": "code",
   "execution_count": 58,
   "metadata": {},
   "outputs": [
    {
     "data": {
      "text/plain": [
       "<matplotlib.axes._subplots.AxesSubplot at 0x7fd93f965438>"
      ]
     },
     "execution_count": 58,
     "metadata": {},
     "output_type": "execute_result"
    },
    {
     "data": {
      "image/png": "[encoded data removed]",
      "text/plain": [
       "<Figure size 1008x504 with 3 Axes>"
      ]
     },
     "metadata": {},
     "output_type": "display_data"
    }
   ],
   "source": [
    "f,(ax1,ax2,ax3)=plt.subplots(1,3,figsize=(14,7))\n",
    "f.suptitle('Confusion Matrix for Test Data')\n",
    "ax1.set_title('Logistic Reg.')\n",
    "sns.heatmap(metrics.confusion_matrix(test_y,test_pred_df['predicted']),fmt='d',annot=True,ax=ax1,square=True,cbar=False,cmap='Reds')\n",
    "ax2.set_title('Decision Trees')\n",
    "sns.heatmap(metrics.confusion_matrix(test_y,dt_test_pred),fmt='d',annot=True,ax=ax2,square=True,cbar=False,cmap='Reds')\n",
    "ax3.set_title('Random Forest')\n",
    "sns.heatmap(metrics.confusion_matrix(test_y,rf_test_pred),fmt='d',annot=True,ax=ax3,square=True,cbar=False,cmap='Reds')"
   ]
  },
  {
   "cell_type": "markdown",
   "metadata": {},
   "source": [
    "#### Evaluating Heatmap Scores\n",
    "* As clear from heatmaps of both train and test data all 3 models are able to predict max number of class0 as class0, max number of class1 as class1 & so on.\n",
    "* The number of false predictions are low across all the 3 models, with the least in Random Forest Model(best model)."
   ]
  },
  {
   "cell_type": "code",
   "execution_count": 59,
   "metadata": {},
   "outputs": [
    {
     "data": {
      "text/plain": [
       "<matplotlib.axes._subplots.AxesSubplot at 0x7fd93f8815f8>"
      ]
     },
     "execution_count": 59,
     "metadata": {},
     "output_type": "execute_result"
    },
    {
     "data": {
      "image/png": "[encoded data removed]",
      "text/plain": [
       "<Figure size 720x360 with 2 Axes>"
      ]
     },
     "metadata": {},
     "output_type": "display_data"
    }
   ],
   "source": [
    "f,(ax1,ax2)=plt.subplots(1,2,figsize=(10,5))\n",
    "f.suptitle('Accuracy of Diff. models for Train & Test data')\n",
    "ax1.set_title('Train Data')\n",
    "sns.pointplot(x=['LogReg','DTrees','Random Forest'], y=eva_train_df.Accuracy.to_list(),data=eva_train_df,ax=ax1, color='green')\n",
    "ax2.set_title('Test Data')\n",
    "sns.pointplot(x=['LogReg','DTrees','Random Forest'], y=eva_test_df.Accuracy.to_list(),data=eva_test_df,ax=ax2, color='red')\n",
    "#eva_train_df.iloc[0]"
   ]
  },
  {
   "cell_type": "markdown",
   "metadata": {},
   "source": [
    "* Since Random Forest model, with parameters (max_features=21, n_estimators=50) gave the highest accuracy, it shall be used to classify attack class in the future."
   ]
  },
  {
   "cell_type": "markdown",
   "metadata": {},
   "source": [
    "~ ~ END ~ ~\n",
    "* C.Varun"
   ]
  },
  {
   "cell_type": "code",
   "execution_count": null,
   "metadata": {},
   "outputs": [],
   "source": []
  }
 ],
 "metadata": {
  "kernelspec": {
   "display_name": "Python 3",
   "language": "python",
   "name": "python3"
  },
  "language_info": {
   "codemirror_mode": {
    "name": "ipython",
    "version": 3
   },
   "file_extension": ".py",
   "mimetype": "text/x-python",
   "name": "python",
   "nbconvert_exporter": "python",
   "pygments_lexer": "ipython3",
   "version": "3.7.4"
  }
 },
 "nbformat": 4,
 "nbformat_minor": 1
}
